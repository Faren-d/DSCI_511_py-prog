{
 "cells": [
  {
   "cell_type": "markdown",
   "metadata": {
    "slideshow": {
     "slide_type": "slide"
    }
   },
   "source": [
    "# Lecture 7: Mapping and nested data frames"
   ]
  },
  {
   "cell_type": "markdown",
   "metadata": {
    "slideshow": {
     "slide_type": "slide"
    }
   },
   "source": [
    "### Lecture learning objectives:\n",
    "\n",
    "By then end of this lecture & worksheet 7, students should be able to:\n",
    "\n",
    "* Write and use anonymous functions in R in isolation and in combination the functional {purrr} `map`\n",
    "* (OPTIONAL) Understand the general ideas of the `map*`, `map2*` and `pmap*` variant functions in the {purrr} package and the six types of output options (list, double, integer, logical, character and data frame).\n",
    "* Create and modify nested data frames using {dplyr} `group_by` + {tidyr} `nest` and {purrr} `map*` functions\n",
    "* Create unnested data frames using {tidyr} `unnest` \n",
    "* Describe situations where nested data frames are useful "
   ]
  },
  {
   "cell_type": "code",
   "execution_count": 1,
   "metadata": {},
   "outputs": [
    {
     "name": "stderr",
     "output_type": "stream",
     "text": [
      "── \u001b[1mAttaching core tidyverse packages\u001b[22m ────────────────────────────────────────────────────────────────────────────────────────────────── tidyverse 2.0.0 ──\n",
      "\u001b[32m✔\u001b[39m \u001b[34mdplyr    \u001b[39m 1.1.2     \u001b[32m✔\u001b[39m \u001b[34mreadr    \u001b[39m 2.1.4\n",
      "\u001b[32m✔\u001b[39m \u001b[34mforcats  \u001b[39m 1.0.0     \u001b[32m✔\u001b[39m \u001b[34mstringr  \u001b[39m 1.5.0\n",
      "\u001b[32m✔\u001b[39m \u001b[34mggplot2  \u001b[39m 3.4.3     \u001b[32m✔\u001b[39m \u001b[34mtibble   \u001b[39m 3.2.1\n",
      "\u001b[32m✔\u001b[39m \u001b[34mlubridate\u001b[39m 1.9.2     \u001b[32m✔\u001b[39m \u001b[34mtidyr    \u001b[39m 1.3.0\n",
      "\u001b[32m✔\u001b[39m \u001b[34mpurrr    \u001b[39m 1.0.2     \n"
     ]
    },
    {
     "name": "stderr",
     "output_type": "stream",
     "text": [
      "── \u001b[1mConflicts\u001b[22m ──────────────────────────────────────────────────────────────────────────────────────────────────────────────────── tidyverse_conflicts() ──\n",
      "\u001b[31m✖\u001b[39m \u001b[34mdplyr\u001b[39m::\u001b[32mfilter()\u001b[39m masks \u001b[34mstats\u001b[39m::filter()\n",
      "\u001b[31m✖\u001b[39m \u001b[34mdplyr\u001b[39m::\u001b[32mlag()\u001b[39m    masks \u001b[34mstats\u001b[39m::lag()\n",
      "\u001b[36mℹ\u001b[39m Use the conflicted package (\u001b[3m\u001b[34m<http://conflicted.r-lib.org/>\u001b[39m\u001b[23m) to force all conflicts to become errors\n"
     ]
    }
   ],
   "source": [
    "library(gapminder)\n",
    "library(infer)\n",
    "library(tidyverse)\n",
    "options(repr.matrix.max.rows = 10)"
   ]
  },
  {
   "cell_type": "markdown",
   "metadata": {
    "slideshow": {
     "slide_type": "slide"
    }
   },
   "source": [
    "## More functional style programming in R with `purrr`\n",
    "\n",
    "\n",
    "![](https://ih1.redbubble.net/image.329884292.2339/sticker,375x360-bg,ffffff.u1.png)\n",
    "\n",
    "https://purrr.tidyverse.org/"
   ]
  },
  {
   "cell_type": "markdown",
   "metadata": {
    "slideshow": {
     "slide_type": "slide"
    }
   },
   "source": [
    "### Passing arguments to functions you are mapping\n",
    "\n",
    "- What if you need to pass arguments to the functions you are mapping, in some cases you can take advantage of `...` (e.g., `na.rm = TRUE`) but if things get more complex than that, anonymous functions are your friends. \n",
    "\n",
    "- For example, imagine mapping `str_replace` to all the columns of a very wide and nested data frame to replace all instances of `\"Cdn\"` with `\"Canadian\"` to fix a data entry error that occurs in several columns in a data set that occur in a nested list column. Here we need to provide the arguments `pattern` and `replacement` in addition to the data we are operating on.\n",
    "\n",
    "- This is probably the only time I use anonymous functions regularly."
   ]
  },
  {
   "cell_type": "markdown",
   "metadata": {
    "slideshow": {
     "slide_type": "notes"
    }
   },
   "source": [
    "#### Anonymous functions in R\n",
    "\n",
    "General format: `function(x) body_of_function`\n",
    " \n",
    " To use one in the global environment, outside of another function call, you do the following:"
   ]
  },
  {
   "cell_type": "code",
   "execution_count": 2,
   "metadata": {
    "slideshow": {
     "slide_type": "notes"
    }
   },
   "outputs": [
    {
     "data": {
      "text/html": [
       "2"
      ],
      "text/latex": [
       "2"
      ],
      "text/markdown": [
       "2"
      ],
      "text/plain": [
       "[1] 2"
      ]
     },
     "metadata": {},
     "output_type": "display_data"
    }
   ],
   "source": [
    "(function(x) x + 1)(1)"
   ]
  },
  {
   "cell_type": "markdown",
   "metadata": {
    "slideshow": {
     "slide_type": "fragment"
    }
   },
   "source": [
    "Above the function takes in x as an argument and adds one to it. The function definition is surrounded by round brackets, as is the value being passed to the anonymous function."
   ]
  },
  {
   "cell_type": "markdown",
   "metadata": {
    "slideshow": {
     "slide_type": "slide"
    }
   },
   "source": [
    "#### Back to anonymous function calls within {purrr} `map_*`\n",
    "\n",
    "Long form:\n",
    "\n",
    "```\n",
    "map_*(data, function(arg) function_being_called(arg, other_arg))\n",
    "```\n"
   ]
  },
  {
   "cell_type": "markdown",
   "metadata": {
    "slideshow": {
     "slide_type": "fragment"
    }
   },
   "source": [
    "Short form:\n",
    "\n",
    "```\n",
    "map_*(data, ~ function_being_called(., other_arg))\n",
    "```"
   ]
  },
  {
   "cell_type": "markdown",
   "metadata": {
    "slideshow": {
     "slide_type": "fragment"
    }
   },
   "source": [
    "In the shortcut we replace `function(arg)` with a `~` and replace the `arg` in the function call with a `.`"
   ]
  },
  {
   "cell_type": "markdown",
   "metadata": {
    "slideshow": {
     "slide_type": "slide"
    }
   },
   "source": [
    "#### Example:\n",
    "\n",
    "Map `str_replace` to all the columns of a very wide data frame to replace all instances of `\"Cdn\"` with `\"Canadian\"` to fix a data entry error that occurs in several columns in a data set. "
   ]
  },
  {
   "cell_type": "code",
   "execution_count": 3,
   "metadata": {},
   "outputs": [
    {
     "data": {
      "text/html": [
       "<table class=\"dataframe\">\n",
       "<caption>A tibble: 3 × 3</caption>\n",
       "<thead>\n",
       "\t<tr><th scope=col>id</th><th scope=col>birth_citizenship</th><th scope=col>current_citizenship</th></tr>\n",
       "\t<tr><th scope=col>&lt;chr&gt;</th><th scope=col>&lt;chr&gt;</th><th scope=col>&lt;chr&gt;</th></tr>\n",
       "</thead>\n",
       "<tbody>\n",
       "\t<tr><td>25323</td><td>Canadian</td><td>Canadian  </td></tr>\n",
       "\t<tr><td>45234</td><td>American</td><td>Vietnamese</td></tr>\n",
       "\t<tr><td>23471</td><td>Cdn     </td><td>Cdn       </td></tr>\n",
       "</tbody>\n",
       "</table>\n"
      ],
      "text/latex": [
       "A tibble: 3 × 3\n",
       "\\begin{tabular}{lll}\n",
       " id & birth\\_citizenship & current\\_citizenship\\\\\n",
       " <chr> & <chr> & <chr>\\\\\n",
       "\\hline\n",
       "\t 25323 & Canadian & Canadian  \\\\\n",
       "\t 45234 & American & Vietnamese\\\\\n",
       "\t 23471 & Cdn      & Cdn       \\\\\n",
       "\\end{tabular}\n"
      ],
      "text/markdown": [
       "\n",
       "A tibble: 3 × 3\n",
       "\n",
       "| id &lt;chr&gt; | birth_citizenship &lt;chr&gt; | current_citizenship &lt;chr&gt; |\n",
       "|---|---|---|\n",
       "| 25323 | Canadian | Canadian   |\n",
       "| 45234 | American | Vietnamese |\n",
       "| 23471 | Cdn      | Cdn        |\n",
       "\n"
      ],
      "text/plain": [
       "  id    birth_citizenship current_citizenship\n",
       "1 25323 Canadian          Canadian           \n",
       "2 45234 American          Vietnamese         \n",
       "3 23471 Cdn               Cdn                "
      ]
     },
     "metadata": {},
     "output_type": "display_data"
    }
   ],
   "source": [
    "data_entry <- tibble(id = c(\"25323\", \"45234\", \"23471\"),\n",
    "                    birth_citizenship = c(\"Canadian\", \"American\", \"Cdn\"),\n",
    "                    current_citizenship = c(\"Canadian\", \"Vietnamese\", \"Cdn\"))\n",
    "data_entry"
   ]
  },
  {
   "cell_type": "markdown",
   "metadata": {},
   "source": [
    "Using verbose anonymous function syntax:"
   ]
  },
  {
   "cell_type": "code",
   "execution_count": 4,
   "metadata": {},
   "outputs": [
    {
     "data": {
      "text/html": [
       "<table class=\"dataframe\">\n",
       "<caption>A tibble: 3 × 3</caption>\n",
       "<thead>\n",
       "\t<tr><th scope=col>id</th><th scope=col>birth_citizenship</th><th scope=col>current_citizenship</th></tr>\n",
       "\t<tr><th scope=col>&lt;chr&gt;</th><th scope=col>&lt;chr&gt;</th><th scope=col>&lt;chr&gt;</th></tr>\n",
       "</thead>\n",
       "<tbody>\n",
       "\t<tr><td>25323</td><td>Canadian</td><td>Canadian  </td></tr>\n",
       "\t<tr><td>45234</td><td>American</td><td>Vietnamese</td></tr>\n",
       "\t<tr><td>23471</td><td>Canadian</td><td>Canadian  </td></tr>\n",
       "</tbody>\n",
       "</table>\n"
      ],
      "text/latex": [
       "A tibble: 3 × 3\n",
       "\\begin{tabular}{lll}\n",
       " id & birth\\_citizenship & current\\_citizenship\\\\\n",
       " <chr> & <chr> & <chr>\\\\\n",
       "\\hline\n",
       "\t 25323 & Canadian & Canadian  \\\\\n",
       "\t 45234 & American & Vietnamese\\\\\n",
       "\t 23471 & Canadian & Canadian  \\\\\n",
       "\\end{tabular}\n"
      ],
      "text/markdown": [
       "\n",
       "A tibble: 3 × 3\n",
       "\n",
       "| id &lt;chr&gt; | birth_citizenship &lt;chr&gt; | current_citizenship &lt;chr&gt; |\n",
       "|---|---|---|\n",
       "| 25323 | Canadian | Canadian   |\n",
       "| 45234 | American | Vietnamese |\n",
       "| 23471 | Canadian | Canadian   |\n",
       "\n"
      ],
      "text/plain": [
       "  id    birth_citizenship current_citizenship\n",
       "1 25323 Canadian          Canadian           \n",
       "2 45234 American          Vietnamese         \n",
       "3 23471 Canadian          Canadian           "
      ]
     },
     "metadata": {},
     "output_type": "display_data"
    }
   ],
   "source": [
    "map_df(data_entry, function(vect) str_replace(vect, pattern = \"Cdn\", replacement = \"Canadian\"))"
   ]
  },
  {
   "cell_type": "markdown",
   "metadata": {},
   "source": [
    "Using shorthand anonymous function syntax:"
   ]
  },
  {
   "cell_type": "code",
   "execution_count": 5,
   "metadata": {},
   "outputs": [
    {
     "data": {
      "text/html": [
       "<table class=\"dataframe\">\n",
       "<caption>A tibble: 3 × 3</caption>\n",
       "<thead>\n",
       "\t<tr><th scope=col>id</th><th scope=col>birth_citizenship</th><th scope=col>current_citizenship</th></tr>\n",
       "\t<tr><th scope=col>&lt;chr&gt;</th><th scope=col>&lt;chr&gt;</th><th scope=col>&lt;chr&gt;</th></tr>\n",
       "</thead>\n",
       "<tbody>\n",
       "\t<tr><td>25323</td><td>Canadian</td><td>Canadian  </td></tr>\n",
       "\t<tr><td>45234</td><td>American</td><td>Vietnamese</td></tr>\n",
       "\t<tr><td>23471</td><td>Canadian</td><td>Canadian  </td></tr>\n",
       "</tbody>\n",
       "</table>\n"
      ],
      "text/latex": [
       "A tibble: 3 × 3\n",
       "\\begin{tabular}{lll}\n",
       " id & birth\\_citizenship & current\\_citizenship\\\\\n",
       " <chr> & <chr> & <chr>\\\\\n",
       "\\hline\n",
       "\t 25323 & Canadian & Canadian  \\\\\n",
       "\t 45234 & American & Vietnamese\\\\\n",
       "\t 23471 & Canadian & Canadian  \\\\\n",
       "\\end{tabular}\n"
      ],
      "text/markdown": [
       "\n",
       "A tibble: 3 × 3\n",
       "\n",
       "| id &lt;chr&gt; | birth_citizenship &lt;chr&gt; | current_citizenship &lt;chr&gt; |\n",
       "|---|---|---|\n",
       "| 25323 | Canadian | Canadian   |\n",
       "| 45234 | American | Vietnamese |\n",
       "| 23471 | Canadian | Canadian   |\n",
       "\n"
      ],
      "text/plain": [
       "  id    birth_citizenship current_citizenship\n",
       "1 25323 Canadian          Canadian           \n",
       "2 45234 American          Vietnamese         \n",
       "3 23471 Canadian          Canadian           "
      ]
     },
     "metadata": {},
     "output_type": "display_data"
    }
   ],
   "source": [
    "map_df(data_entry, ~str_replace(., pattern = \"Cdn\", replacement = \"Canadian\"))"
   ]
  },
  {
   "cell_type": "markdown",
   "metadata": {},
   "source": [
    "Acknowledgement: here you do not need to use an anonymous function, you can take advantage of `...` but we will see more complicated cases later in the lecture and in the lab. Complicated cases arise when you are working with nested data frames."
   ]
  },
  {
   "cell_type": "code",
   "execution_count": 6,
   "metadata": {},
   "outputs": [
    {
     "data": {
      "text/html": [
       "<table class=\"dataframe\">\n",
       "<caption>A tibble: 3 × 3</caption>\n",
       "<thead>\n",
       "\t<tr><th scope=col>id</th><th scope=col>birth_citizenship</th><th scope=col>current_citizenship</th></tr>\n",
       "\t<tr><th scope=col>&lt;chr&gt;</th><th scope=col>&lt;chr&gt;</th><th scope=col>&lt;chr&gt;</th></tr>\n",
       "</thead>\n",
       "<tbody>\n",
       "\t<tr><td>25323</td><td>Canadian</td><td>Canadian  </td></tr>\n",
       "\t<tr><td>45234</td><td>American</td><td>Vietnamese</td></tr>\n",
       "\t<tr><td>23471</td><td>Canadian</td><td>Canadian  </td></tr>\n",
       "</tbody>\n",
       "</table>\n"
      ],
      "text/latex": [
       "A tibble: 3 × 3\n",
       "\\begin{tabular}{lll}\n",
       " id & birth\\_citizenship & current\\_citizenship\\\\\n",
       " <chr> & <chr> & <chr>\\\\\n",
       "\\hline\n",
       "\t 25323 & Canadian & Canadian  \\\\\n",
       "\t 45234 & American & Vietnamese\\\\\n",
       "\t 23471 & Canadian & Canadian  \\\\\n",
       "\\end{tabular}\n"
      ],
      "text/markdown": [
       "\n",
       "A tibble: 3 × 3\n",
       "\n",
       "| id &lt;chr&gt; | birth_citizenship &lt;chr&gt; | current_citizenship &lt;chr&gt; |\n",
       "|---|---|---|\n",
       "| 25323 | Canadian | Canadian   |\n",
       "| 45234 | American | Vietnamese |\n",
       "| 23471 | Canadian | Canadian   |\n",
       "\n"
      ],
      "text/plain": [
       "  id    birth_citizenship current_citizenship\n",
       "1 25323 Canadian          Canadian           \n",
       "2 45234 American          Vietnamese         \n",
       "3 23471 Canadian          Canadian           "
      ]
     },
     "metadata": {},
     "output_type": "display_data"
    }
   ],
   "source": [
    "map_df(data_entry, str_replace, pattern = \"Cdn\", replacement = \"Canadian\")"
   ]
  },
  {
   "cell_type": "markdown",
   "metadata": {
    "slideshow": {
     "slide_type": "slide"
    }
   },
   "source": [
    "## (OPTIONAL) Mapping with > 1 data objects\n",
    "\n",
    "What if the function you want to map takes in > 1 data objects?"
   ]
  },
  {
   "cell_type": "markdown",
   "metadata": {
    "slideshow": {
     "slide_type": "fragment"
    }
   },
   "source": [
    "`map2*` and `pmap*` are your friends here!"
   ]
  },
  {
   "cell_type": "markdown",
   "metadata": {
    "slideshow": {
     "slide_type": "slide"
    }
   },
   "source": [
    "#### `purrr::map2*`\n",
    "\n",
    "```\n",
    "map2*(.x, .y, .f, ...)\n",
    "```\n",
    "\n",
    "Above reads as: `for` every element of `.x` and `.y` apply `.f` "
   ]
  },
  {
   "cell_type": "markdown",
   "metadata": {
    "slideshow": {
     "slide_type": "fragment"
    }
   },
   "source": [
    "Or picture as..."
   ]
  },
  {
   "cell_type": "markdown",
   "metadata": {
    "slideshow": {
     "slide_type": "slide"
    }
   },
   "source": [
    "<img src=\"img/minis_map2_data.png\" width=700>\n",
    "\n",
    "*Source: [purrr workshop](https://speakerdeck.com/jennybc/purrr-workshop) by Jenny Bryan*"
   ]
  },
  {
   "cell_type": "markdown",
   "metadata": {
    "slideshow": {
     "slide_type": "slide"
    }
   },
   "source": [
    "<img src=\"img/minis_map2.png\" width=700>\n",
    "\n",
    "*Source: [purrr workshop](https://speakerdeck.com/jennybc/purrr-workshop) by Jenny Bryan*"
   ]
  },
  {
   "cell_type": "markdown",
   "metadata": {
    "slideshow": {
     "slide_type": "slide"
    }
   },
   "source": [
    "#### `purrr::map2_df` example:\n",
    "\n",
    "\n",
    "For example, say you want to calculate a weighted means (using `weighted.mean`) for columns of a data frame where you had another data frame containing those weights.\n",
    "\n",
    "Let's make some data:"
   ]
  },
  {
   "cell_type": "code",
   "execution_count": 7,
   "metadata": {},
   "outputs": [
    {
     "data": {
      "text/html": [
       "<table class=\"dataframe\">\n",
       "<caption>A tibble: 10 × 5</caption>\n",
       "<thead>\n",
       "\t<tr><th scope=col>frequency</th><th scope=col>loudness</th><th scope=col>power</th><th scope=col>rating</th><th scope=col>year</th></tr>\n",
       "\t<tr><th scope=col>&lt;dbl&gt;</th><th scope=col>&lt;dbl&gt;</th><th scope=col>&lt;dbl&gt;</th><th scope=col>&lt;dbl&gt;</th><th scope=col>&lt;dbl&gt;</th></tr>\n",
       "</thead>\n",
       "<tbody>\n",
       "\t<tr><td>        NA</td><td>0.29928484</td><td>0.9747050</td><td> 7</td><td>2007</td></tr>\n",
       "\t<tr><td>0.94488173</td><td>0.09498296</td><td>0.3195299</td><td> 6</td><td>2004</td></tr>\n",
       "\t<tr><td>0.06430703</td><td>0.75076494</td><td>0.1093798</td><td> 4</td><td>2000</td></tr>\n",
       "\t<tr><td>0.66311490</td><td>0.11986162</td><td>0.1976913</td><td> 4</td><td>2001</td></tr>\n",
       "\t<tr><td>0.79811511</td><td>0.66261406</td><td>0.6987351</td><td> 5</td><td>2006</td></tr>\n",
       "\t<tr><td>0.35341882</td><td>0.77016832</td><td>0.2643873</td><td> 2</td><td>2004</td></tr>\n",
       "\t<tr><td>0.70003954</td><td>0.74544000</td><td>0.6595869</td><td>12</td><td>2006</td></tr>\n",
       "\t<tr><td>0.27753500</td><td>0.03708645</td><td>0.8215544</td><td> 5</td><td>2004</td></tr>\n",
       "\t<tr><td>0.41782020</td><td>0.30498115</td><td>0.8076714</td><td> 8</td><td>2002</td></tr>\n",
       "\t<tr><td>0.51801876</td><td>0.65198220</td><td>0.7182342</td><td> 8</td><td>2002</td></tr>\n",
       "</tbody>\n",
       "</table>\n"
      ],
      "text/latex": [
       "A tibble: 10 × 5\n",
       "\\begin{tabular}{lllll}\n",
       " frequency & loudness & power & rating & year\\\\\n",
       " <dbl> & <dbl> & <dbl> & <dbl> & <dbl>\\\\\n",
       "\\hline\n",
       "\t         NA & 0.29928484 & 0.9747050 &  7 & 2007\\\\\n",
       "\t 0.94488173 & 0.09498296 & 0.3195299 &  6 & 2004\\\\\n",
       "\t 0.06430703 & 0.75076494 & 0.1093798 &  4 & 2000\\\\\n",
       "\t 0.66311490 & 0.11986162 & 0.1976913 &  4 & 2001\\\\\n",
       "\t 0.79811511 & 0.66261406 & 0.6987351 &  5 & 2006\\\\\n",
       "\t 0.35341882 & 0.77016832 & 0.2643873 &  2 & 2004\\\\\n",
       "\t 0.70003954 & 0.74544000 & 0.6595869 & 12 & 2006\\\\\n",
       "\t 0.27753500 & 0.03708645 & 0.8215544 &  5 & 2004\\\\\n",
       "\t 0.41782020 & 0.30498115 & 0.8076714 &  8 & 2002\\\\\n",
       "\t 0.51801876 & 0.65198220 & 0.7182342 &  8 & 2002\\\\\n",
       "\\end{tabular}\n"
      ],
      "text/markdown": [
       "\n",
       "A tibble: 10 × 5\n",
       "\n",
       "| frequency &lt;dbl&gt; | loudness &lt;dbl&gt; | power &lt;dbl&gt; | rating &lt;dbl&gt; | year &lt;dbl&gt; |\n",
       "|---|---|---|---|---|\n",
       "|         NA | 0.29928484 | 0.9747050 |  7 | 2007 |\n",
       "| 0.94488173 | 0.09498296 | 0.3195299 |  6 | 2004 |\n",
       "| 0.06430703 | 0.75076494 | 0.1093798 |  4 | 2000 |\n",
       "| 0.66311490 | 0.11986162 | 0.1976913 |  4 | 2001 |\n",
       "| 0.79811511 | 0.66261406 | 0.6987351 |  5 | 2006 |\n",
       "| 0.35341882 | 0.77016832 | 0.2643873 |  2 | 2004 |\n",
       "| 0.70003954 | 0.74544000 | 0.6595869 | 12 | 2006 |\n",
       "| 0.27753500 | 0.03708645 | 0.8215544 |  5 | 2004 |\n",
       "| 0.41782020 | 0.30498115 | 0.8076714 |  8 | 2002 |\n",
       "| 0.51801876 | 0.65198220 | 0.7182342 |  8 | 2002 |\n",
       "\n"
      ],
      "text/plain": [
       "   frequency  loudness   power     rating year\n",
       "1          NA 0.29928484 0.9747050  7     2007\n",
       "2  0.94488173 0.09498296 0.3195299  6     2004\n",
       "3  0.06430703 0.75076494 0.1093798  4     2000\n",
       "4  0.66311490 0.11986162 0.1976913  4     2001\n",
       "5  0.79811511 0.66261406 0.6987351  5     2006\n",
       "6  0.35341882 0.77016832 0.2643873  2     2004\n",
       "7  0.70003954 0.74544000 0.6595869 12     2006\n",
       "8  0.27753500 0.03708645 0.8215544  5     2004\n",
       "9  0.41782020 0.30498115 0.8076714  8     2002\n",
       "10 0.51801876 0.65198220 0.7182342  8     2002"
      ]
     },
     "metadata": {},
     "output_type": "display_data"
    }
   ],
   "source": [
    "data <- tibble(frequency = runif(10),\n",
    "             loudness = runif(10),\n",
    "               power = runif(10),\n",
    "              rating = rpois(10, 5) + 1,\n",
    "                year = rpois(10, 5) + 1999)\n",
    "data[1, 1] <- NA\n",
    "data"
   ]
  },
  {
   "cell_type": "code",
   "execution_count": 8,
   "metadata": {
    "slideshow": {
     "slide_type": "fragment"
    }
   },
   "outputs": [
    {
     "data": {
      "text/html": [
       "<table class=\"dataframe\">\n",
       "<caption>A tibble: 10 × 3</caption>\n",
       "<thead>\n",
       "\t<tr><th scope=col>x1</th><th scope=col>x2</th><th scope=col>x3</th></tr>\n",
       "\t<tr><th scope=col>&lt;dbl&gt;</th><th scope=col>&lt;dbl&gt;</th><th scope=col>&lt;dbl&gt;</th></tr>\n",
       "</thead>\n",
       "<tbody>\n",
       "\t<tr><td>       NA</td><td>0.2732932</td><td>0.71900574</td></tr>\n",
       "\t<tr><td>0.7244835</td><td>0.8624498</td><td>0.61410237</td></tr>\n",
       "\t<tr><td>0.4521288</td><td>0.3486197</td><td>0.57179511</td></tr>\n",
       "\t<tr><td>0.4706145</td><td>0.6461463</td><td>0.23985692</td></tr>\n",
       "\t<tr><td>0.7041028</td><td>0.2699722</td><td>0.85534005</td></tr>\n",
       "\t<tr><td>0.2836669</td><td>0.4933256</td><td>0.01685466</td></tr>\n",
       "\t<tr><td>0.6346044</td><td>0.1072139</td><td>0.58845668</td></tr>\n",
       "\t<tr><td>0.3964798</td><td>0.9409658</td><td>0.11361613</td></tr>\n",
       "\t<tr><td>0.6522924</td><td>0.9607407</td><td>0.49734788</td></tr>\n",
       "\t<tr><td>0.6328389</td><td>0.9489378</td><td>0.92839176</td></tr>\n",
       "</tbody>\n",
       "</table>\n"
      ],
      "text/latex": [
       "A tibble: 10 × 3\n",
       "\\begin{tabular}{lll}\n",
       " x1 & x2 & x3\\\\\n",
       " <dbl> & <dbl> & <dbl>\\\\\n",
       "\\hline\n",
       "\t        NA & 0.2732932 & 0.71900574\\\\\n",
       "\t 0.7244835 & 0.8624498 & 0.61410237\\\\\n",
       "\t 0.4521288 & 0.3486197 & 0.57179511\\\\\n",
       "\t 0.4706145 & 0.6461463 & 0.23985692\\\\\n",
       "\t 0.7041028 & 0.2699722 & 0.85534005\\\\\n",
       "\t 0.2836669 & 0.4933256 & 0.01685466\\\\\n",
       "\t 0.6346044 & 0.1072139 & 0.58845668\\\\\n",
       "\t 0.3964798 & 0.9409658 & 0.11361613\\\\\n",
       "\t 0.6522924 & 0.9607407 & 0.49734788\\\\\n",
       "\t 0.6328389 & 0.9489378 & 0.92839176\\\\\n",
       "\\end{tabular}\n"
      ],
      "text/markdown": [
       "\n",
       "A tibble: 10 × 3\n",
       "\n",
       "| x1 &lt;dbl&gt; | x2 &lt;dbl&gt; | x3 &lt;dbl&gt; |\n",
       "|---|---|---|\n",
       "|        NA | 0.2732932 | 0.71900574 |\n",
       "| 0.7244835 | 0.8624498 | 0.61410237 |\n",
       "| 0.4521288 | 0.3486197 | 0.57179511 |\n",
       "| 0.4706145 | 0.6461463 | 0.23985692 |\n",
       "| 0.7041028 | 0.2699722 | 0.85534005 |\n",
       "| 0.2836669 | 0.4933256 | 0.01685466 |\n",
       "| 0.6346044 | 0.1072139 | 0.58845668 |\n",
       "| 0.3964798 | 0.9409658 | 0.11361613 |\n",
       "| 0.6522924 | 0.9607407 | 0.49734788 |\n",
       "| 0.6328389 | 0.9489378 | 0.92839176 |\n",
       "\n"
      ],
      "text/plain": [
       "   x1        x2        x3        \n",
       "1         NA 0.2732932 0.71900574\n",
       "2  0.7244835 0.8624498 0.61410237\n",
       "3  0.4521288 0.3486197 0.57179511\n",
       "4  0.4706145 0.6461463 0.23985692\n",
       "5  0.7041028 0.2699722 0.85534005\n",
       "6  0.2836669 0.4933256 0.01685466\n",
       "7  0.6346044 0.1072139 0.58845668\n",
       "8  0.3964798 0.9409658 0.11361613\n",
       "9  0.6522924 0.9607407 0.49734788\n",
       "10 0.6328389 0.9489378 0.92839176"
      ]
     },
     "metadata": {},
     "output_type": "display_data"
    },
    {
     "data": {
      "text/html": [
       "<table class=\"dataframe\">\n",
       "<caption>A tibble: 10 × 3</caption>\n",
       "<thead>\n",
       "\t<tr><th scope=col>x1</th><th scope=col>x2</th><th scope=col>x3</th></tr>\n",
       "\t<tr><th scope=col>&lt;dbl&gt;</th><th scope=col>&lt;dbl&gt;</th><th scope=col>&lt;dbl&gt;</th></tr>\n",
       "</thead>\n",
       "<tbody>\n",
       "\t<tr><td>4</td><td>3</td><td>12</td></tr>\n",
       "\t<tr><td>5</td><td>2</td><td> 9</td></tr>\n",
       "\t<tr><td>7</td><td>6</td><td> 5</td></tr>\n",
       "\t<tr><td>7</td><td>6</td><td> 3</td></tr>\n",
       "\t<tr><td>7</td><td>9</td><td> 2</td></tr>\n",
       "\t<tr><td>3</td><td>4</td><td> 3</td></tr>\n",
       "\t<tr><td>5</td><td>5</td><td> 5</td></tr>\n",
       "\t<tr><td>7</td><td>5</td><td>11</td></tr>\n",
       "\t<tr><td>4</td><td>5</td><td> 7</td></tr>\n",
       "\t<tr><td>4</td><td>4</td><td>10</td></tr>\n",
       "</tbody>\n",
       "</table>\n"
      ],
      "text/latex": [
       "A tibble: 10 × 3\n",
       "\\begin{tabular}{lll}\n",
       " x1 & x2 & x3\\\\\n",
       " <dbl> & <dbl> & <dbl>\\\\\n",
       "\\hline\n",
       "\t 4 & 3 & 12\\\\\n",
       "\t 5 & 2 &  9\\\\\n",
       "\t 7 & 6 &  5\\\\\n",
       "\t 7 & 6 &  3\\\\\n",
       "\t 7 & 9 &  2\\\\\n",
       "\t 3 & 4 &  3\\\\\n",
       "\t 5 & 5 &  5\\\\\n",
       "\t 7 & 5 & 11\\\\\n",
       "\t 4 & 5 &  7\\\\\n",
       "\t 4 & 4 & 10\\\\\n",
       "\\end{tabular}\n"
      ],
      "text/markdown": [
       "\n",
       "A tibble: 10 × 3\n",
       "\n",
       "| x1 &lt;dbl&gt; | x2 &lt;dbl&gt; | x3 &lt;dbl&gt; |\n",
       "|---|---|---|\n",
       "| 4 | 3 | 12 |\n",
       "| 5 | 2 |  9 |\n",
       "| 7 | 6 |  5 |\n",
       "| 7 | 6 |  3 |\n",
       "| 7 | 9 |  2 |\n",
       "| 3 | 4 |  3 |\n",
       "| 5 | 5 |  5 |\n",
       "| 7 | 5 | 11 |\n",
       "| 4 | 5 |  7 |\n",
       "| 4 | 4 | 10 |\n",
       "\n"
      ],
      "text/plain": [
       "   x1 x2 x3\n",
       "1  4  3  12\n",
       "2  5  2   9\n",
       "3  7  6   5\n",
       "4  7  6   3\n",
       "5  7  9   2\n",
       "6  3  4   3\n",
       "7  5  5   5\n",
       "8  7  5  11\n",
       "9  4  5   7\n",
       "10 4  4  10"
      ]
     },
     "metadata": {},
     "output_type": "display_data"
    }
   ],
   "source": [
    "library(dplyr, quietly = TRUE)\n",
    "data <- tibble(x1 = runif(10),\n",
    "               x2 = runif(10),\n",
    "               x3 = runif(10))\n",
    "data[1, 1] <- NA\n",
    "weights <- tibble(x1 = rpois(10, 5) + 1,\n",
    "                 x2 = rpois(10, 5) + 1,\n",
    "                 x3 = rpois(10, 5) + 1,)\n",
    "\n",
    "data\n",
    "weights"
   ]
  },
  {
   "cell_type": "markdown",
   "metadata": {
    "slideshow": {
     "slide_type": "slide"
    }
   },
   "source": [
    "### `purrr::map2_df` example:\n",
    "\n",
    "Let's use `map2_df` to calculate the weighted mean using these two data frames."
   ]
  },
  {
   "cell_type": "code",
   "execution_count": 9,
   "metadata": {
    "slideshow": {
     "slide_type": "fragment"
    }
   },
   "outputs": [],
   "source": [
    "?weighted.mean"
   ]
  },
  {
   "cell_type": "markdown",
   "metadata": {},
   "source": [
    "Now that we know how to use `weighted.mean`, let's map it! (and use `na.rm = TRUE` to deal with NA's)"
   ]
  },
  {
   "cell_type": "code",
   "execution_count": 10,
   "metadata": {
    "slideshow": {
     "slide_type": "fragment"
    }
   },
   "outputs": [
    {
     "data": {
      "text/html": [
       "<table class=\"dataframe\">\n",
       "<caption>A tibble: 1 × 3</caption>\n",
       "<thead>\n",
       "\t<tr><th scope=col>x1</th><th scope=col>x2</th><th scope=col>x3</th></tr>\n",
       "\t<tr><th scope=col>&lt;dbl&gt;</th><th scope=col>&lt;dbl&gt;</th><th scope=col>&lt;dbl&gt;</th></tr>\n",
       "</thead>\n",
       "<tbody>\n",
       "\t<tr><td>0.550005</td><td>0.5460567</td><td>0.5440626</td></tr>\n",
       "</tbody>\n",
       "</table>\n"
      ],
      "text/latex": [
       "A tibble: 1 × 3\n",
       "\\begin{tabular}{lll}\n",
       " x1 & x2 & x3\\\\\n",
       " <dbl> & <dbl> & <dbl>\\\\\n",
       "\\hline\n",
       "\t 0.550005 & 0.5460567 & 0.5440626\\\\\n",
       "\\end{tabular}\n"
      ],
      "text/markdown": [
       "\n",
       "A tibble: 1 × 3\n",
       "\n",
       "| x1 &lt;dbl&gt; | x2 &lt;dbl&gt; | x3 &lt;dbl&gt; |\n",
       "|---|---|---|\n",
       "| 0.550005 | 0.5460567 | 0.5440626 |\n",
       "\n"
      ],
      "text/plain": [
       "  x1       x2        x3       \n",
       "1 0.550005 0.5460567 0.5440626"
      ]
     },
     "metadata": {},
     "output_type": "display_data"
    }
   ],
   "source": [
    "map2_df(data, weights, weighted.mean, na.rm = TRUE)"
   ]
  },
  {
   "cell_type": "markdown",
   "metadata": {
    "slideshow": {
     "slide_type": "fragment"
    }
   },
   "source": [
    "Not too bad eh! "
   ]
  },
  {
   "cell_type": "markdown",
   "metadata": {
    "slideshow": {
     "slide_type": "slide"
    }
   },
   "source": [
    "#### `purrr::map2*`\n",
    "\n",
    "Also, if `y` has less elements than `x`, it recycles `y`:\n",
    "\n",
    "<img src=\"https://d33wubrfki0l68.cloudfront.net/55032525ec77409e381dcd200a47e1787e65b964/dcaef/diagrams/functionals/map2-recycle.png\" width=400>"
   ]
  },
  {
   "cell_type": "markdown",
   "metadata": {
    "slideshow": {
     "slide_type": "fragment"
    }
   },
   "source": [
    "This is most useful when y has only one element."
   ]
  },
  {
   "cell_type": "markdown",
   "metadata": {
    "slideshow": {
     "slide_type": "slide"
    }
   },
   "source": [
    "#### `purrr::pmap*`\n",
    "\n",
    "```\n",
    "pmap*(list(.x1, .x2, ... .xn), .f, ...)\n",
    "```\n",
    "\n",
    "Above reads as: `for` every element of in the **list** (that contains `.x1, .x2, ... .xn`) apply `.f` "
   ]
  },
  {
   "cell_type": "markdown",
   "metadata": {
    "slideshow": {
     "slide_type": "fragment"
    }
   },
   "source": [
    "But what happens when you have > 2 arguments?"
   ]
  },
  {
   "cell_type": "markdown",
   "metadata": {
    "slideshow": {
     "slide_type": "slide"
    }
   },
   "source": [
    "## (OPTIONAL) Mapping more than two arguments\n",
    "\n",
    "Without an anonymous function, works as so:"
   ]
  },
  {
   "cell_type": "code",
   "execution_count": 11,
   "metadata": {
    "slideshow": {
     "slide_type": "fragment"
    }
   },
   "outputs": [
    {
     "data": {
      "text/html": [
       "<style>\n",
       ".list-inline {list-style: none; margin:0; padding: 0}\n",
       ".list-inline>li {display: inline-block}\n",
       ".list-inline>li:not(:last-child)::after {content: \"\\00b7\"; padding: 0 .5ex}\n",
       "</style>\n",
       "<ol class=list-inline><li>4</li><li>5</li></ol>\n"
      ],
      "text/latex": [
       "\\begin{enumerate*}\n",
       "\\item 4\n",
       "\\item 5\n",
       "\\end{enumerate*}\n"
      ],
      "text/markdown": [
       "1. 4\n",
       "2. 5\n",
       "\n",
       "\n"
      ],
      "text/plain": [
       "[1] 4 5"
      ]
     },
     "metadata": {},
     "output_type": "display_data"
    }
   ],
   "source": [
    "f1 <- function(x, y, z) {\n",
    "    x + y + z\n",
    "}\n",
    "\n",
    "pmap_dbl(list(c(1, 1), c(1, 2), c(2, 2)), f1)"
   ]
  },
  {
   "cell_type": "markdown",
   "metadata": {
    "slideshow": {
     "slide_type": "slide"
    }
   },
   "source": [
    "If you want to use an anonymous function, then use `..1`, `..2`, `..3`, and so on to specify where the mapped objets go in your function:"
   ]
  },
  {
   "cell_type": "code",
   "execution_count": 12,
   "metadata": {
    "slideshow": {
     "slide_type": "fragment"
    }
   },
   "outputs": [
    {
     "data": {
      "text/html": [
       "<style>\n",
       ".list-inline {list-style: none; margin:0; padding: 0}\n",
       ".list-inline>li {display: inline-block}\n",
       ".list-inline>li:not(:last-child)::after {content: \"\\00b7\"; padding: 0 .5ex}\n",
       "</style>\n",
       "<ol class=list-inline><li>3</li><li>4</li></ol>\n"
      ],
      "text/latex": [
       "\\begin{enumerate*}\n",
       "\\item 3\n",
       "\\item 4\n",
       "\\end{enumerate*}\n"
      ],
      "text/markdown": [
       "1. 3\n",
       "2. 4\n",
       "\n",
       "\n"
      ],
      "text/plain": [
       "[1] 3 4"
      ]
     },
     "metadata": {},
     "output_type": "display_data"
    }
   ],
   "source": [
    "f2 <- function(x, y, z, a = 0) {\n",
    "    x + y + z + a\n",
    "}\n",
    "\n",
    "pmap_dbl(list(c(1, 1), c(1, 2), c(2, 2)), ~ f2(..1, ..2, ..3, a = -1))"
   ]
  },
  {
   "cell_type": "markdown",
   "metadata": {
    "slideshow": {
     "slide_type": "fragment"
    }
   },
   "source": [
    "We only used two inputs to our function here, but we can use any number with `pmap`, we just need to add them to our list!"
   ]
  },
  {
   "cell_type": "markdown",
   "metadata": {
    "slideshow": {
     "slide_type": "slide"
    }
   },
   "source": [
    "### Want to iterate row-wise, instead of column-wise?\n",
    "\n",
    "Here you can use `purrr::pmap` on a single data frame!\n",
    "\n",
    "This: ```purrr::pmap(df, .f)```\n",
    "\n",
    "reads as: `for` every tuple in `.l` (*i.e.*, each row of `df`) apply `.f`"
   ]
  },
  {
   "cell_type": "markdown",
   "metadata": {
    "slideshow": {
     "slide_type": "fragment"
    }
   },
   "source": [
    "The key point is that `pmap()` iterates over tuples = the collection of `i`-th elements of `k` lists. A data frame row is an interesting special case."
   ]
  },
  {
   "cell_type": "markdown",
   "metadata": {
    "slideshow": {
     "slide_type": "slide"
    }
   },
   "source": [
    "### Here's an example of row-wise iteration \n",
    "\n",
    "Here we calculate the sum for each row in the `mtcars` data frame:"
   ]
  },
  {
   "cell_type": "code",
   "execution_count": 13,
   "metadata": {
    "slideshow": {
     "slide_type": "fragment"
    }
   },
   "outputs": [
    {
     "data": {
      "text/html": [
       "<ol>\n",
       "\t<li>328.98</li>\n",
       "\t<li>329.795</li>\n",
       "\t<li>259.58</li>\n",
       "\t<li>426.135</li>\n",
       "\t<li>590.31</li>\n",
       "\t<li>385.54</li>\n",
       "\t<li>656.92</li>\n",
       "\t<li>270.98</li>\n",
       "\t<li>299.57</li>\n",
       "\t<li>350.46</li>\n",
       "\t<li>349.66</li>\n",
       "\t<li>510.74</li>\n",
       "\t<li>511.5</li>\n",
       "\t<li>509.85</li>\n",
       "\t<li>728.56</li>\n",
       "\t<li>726.644</li>\n",
       "\t<li>725.695</li>\n",
       "\t<li>213.85</li>\n",
       "\t<li>195.165</li>\n",
       "\t<li>206.955</li>\n",
       "\t<li>273.775</li>\n",
       "\t<li>519.65</li>\n",
       "\t<li>506.085</li>\n",
       "\t<li>646.28</li>\n",
       "\t<li>631.175</li>\n",
       "\t<li>208.215</li>\n",
       "\t<li>272.57</li>\n",
       "\t<li>273.683</li>\n",
       "\t<li>670.69</li>\n",
       "\t<li>379.59</li>\n",
       "\t<li>694.71</li>\n",
       "\t<li>288.89</li>\n",
       "</ol>\n"
      ],
      "text/latex": [
       "\\begin{enumerate}\n",
       "\\item 328.98\n",
       "\\item 329.795\n",
       "\\item 259.58\n",
       "\\item 426.135\n",
       "\\item 590.31\n",
       "\\item 385.54\n",
       "\\item 656.92\n",
       "\\item 270.98\n",
       "\\item 299.57\n",
       "\\item 350.46\n",
       "\\item 349.66\n",
       "\\item 510.74\n",
       "\\item 511.5\n",
       "\\item 509.85\n",
       "\\item 728.56\n",
       "\\item 726.644\n",
       "\\item 725.695\n",
       "\\item 213.85\n",
       "\\item 195.165\n",
       "\\item 206.955\n",
       "\\item 273.775\n",
       "\\item 519.65\n",
       "\\item 506.085\n",
       "\\item 646.28\n",
       "\\item 631.175\n",
       "\\item 208.215\n",
       "\\item 272.57\n",
       "\\item 273.683\n",
       "\\item 670.69\n",
       "\\item 379.59\n",
       "\\item 694.71\n",
       "\\item 288.89\n",
       "\\end{enumerate}\n"
      ],
      "text/markdown": [
       "1. 328.98\n",
       "2. 329.795\n",
       "3. 259.58\n",
       "4. 426.135\n",
       "5. 590.31\n",
       "6. 385.54\n",
       "7. 656.92\n",
       "8. 270.98\n",
       "9. 299.57\n",
       "10. 350.46\n",
       "11. 349.66\n",
       "12. 510.74\n",
       "13. 511.5\n",
       "14. 509.85\n",
       "15. 728.56\n",
       "16. 726.644\n",
       "17. 725.695\n",
       "18. 213.85\n",
       "19. 195.165\n",
       "20. 206.955\n",
       "21. 273.775\n",
       "22. 519.65\n",
       "23. 506.085\n",
       "24. 646.28\n",
       "25. 631.175\n",
       "26. 208.215\n",
       "27. 272.57\n",
       "28. 273.683\n",
       "29. 670.69\n",
       "30. 379.59\n",
       "31. 694.71\n",
       "32. 288.89\n",
       "\n",
       "\n"
      ],
      "text/plain": [
       "[[1]]\n",
       "[1] 328.98\n",
       "\n",
       "[[2]]\n",
       "[1] 329.795\n",
       "\n",
       "[[3]]\n",
       "[1] 259.58\n",
       "\n",
       "[[4]]\n",
       "[1] 426.135\n",
       "\n",
       "[[5]]\n",
       "[1] 590.31\n",
       "\n",
       "[[6]]\n",
       "[1] 385.54\n",
       "\n",
       "[[7]]\n",
       "[1] 656.92\n",
       "\n",
       "[[8]]\n",
       "[1] 270.98\n",
       "\n",
       "[[9]]\n",
       "[1] 299.57\n",
       "\n",
       "[[10]]\n",
       "[1] 350.46\n",
       "\n",
       "[[11]]\n",
       "[1] 349.66\n",
       "\n",
       "[[12]]\n",
       "[1] 510.74\n",
       "\n",
       "[[13]]\n",
       "[1] 511.5\n",
       "\n",
       "[[14]]\n",
       "[1] 509.85\n",
       "\n",
       "[[15]]\n",
       "[1] 728.56\n",
       "\n",
       "[[16]]\n",
       "[1] 726.644\n",
       "\n",
       "[[17]]\n",
       "[1] 725.695\n",
       "\n",
       "[[18]]\n",
       "[1] 213.85\n",
       "\n",
       "[[19]]\n",
       "[1] 195.165\n",
       "\n",
       "[[20]]\n",
       "[1] 206.955\n",
       "\n",
       "[[21]]\n",
       "[1] 273.775\n",
       "\n",
       "[[22]]\n",
       "[1] 519.65\n",
       "\n",
       "[[23]]\n",
       "[1] 506.085\n",
       "\n",
       "[[24]]\n",
       "[1] 646.28\n",
       "\n",
       "[[25]]\n",
       "[1] 631.175\n",
       "\n",
       "[[26]]\n",
       "[1] 208.215\n",
       "\n",
       "[[27]]\n",
       "[1] 272.57\n",
       "\n",
       "[[28]]\n",
       "[1] 273.683\n",
       "\n",
       "[[29]]\n",
       "[1] 670.69\n",
       "\n",
       "[[30]]\n",
       "[1] 379.59\n",
       "\n",
       "[[31]]\n",
       "[1] 694.71\n",
       "\n",
       "[[32]]\n",
       "[1] 288.89\n"
      ]
     },
     "metadata": {},
     "output_type": "display_data"
    }
   ],
   "source": [
    "pmap(mtcars, sum)"
   ]
  },
  {
   "cell_type": "markdown",
   "metadata": {
    "slideshow": {
     "slide_type": "slide"
    }
   },
   "source": [
    "### Mapping over groups of rows\n",
    "\n",
    "There are two strategies, we have already learned about the first:\n",
    "- `dplyr::group_by` + `dplyr::summarize`\n",
    "- `dplyr::group_by` + `tidyr::nest`"
   ]
  },
  {
   "cell_type": "markdown",
   "metadata": {},
   "source": [
    "## Nested data frames\n",
    "\n",
    "In future stastistics classes, we will use nested data frames for working with models and estimates. For example, in DSCI 552 we will use them for calculating confidence intervals. Here is some sample code below to calculcate confidence intervals for the mean life expectency for each each country in the `gapminder` data set:"
   ]
  },
  {
   "cell_type": "code",
   "execution_count": 14,
   "metadata": {
    "scrolled": true
   },
   "outputs": [
    {
     "name": "stdout",
     "output_type": "stream",
     "text": [
      "\u001b[90m# A tibble: 142 × 5\u001b[39m\n",
      "\u001b[90m# Groups:   continent, country [142]\u001b[39m\n",
      "   country     continent data              mean_life_exp life_exp_ci     \n",
      "   \u001b[3m\u001b[90m<fct>\u001b[39m\u001b[23m       \u001b[3m\u001b[90m<fct>\u001b[39m\u001b[23m     \u001b[3m\u001b[90m<list>\u001b[39m\u001b[23m                    \u001b[3m\u001b[90m<dbl>\u001b[39m\u001b[23m \u001b[3m\u001b[90m<list>\u001b[39m\u001b[23m          \n",
      "\u001b[90m 1\u001b[39m Afghanistan Asia      \u001b[90m<tibble [12 × 4]>\u001b[39m          37.5 \u001b[90m<tibble [1 × 2]>\u001b[39m\n",
      "\u001b[90m 2\u001b[39m Albania     Europe    \u001b[90m<tibble [12 × 4]>\u001b[39m          68.4 \u001b[90m<tibble [1 × 2]>\u001b[39m\n",
      "\u001b[90m 3\u001b[39m Algeria     Africa    \u001b[90m<tibble [12 × 4]>\u001b[39m          59.0 \u001b[90m<tibble [1 × 2]>\u001b[39m\n",
      "\u001b[90m 4\u001b[39m Angola      Africa    \u001b[90m<tibble [12 × 4]>\u001b[39m          37.9 \u001b[90m<tibble [1 × 2]>\u001b[39m\n",
      "\u001b[90m 5\u001b[39m Argentina   Americas  \u001b[90m<tibble [12 × 4]>\u001b[39m          69.1 \u001b[90m<tibble [1 × 2]>\u001b[39m\n",
      "\u001b[90m 6\u001b[39m Australia   Oceania   \u001b[90m<tibble [12 × 4]>\u001b[39m          74.7 \u001b[90m<tibble [1 × 2]>\u001b[39m\n",
      "\u001b[90m 7\u001b[39m Austria     Europe    \u001b[90m<tibble [12 × 4]>\u001b[39m          73.1 \u001b[90m<tibble [1 × 2]>\u001b[39m\n",
      "\u001b[90m 8\u001b[39m Bahrain     Asia      \u001b[90m<tibble [12 × 4]>\u001b[39m          65.6 \u001b[90m<tibble [1 × 2]>\u001b[39m\n",
      "\u001b[90m 9\u001b[39m Bangladesh  Asia      \u001b[90m<tibble [12 × 4]>\u001b[39m          49.8 \u001b[90m<tibble [1 × 2]>\u001b[39m\n",
      "\u001b[90m10\u001b[39m Belgium     Europe    \u001b[90m<tibble [12 × 4]>\u001b[39m          73.6 \u001b[90m<tibble [1 × 2]>\u001b[39m\n",
      "\u001b[90m# ℹ 132 more rows\u001b[39m\n"
     ]
    }
   ],
   "source": [
    "gap_lifeExp_ci <- function(df, statistic) {\n",
    "  df %>% \n",
    "        specify(response = lifeExp) %>% \n",
    "        generate(reps = 1000, type = \"bootstrap\")  %>% \n",
    "        calculate(stat = statistic)  %>% \n",
    "        get_ci()\n",
    "}\n",
    "\n",
    "by_country <- gapminder %>%\n",
    "    group_by(continent, country) %>%\n",
    "    nest() %>% \n",
    "    mutate(mean_life_exp = map_dbl(data, ~mean(.$lifeExp)), \n",
    "    life_exp_ci = map(data, ~gap_lifeExp_ci(., \"mean\")))\n",
    "print(by_country)"
   ]
  },
  {
   "cell_type": "markdown",
   "metadata": {},
   "source": [
    "This is called a nested data frame. A data frame which contains other data frames. This data structure is extremely useful when fitting many models and allows you to keep the data, the model meta data, and the model and its results all associated together as a single row in a data frame.\n",
    "\n",
    "Let's unpack this data structure a bit more and learn how to create, manipulate them."
   ]
  },
  {
   "cell_type": "markdown",
   "metadata": {},
   "source": [
    "### List-columns\n",
    "\n",
    "To create a nested data frame we start with a **grouped** data frame, and “nest” it:"
   ]
  },
  {
   "cell_type": "code",
   "execution_count": 15,
   "metadata": {},
   "outputs": [
    {
     "name": "stdout",
     "output_type": "stream",
     "text": [
      "\u001b[90m# A tibble: 142 × 3\u001b[39m\n",
      "\u001b[90m# Groups:   continent, country [142]\u001b[39m\n",
      "   country     continent data             \n",
      "   \u001b[3m\u001b[90m<fct>\u001b[39m\u001b[23m       \u001b[3m\u001b[90m<fct>\u001b[39m\u001b[23m     \u001b[3m\u001b[90m<list>\u001b[39m\u001b[23m           \n",
      "\u001b[90m 1\u001b[39m Afghanistan Asia      \u001b[90m<tibble [12 × 4]>\u001b[39m\n",
      "\u001b[90m 2\u001b[39m Albania     Europe    \u001b[90m<tibble [12 × 4]>\u001b[39m\n",
      "\u001b[90m 3\u001b[39m Algeria     Africa    \u001b[90m<tibble [12 × 4]>\u001b[39m\n",
      "\u001b[90m 4\u001b[39m Angola      Africa    \u001b[90m<tibble [12 × 4]>\u001b[39m\n",
      "\u001b[90m 5\u001b[39m Argentina   Americas  \u001b[90m<tibble [12 × 4]>\u001b[39m\n",
      "\u001b[90m 6\u001b[39m Australia   Oceania   \u001b[90m<tibble [12 × 4]>\u001b[39m\n",
      "\u001b[90m 7\u001b[39m Austria     Europe    \u001b[90m<tibble [12 × 4]>\u001b[39m\n",
      "\u001b[90m 8\u001b[39m Bahrain     Asia      \u001b[90m<tibble [12 × 4]>\u001b[39m\n",
      "\u001b[90m 9\u001b[39m Bangladesh  Asia      \u001b[90m<tibble [12 × 4]>\u001b[39m\n",
      "\u001b[90m10\u001b[39m Belgium     Europe    \u001b[90m<tibble [12 × 4]>\u001b[39m\n",
      "\u001b[90m# ℹ 132 more rows\u001b[39m\n"
     ]
    }
   ],
   "source": [
    "# create a nested data frame\n",
    "by_country <- gapminder %>% \n",
    "    group_by(continent, country) %>% \n",
    "    nest()\n",
    "print(by_country)"
   ]
  },
  {
   "cell_type": "markdown",
   "metadata": {},
   "source": [
    "(I’m cheating a little by grouping on both continent and country. Given country, continent is fixed, so this doesn’t add any more groups, but it’s an easy way to carry an extra variable along for the ride.)"
   ]
  },
  {
   "cell_type": "markdown",
   "metadata": {},
   "source": [
    "What is the `data` column here? "
   ]
  },
  {
   "cell_type": "code",
   "execution_count": 16,
   "metadata": {},
   "outputs": [
    {
     "data": {
      "text/html": [
       "'list'"
      ],
      "text/latex": [
       "'list'"
      ],
      "text/markdown": [
       "'list'"
      ],
      "text/plain": [
       "[1] \"list\""
      ]
     },
     "metadata": {},
     "output_type": "display_data"
    }
   ],
   "source": [
    "class(by_country$data)"
   ]
  },
  {
   "cell_type": "markdown",
   "metadata": {},
   "source": [
    "The `data` column is actually a list of data frames (or tibbles, to be precise). This seems like a crazy idea: we have a data frame with a column that is a list of other data frames! \n",
    "\n",
    "Let's look at what the first element of the `data` list column looks like:"
   ]
  },
  {
   "cell_type": "code",
   "execution_count": 17,
   "metadata": {},
   "outputs": [
    {
     "data": {
      "text/html": [
       "<table class=\"dataframe\">\n",
       "<caption>A tibble: 12 × 4</caption>\n",
       "<thead>\n",
       "\t<tr><th scope=col>year</th><th scope=col>lifeExp</th><th scope=col>pop</th><th scope=col>gdpPercap</th></tr>\n",
       "\t<tr><th scope=col>&lt;int&gt;</th><th scope=col>&lt;dbl&gt;</th><th scope=col>&lt;int&gt;</th><th scope=col>&lt;dbl&gt;</th></tr>\n",
       "</thead>\n",
       "<tbody>\n",
       "\t<tr><td>1952</td><td>28.801</td><td> 8425333</td><td>779.4453</td></tr>\n",
       "\t<tr><td>1957</td><td>30.332</td><td> 9240934</td><td>820.8530</td></tr>\n",
       "\t<tr><td>1962</td><td>31.997</td><td>10267083</td><td>853.1007</td></tr>\n",
       "\t<tr><td>1967</td><td>34.020</td><td>11537966</td><td>836.1971</td></tr>\n",
       "\t<tr><td>1972</td><td>36.088</td><td>13079460</td><td>739.9811</td></tr>\n",
       "\t<tr><td>⋮</td><td>⋮</td><td>⋮</td><td>⋮</td></tr>\n",
       "\t<tr><td>1987</td><td>40.822</td><td>13867957</td><td>852.3959</td></tr>\n",
       "\t<tr><td>1992</td><td>41.674</td><td>16317921</td><td>649.3414</td></tr>\n",
       "\t<tr><td>1997</td><td>41.763</td><td>22227415</td><td>635.3414</td></tr>\n",
       "\t<tr><td>2002</td><td>42.129</td><td>25268405</td><td>726.7341</td></tr>\n",
       "\t<tr><td>2007</td><td>43.828</td><td>31889923</td><td>974.5803</td></tr>\n",
       "</tbody>\n",
       "</table>\n"
      ],
      "text/latex": [
       "A tibble: 12 × 4\n",
       "\\begin{tabular}{llll}\n",
       " year & lifeExp & pop & gdpPercap\\\\\n",
       " <int> & <dbl> & <int> & <dbl>\\\\\n",
       "\\hline\n",
       "\t 1952 & 28.801 &  8425333 & 779.4453\\\\\n",
       "\t 1957 & 30.332 &  9240934 & 820.8530\\\\\n",
       "\t 1962 & 31.997 & 10267083 & 853.1007\\\\\n",
       "\t 1967 & 34.020 & 11537966 & 836.1971\\\\\n",
       "\t 1972 & 36.088 & 13079460 & 739.9811\\\\\n",
       "\t ⋮ & ⋮ & ⋮ & ⋮\\\\\n",
       "\t 1987 & 40.822 & 13867957 & 852.3959\\\\\n",
       "\t 1992 & 41.674 & 16317921 & 649.3414\\\\\n",
       "\t 1997 & 41.763 & 22227415 & 635.3414\\\\\n",
       "\t 2002 & 42.129 & 25268405 & 726.7341\\\\\n",
       "\t 2007 & 43.828 & 31889923 & 974.5803\\\\\n",
       "\\end{tabular}\n"
      ],
      "text/markdown": [
       "\n",
       "A tibble: 12 × 4\n",
       "\n",
       "| year &lt;int&gt; | lifeExp &lt;dbl&gt; | pop &lt;int&gt; | gdpPercap &lt;dbl&gt; |\n",
       "|---|---|---|---|\n",
       "| 1952 | 28.801 |  8425333 | 779.4453 |\n",
       "| 1957 | 30.332 |  9240934 | 820.8530 |\n",
       "| 1962 | 31.997 | 10267083 | 853.1007 |\n",
       "| 1967 | 34.020 | 11537966 | 836.1971 |\n",
       "| 1972 | 36.088 | 13079460 | 739.9811 |\n",
       "| ⋮ | ⋮ | ⋮ | ⋮ |\n",
       "| 1987 | 40.822 | 13867957 | 852.3959 |\n",
       "| 1992 | 41.674 | 16317921 | 649.3414 |\n",
       "| 1997 | 41.763 | 22227415 | 635.3414 |\n",
       "| 2002 | 42.129 | 25268405 | 726.7341 |\n",
       "| 2007 | 43.828 | 31889923 | 974.5803 |\n",
       "\n"
      ],
      "text/plain": [
       "   year lifeExp pop      gdpPercap\n",
       "1  1952 28.801   8425333 779.4453 \n",
       "2  1957 30.332   9240934 820.8530 \n",
       "3  1962 31.997  10267083 853.1007 \n",
       "4  1967 34.020  11537966 836.1971 \n",
       "5  1972 36.088  13079460 739.9811 \n",
       "⋮  ⋮    ⋮       ⋮        ⋮        \n",
       "8  1987 40.822  13867957 852.3959 \n",
       "9  1992 41.674  16317921 649.3414 \n",
       "10 1997 41.763  22227415 635.3414 \n",
       "11 2002 42.129  25268405 726.7341 \n",
       "12 2007 43.828  31889923 974.5803 "
      ]
     },
     "metadata": {},
     "output_type": "display_data"
    }
   ],
   "source": [
    "# look at first element of the data list column\n",
    "by_country$data[[1]]"
   ]
  },
  {
   "cell_type": "markdown",
   "metadata": {},
   "source": [
    "Note the difference between a standard grouped data frame and a nested data frame: in a grouped data frame, each row is an observation; in a nested data frame, each row is a group. Another way to think about a nested dataset is we now have a meta-observation: a row that represents the complete time course for a country, rather than a single point in time."
   ]
  },
  {
   "cell_type": "markdown",
   "metadata": {},
   "source": [
    "#### (OPTIONAL) List-columns in data frames versus tibbles\n",
    "\n",
    "List columns are possible in base R data frames, but making them isn't easy and you have to jump through some hoops.\n",
    "\n",
    "If we try to make a data frame with a single list column, `data.frame` treats the list as a list of columns...\n",
    "\n"
   ]
  },
  {
   "cell_type": "code",
   "execution_count": 18,
   "metadata": {},
   "outputs": [
    {
     "data": {
      "text/html": [
       "<table class=\"dataframe\">\n",
       "<caption>A data.frame: 3 × 2</caption>\n",
       "<thead>\n",
       "\t<tr><th scope=col>x.c.1..2..3.</th><th scope=col>x.c.3..4..5.</th></tr>\n",
       "\t<tr><th scope=col>&lt;dbl&gt;</th><th scope=col>&lt;dbl&gt;</th></tr>\n",
       "</thead>\n",
       "<tbody>\n",
       "\t<tr><td>1</td><td>3</td></tr>\n",
       "\t<tr><td>2</td><td>4</td></tr>\n",
       "\t<tr><td>3</td><td>5</td></tr>\n",
       "</tbody>\n",
       "</table>\n"
      ],
      "text/latex": [
       "A data.frame: 3 × 2\n",
       "\\begin{tabular}{ll}\n",
       " x.c.1..2..3. & x.c.3..4..5.\\\\\n",
       " <dbl> & <dbl>\\\\\n",
       "\\hline\n",
       "\t 1 & 3\\\\\n",
       "\t 2 & 4\\\\\n",
       "\t 3 & 5\\\\\n",
       "\\end{tabular}\n"
      ],
      "text/markdown": [
       "\n",
       "A data.frame: 3 × 2\n",
       "\n",
       "| x.c.1..2..3. &lt;dbl&gt; | x.c.3..4..5. &lt;dbl&gt; |\n",
       "|---|---|\n",
       "| 1 | 3 |\n",
       "| 2 | 4 |\n",
       "| 3 | 5 |\n",
       "\n"
      ],
      "text/plain": [
       "  x.c.1..2..3. x.c.3..4..5.\n",
       "1 1            3           \n",
       "2 2            4           \n",
       "3 3            5           "
      ]
     },
     "metadata": {},
     "output_type": "display_data"
    }
   ],
   "source": [
    "# try to make a list column in a data frame\n",
    "data.frame(x = list(c(1, 2, 3), c(3, 4, 5)))"
   ]
  },
  {
   "cell_type": "markdown",
   "metadata": {},
   "source": [
    "To make the work, we need to use the `I` function (which changes the class of an object to indicate that it should be treated ‘as is’):"
   ]
  },
  {
   "cell_type": "code",
   "execution_count": 19,
   "metadata": {},
   "outputs": [
    {
     "data": {
      "text/html": [
       "<table class=\"dataframe\">\n",
       "<caption>A data.frame: 2 × 1</caption>\n",
       "<thead>\n",
       "\t<tr><th scope=col>x</th></tr>\n",
       "\t<tr><th scope=col>&lt;I&lt;list&gt;&gt;</th></tr>\n",
       "</thead>\n",
       "<tbody>\n",
       "\t<tr><td>1, 2, 3</td></tr>\n",
       "\t<tr><td>3, 4, 5</td></tr>\n",
       "</tbody>\n",
       "</table>\n"
      ],
      "text/latex": [
       "A data.frame: 2 × 1\n",
       "\\begin{tabular}{l}\n",
       " x\\\\\n",
       " <I<list>>\\\\\n",
       "\\hline\n",
       "\t 1, 2, 3\\\\\n",
       "\t 3, 4, 5\\\\\n",
       "\\end{tabular}\n"
      ],
      "text/markdown": [
       "\n",
       "A data.frame: 2 × 1\n",
       "\n",
       "| x &lt;I&lt;list&gt;&gt; |\n",
       "|---|\n",
       "| 1, 2, 3 |\n",
       "| 3, 4, 5 |\n",
       "\n"
      ],
      "text/plain": [
       "  x      \n",
       "1 1, 2, 3\n",
       "2 3, 4, 5"
      ]
     },
     "metadata": {},
     "output_type": "display_data"
    }
   ],
   "source": [
    "# try to make a list column in a data frame by using I\n",
    "data.frame(x = I(list(c(1, 2, 3), c(3, 4, 5))))"
   ]
  },
  {
   "cell_type": "markdown",
   "metadata": {},
   "source": [
    "Tibble alleviates this problem by being lazier (`tibble` doesn’t modify its inputs) and by providing a better print method:"
   ]
  },
  {
   "cell_type": "code",
   "execution_count": 20,
   "metadata": {},
   "outputs": [
    {
     "data": {
      "text/html": [
       "<table class=\"dataframe\">\n",
       "<caption>A tibble: 2 × 1</caption>\n",
       "<thead>\n",
       "\t<tr><th scope=col>x</th></tr>\n",
       "\t<tr><th scope=col>&lt;list&gt;</th></tr>\n",
       "</thead>\n",
       "<tbody>\n",
       "\t<tr><td>1, 2, 3</td></tr>\n",
       "\t<tr><td>3, 4, 5</td></tr>\n",
       "</tbody>\n",
       "</table>\n"
      ],
      "text/latex": [
       "A tibble: 2 × 1\n",
       "\\begin{tabular}{l}\n",
       " x\\\\\n",
       " <list>\\\\\n",
       "\\hline\n",
       "\t 1, 2, 3\\\\\n",
       "\t 3, 4, 5\\\\\n",
       "\\end{tabular}\n"
      ],
      "text/markdown": [
       "\n",
       "A tibble: 2 × 1\n",
       "\n",
       "| x &lt;list&gt; |\n",
       "|---|\n",
       "| 1, 2, 3 |\n",
       "| 3, 4, 5 |\n",
       "\n"
      ],
      "text/plain": [
       "  x      \n",
       "1 1, 2, 3\n",
       "2 3, 4, 5"
      ]
     },
     "metadata": {},
     "output_type": "display_data"
    }
   ],
   "source": [
    "# try to make a list column in a tibble\n",
    "tibble(x = list(c(1, 2, 3), c(3, 4, 5)))"
   ]
  },
  {
   "cell_type": "markdown",
   "metadata": {},
   "source": [
    "### List column workflow:\n",
    "\n",
    "1. Create a list column using a function such as `nest` (other possibilities are `summarise` + `list`, or `mutate` + a `map_*` function, as described in [Creating list-columns](https://r4ds.had.co.nz/many-models.html#creating-list-columns))\n",
    "\n",
    "2. Create other intermediate list-columns by transforming existing list columns with `map`, `map2` or `pmap`\n",
    "\n",
    "3. Simplify the list-column back down to a data frame or atomic vector, often by `unnest`, `mutate` + `map_*` functions that return atomic vectors as opposed to lists. "
   ]
  },
  {
   "cell_type": "markdown",
   "metadata": {},
   "source": [
    "We've talked about step 1, and what a list column is. Now let's explore how we can create other intermediate list-columns by transforming existing columns with `map`."
   ]
  },
  {
   "cell_type": "markdown",
   "metadata": {},
   "source": [
    "### Create other intermediate list-columns with `map`\n",
    "\n",
    "Remembering our example:"
   ]
  },
  {
   "cell_type": "code",
   "execution_count": 21,
   "metadata": {},
   "outputs": [],
   "source": [
    "gap_lifeExp_ci <- function(df, statistic) {\n",
    "  df %>% \n",
    "        specify(response = lifeExp) %>% \n",
    "        generate(reps = 1000, type = \"bootstrap\")  %>% \n",
    "        calculate(stat = statistic)  %>% \n",
    "        get_ci()\n",
    "}\n",
    "\n",
    "# create a nested gapminder tibble\n",
    "by_country <- gapminder %>% \n",
    "    group_by(continent, country) %>% \n",
    "    nest() "
   ]
  },
  {
   "cell_type": "code",
   "execution_count": 22,
   "metadata": {},
   "outputs": [
    {
     "name": "stdout",
     "output_type": "stream",
     "text": [
      "\u001b[90m# A tibble: 142 × 3\u001b[39m\n",
      "\u001b[90m# Groups:   continent, country [142]\u001b[39m\n",
      "   country     continent data             \n",
      "   \u001b[3m\u001b[90m<fct>\u001b[39m\u001b[23m       \u001b[3m\u001b[90m<fct>\u001b[39m\u001b[23m     \u001b[3m\u001b[90m<list>\u001b[39m\u001b[23m           \n",
      "\u001b[90m 1\u001b[39m Afghanistan Asia      \u001b[90m<tibble [12 × 4]>\u001b[39m\n",
      "\u001b[90m 2\u001b[39m Albania     Europe    \u001b[90m<tibble [12 × 4]>\u001b[39m\n",
      "\u001b[90m 3\u001b[39m Algeria     Africa    \u001b[90m<tibble [12 × 4]>\u001b[39m\n",
      "\u001b[90m 4\u001b[39m Angola      Africa    \u001b[90m<tibble [12 × 4]>\u001b[39m\n",
      "\u001b[90m 5\u001b[39m Argentina   Americas  \u001b[90m<tibble [12 × 4]>\u001b[39m\n",
      "\u001b[90m 6\u001b[39m Australia   Oceania   \u001b[90m<tibble [12 × 4]>\u001b[39m\n",
      "\u001b[90m 7\u001b[39m Austria     Europe    \u001b[90m<tibble [12 × 4]>\u001b[39m\n",
      "\u001b[90m 8\u001b[39m Bahrain     Asia      \u001b[90m<tibble [12 × 4]>\u001b[39m\n",
      "\u001b[90m 9\u001b[39m Bangladesh  Asia      \u001b[90m<tibble [12 × 4]>\u001b[39m\n",
      "\u001b[90m10\u001b[39m Belgium     Europe    \u001b[90m<tibble [12 × 4]>\u001b[39m\n",
      "\u001b[90m# ℹ 132 more rows\u001b[39m\n"
     ]
    }
   ],
   "source": [
    "print(by_country)"
   ]
  },
  {
   "cell_type": "markdown",
   "metadata": {},
   "source": [
    "We'd like to apply the mean function to get the mean life expectancy in a column:"
   ]
  },
  {
   "cell_type": "code",
   "execution_count": 23,
   "metadata": {},
   "outputs": [
    {
     "name": "stdout",
     "output_type": "stream",
     "text": [
      "\u001b[90m# A tibble: 142 × 4\u001b[39m\n",
      "\u001b[90m# Groups:   continent, country [142]\u001b[39m\n",
      "   country     continent data              mean_life_exp\n",
      "   \u001b[3m\u001b[90m<fct>\u001b[39m\u001b[23m       \u001b[3m\u001b[90m<fct>\u001b[39m\u001b[23m     \u001b[3m\u001b[90m<list>\u001b[39m\u001b[23m                    \u001b[3m\u001b[90m<dbl>\u001b[39m\u001b[23m\n",
      "\u001b[90m 1\u001b[39m Afghanistan Asia      \u001b[90m<tibble [12 × 4]>\u001b[39m          37.5\n",
      "\u001b[90m 2\u001b[39m Albania     Europe    \u001b[90m<tibble [12 × 4]>\u001b[39m          68.4\n",
      "\u001b[90m 3\u001b[39m Algeria     Africa    \u001b[90m<tibble [12 × 4]>\u001b[39m          59.0\n",
      "\u001b[90m 4\u001b[39m Angola      Africa    \u001b[90m<tibble [12 × 4]>\u001b[39m          37.9\n",
      "\u001b[90m 5\u001b[39m Argentina   Americas  \u001b[90m<tibble [12 × 4]>\u001b[39m          69.1\n",
      "\u001b[90m 6\u001b[39m Australia   Oceania   \u001b[90m<tibble [12 × 4]>\u001b[39m          74.7\n",
      "\u001b[90m 7\u001b[39m Austria     Europe    \u001b[90m<tibble [12 × 4]>\u001b[39m          73.1\n",
      "\u001b[90m 8\u001b[39m Bahrain     Asia      \u001b[90m<tibble [12 × 4]>\u001b[39m          65.6\n",
      "\u001b[90m 9\u001b[39m Bangladesh  Asia      \u001b[90m<tibble [12 × 4]>\u001b[39m          49.8\n",
      "\u001b[90m10\u001b[39m Belgium     Europe    \u001b[90m<tibble [12 × 4]>\u001b[39m          73.6\n",
      "\u001b[90m# ℹ 132 more rows\u001b[39m\n"
     ]
    }
   ],
   "source": [
    "by_country <- gapminder %>%\n",
    "    group_by(continent, country) %>%\n",
    "    nest() %>% \n",
    "    mutate(mean_life_exp = map_dbl(data, ~ mean(.$lifeExp)))  \n",
    "print(by_country)"
   ]
  },
  {
   "cell_type": "markdown",
   "metadata": {},
   "source": [
    "Now we'd like to apply the `gap_lifeExp_ci` function to each tibble in the `data` list column to obtain another list column containing the confidence interval tibbles. We can use `mutate` + `map` to do this:"
   ]
  },
  {
   "cell_type": "code",
   "execution_count": 24,
   "metadata": {},
   "outputs": [
    {
     "name": "stdout",
     "output_type": "stream",
     "text": [
      "\u001b[90m# A tibble: 142 × 5\u001b[39m\n",
      "\u001b[90m# Groups:   continent, country [142]\u001b[39m\n",
      "   country     continent data              mean_life_exp life_exp_ci     \n",
      "   \u001b[3m\u001b[90m<fct>\u001b[39m\u001b[23m       \u001b[3m\u001b[90m<fct>\u001b[39m\u001b[23m     \u001b[3m\u001b[90m<list>\u001b[39m\u001b[23m                    \u001b[3m\u001b[90m<dbl>\u001b[39m\u001b[23m \u001b[3m\u001b[90m<list>\u001b[39m\u001b[23m          \n",
      "\u001b[90m 1\u001b[39m Afghanistan Asia      \u001b[90m<tibble [12 × 4]>\u001b[39m          37.5 \u001b[90m<tibble [1 × 2]>\u001b[39m\n",
      "\u001b[90m 2\u001b[39m Albania     Europe    \u001b[90m<tibble [12 × 4]>\u001b[39m          68.4 \u001b[90m<tibble [1 × 2]>\u001b[39m\n",
      "\u001b[90m 3\u001b[39m Algeria     Africa    \u001b[90m<tibble [12 × 4]>\u001b[39m          59.0 \u001b[90m<tibble [1 × 2]>\u001b[39m\n",
      "\u001b[90m 4\u001b[39m Angola      Africa    \u001b[90m<tibble [12 × 4]>\u001b[39m          37.9 \u001b[90m<tibble [1 × 2]>\u001b[39m\n",
      "\u001b[90m 5\u001b[39m Argentina   Americas  \u001b[90m<tibble [12 × 4]>\u001b[39m          69.1 \u001b[90m<tibble [1 × 2]>\u001b[39m\n",
      "\u001b[90m 6\u001b[39m Australia   Oceania   \u001b[90m<tibble [12 × 4]>\u001b[39m          74.7 \u001b[90m<tibble [1 × 2]>\u001b[39m\n",
      "\u001b[90m 7\u001b[39m Austria     Europe    \u001b[90m<tibble [12 × 4]>\u001b[39m          73.1 \u001b[90m<tibble [1 × 2]>\u001b[39m\n",
      "\u001b[90m 8\u001b[39m Bahrain     Asia      \u001b[90m<tibble [12 × 4]>\u001b[39m          65.6 \u001b[90m<tibble [1 × 2]>\u001b[39m\n",
      "\u001b[90m 9\u001b[39m Bangladesh  Asia      \u001b[90m<tibble [12 × 4]>\u001b[39m          49.8 \u001b[90m<tibble [1 × 2]>\u001b[39m\n",
      "\u001b[90m10\u001b[39m Belgium     Europe    \u001b[90m<tibble [12 × 4]>\u001b[39m          73.6 \u001b[90m<tibble [1 × 2]>\u001b[39m\n",
      "\u001b[90m# ℹ 132 more rows\u001b[39m\n"
     ]
    }
   ],
   "source": [
    "gap_lifeExp_ci <- function(df, statistic) {\n",
    "  df %>% \n",
    "        specify(response = lifeExp) %>% \n",
    "        generate(reps = 1000, type = \"bootstrap\")  %>% \n",
    "        calculate(stat = statistic)  %>% \n",
    "        get_ci()\n",
    "}\n",
    "\n",
    "by_country <- gapminder %>%\n",
    "    group_by(continent, country) %>%\n",
    "    nest() %>% \n",
    "    mutate(mean_life_exp = map_dbl(data, ~mean(.$lifeExp)), \n",
    "    life_exp_ci = map(data, ~gap_lifeExp_ci(., \"mean\")))\n",
    "print(by_country)"
   ]
  },
  {
   "cell_type": "markdown",
   "metadata": {},
   "source": [
    "What does the new tibbles look like in the `life_exp_ci` column?"
   ]
  },
  {
   "cell_type": "code",
   "execution_count": 25,
   "metadata": {},
   "outputs": [
    {
     "data": {
      "text/html": [
       "<table class=\"dataframe\">\n",
       "<caption>A tibble: 1 × 2</caption>\n",
       "<thead>\n",
       "\t<tr><th scope=col>lower_ci</th><th scope=col>upper_ci</th></tr>\n",
       "\t<tr><th scope=col>&lt;dbl&gt;</th><th scope=col>&lt;dbl&gt;</th></tr>\n",
       "</thead>\n",
       "<tbody>\n",
       "\t<tr><td>34.70605</td><td>40.1374</td></tr>\n",
       "</tbody>\n",
       "</table>\n"
      ],
      "text/latex": [
       "A tibble: 1 × 2\n",
       "\\begin{tabular}{ll}\n",
       " lower\\_ci & upper\\_ci\\\\\n",
       " <dbl> & <dbl>\\\\\n",
       "\\hline\n",
       "\t 34.70605 & 40.1374\\\\\n",
       "\\end{tabular}\n"
      ],
      "text/markdown": [
       "\n",
       "A tibble: 1 × 2\n",
       "\n",
       "| lower_ci &lt;dbl&gt; | upper_ci &lt;dbl&gt; |\n",
       "|---|---|\n",
       "| 34.70605 | 40.1374 |\n",
       "\n"
      ],
      "text/plain": [
       "  lower_ci upper_ci\n",
       "1 34.70605 40.1374 "
      ]
     },
     "metadata": {},
     "output_type": "display_data"
    }
   ],
   "source": [
    "by_country$life_exp_ci[[1]]"
   ]
  },
  {
   "cell_type": "markdown",
   "metadata": {},
   "source": [
    "### Simplifying the list-column back down to a data frame or atomic vector\n",
    "\n",
    "After we create some other intermediate list-columns with `map`, we usually want to get some values back as regular atomic vector columns in our data frame, for visualization, further analysis, or reporting. \n",
    "\n",
    "We will first demonstrate how to do this using `unnest` in our example to covert the `life_exp_ci` list column to two columns, one for the lower bound of the confidence interval, and one for the upper bound of the confidence interval:"
   ]
  },
  {
   "cell_type": "code",
   "execution_count": 26,
   "metadata": {},
   "outputs": [
    {
     "name": "stdout",
     "output_type": "stream",
     "text": [
      "\u001b[90m# A tibble: 142 × 6\u001b[39m\n",
      "\u001b[90m# Groups:   continent, country [142]\u001b[39m\n",
      "   country     continent data              mean_life_exp lower_ci upper_ci\n",
      "   \u001b[3m\u001b[90m<fct>\u001b[39m\u001b[23m       \u001b[3m\u001b[90m<fct>\u001b[39m\u001b[23m     \u001b[3m\u001b[90m<list>\u001b[39m\u001b[23m                    \u001b[3m\u001b[90m<dbl>\u001b[39m\u001b[23m    \u001b[3m\u001b[90m<dbl>\u001b[39m\u001b[23m    \u001b[3m\u001b[90m<dbl>\u001b[39m\u001b[23m\n",
      "\u001b[90m 1\u001b[39m Afghanistan Asia      \u001b[90m<tibble [12 × 4]>\u001b[39m          37.5     34.7     40.1\n",
      "\u001b[90m 2\u001b[39m Albania     Europe    \u001b[90m<tibble [12 × 4]>\u001b[39m          68.4     64.8     71.7\n",
      "\u001b[90m 3\u001b[39m Algeria     Africa    \u001b[90m<tibble [12 × 4]>\u001b[39m          59.0     53.1     64.6\n",
      "\u001b[90m 4\u001b[39m Angola      Africa    \u001b[90m<tibble [12 × 4]>\u001b[39m          37.9     35.7     40.0\n",
      "\u001b[90m 5\u001b[39m Argentina   Americas  \u001b[90m<tibble [12 × 4]>\u001b[39m          69.1     66.9     71.2\n",
      "\u001b[90m 6\u001b[39m Australia   Oceania   \u001b[90m<tibble [12 × 4]>\u001b[39m          74.7     72.5     76.8\n",
      "\u001b[90m 7\u001b[39m Austria     Europe    \u001b[90m<tibble [12 × 4]>\u001b[39m          73.1     70.6     75.5\n",
      "\u001b[90m 8\u001b[39m Bahrain     Asia      \u001b[90m<tibble [12 × 4]>\u001b[39m          65.6     60.6     69.9\n",
      "\u001b[90m 9\u001b[39m Bangladesh  Asia      \u001b[90m<tibble [12 × 4]>\u001b[39m          49.8     45.0     54.6\n",
      "\u001b[90m10\u001b[39m Belgium     Europe    \u001b[90m<tibble [12 × 4]>\u001b[39m          73.6     71.7     75.6\n",
      "\u001b[90m# ℹ 132 more rows\u001b[39m\n"
     ]
    }
   ],
   "source": [
    "# unnest the ci column\n",
    "by_country %>% \n",
    "    unnest(life_exp_ci) %>% \n",
    "    print()"
   ]
  },
  {
   "cell_type": "markdown",
   "metadata": {},
   "source": [
    "### The whole shebang:\n",
    "\n",
    "1. Create a list column using a function such as `nest`\n",
    "\n",
    "2. Create other intermediate list-columns by transforming existing list columns with `map`\n",
    "\n",
    "3. Simplify the list-column back down to a data frame or atomic vector using `unnest` & `mutate` + `map_dbl`:"
   ]
  },
  {
   "cell_type": "code",
   "execution_count": 27,
   "metadata": {},
   "outputs": [
    {
     "name": "stdout",
     "output_type": "stream",
     "text": [
      "\u001b[90m# A tibble: 142 × 5\u001b[39m\n",
      "\u001b[90m# Groups:   continent, country [142]\u001b[39m\n",
      "   country     continent data              mean_life_exp life_exp_ci     \n",
      "   \u001b[3m\u001b[90m<fct>\u001b[39m\u001b[23m       \u001b[3m\u001b[90m<fct>\u001b[39m\u001b[23m     \u001b[3m\u001b[90m<list>\u001b[39m\u001b[23m                    \u001b[3m\u001b[90m<dbl>\u001b[39m\u001b[23m \u001b[3m\u001b[90m<list>\u001b[39m\u001b[23m          \n",
      "\u001b[90m 1\u001b[39m Afghanistan Asia      \u001b[90m<tibble [12 × 4]>\u001b[39m          37.5 \u001b[90m<tibble [1 × 2]>\u001b[39m\n",
      "\u001b[90m 2\u001b[39m Albania     Europe    \u001b[90m<tibble [12 × 4]>\u001b[39m          68.4 \u001b[90m<tibble [1 × 2]>\u001b[39m\n",
      "\u001b[90m 3\u001b[39m Algeria     Africa    \u001b[90m<tibble [12 × 4]>\u001b[39m          59.0 \u001b[90m<tibble [1 × 2]>\u001b[39m\n",
      "\u001b[90m 4\u001b[39m Angola      Africa    \u001b[90m<tibble [12 × 4]>\u001b[39m          37.9 \u001b[90m<tibble [1 × 2]>\u001b[39m\n",
      "\u001b[90m 5\u001b[39m Argentina   Americas  \u001b[90m<tibble [12 × 4]>\u001b[39m          69.1 \u001b[90m<tibble [1 × 2]>\u001b[39m\n",
      "\u001b[90m 6\u001b[39m Australia   Oceania   \u001b[90m<tibble [12 × 4]>\u001b[39m          74.7 \u001b[90m<tibble [1 × 2]>\u001b[39m\n",
      "\u001b[90m 7\u001b[39m Austria     Europe    \u001b[90m<tibble [12 × 4]>\u001b[39m          73.1 \u001b[90m<tibble [1 × 2]>\u001b[39m\n",
      "\u001b[90m 8\u001b[39m Bahrain     Asia      \u001b[90m<tibble [12 × 4]>\u001b[39m          65.6 \u001b[90m<tibble [1 × 2]>\u001b[39m\n",
      "\u001b[90m 9\u001b[39m Bangladesh  Asia      \u001b[90m<tibble [12 × 4]>\u001b[39m          49.8 \u001b[90m<tibble [1 × 2]>\u001b[39m\n",
      "\u001b[90m10\u001b[39m Belgium     Europe    \u001b[90m<tibble [12 × 4]>\u001b[39m          73.6 \u001b[90m<tibble [1 × 2]>\u001b[39m\n",
      "\u001b[90m# ℹ 132 more rows\u001b[39m\n"
     ]
    }
   ],
   "source": [
    "gap_lifeExp_ci <- function(df, statistic) {\n",
    "  df %>% \n",
    "        specify(response = lifeExp) %>% \n",
    "        generate(reps = 1000, type = \"bootstrap\")  %>% \n",
    "        calculate(stat = statistic)  %>% \n",
    "        get_ci()\n",
    "}\n",
    "\n",
    "by_country <- gapminder %>%\n",
    "    group_by(continent, country) %>%\n",
    "    nest() %>% \n",
    "    mutate(mean_life_exp = map_dbl(data, ~mean(.$lifeExp)), \n",
    "    life_exp_ci = map(data, ~gap_lifeExp_ci(., \"mean\")))\n",
    "print(by_country)"
   ]
  },
  {
   "cell_type": "markdown",
   "metadata": {},
   "source": [
    "## What did we learn:\n",
    "\n",
    "- how to write anonymous functions\n",
    "- how to use {purrr} `map_*` with anonymous functions to add extra arguments\n",
    "- what are nested data frames\n",
    "- how to use {tidyr}'s `nest` & `unnest` and {purrr} `map_*` functions to work with data frames to nest, modify and unnest data frames"
   ]
  },
  {
   "cell_type": "markdown",
   "metadata": {
    "slideshow": {
     "slide_type": "slide"
    }
   },
   "source": [
    "### Attribution\n",
    "\n",
    "- [Advanced R](https://adv-r.hadley.nz/) by Hadley Wickham\n",
    "- [Jenny Bryan's `purrr` tutorial](https://jennybc.github.io/purrr-tutorial/index.html)"
   ]
  }
 ],
 "metadata": {
  "celltoolbar": "Slideshow",
  "kernelspec": {
   "display_name": "R",
   "language": "R",
   "name": "ir"
  },
  "language_info": {
   "codemirror_mode": "r",
   "file_extension": ".r",
   "mimetype": "text/x-r-source",
   "name": "R",
   "pygments_lexer": "r",
   "version": "4.3.1"
  }
 },
 "nbformat": 4,
 "nbformat_minor": 4
}