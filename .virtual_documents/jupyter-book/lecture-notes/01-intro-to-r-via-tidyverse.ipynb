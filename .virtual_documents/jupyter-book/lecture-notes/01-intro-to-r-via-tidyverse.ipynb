















































library(tidyverse)





can_lang1 <- read_csv("data/can_lang.csv")
head(can_lang1)





can_lang2 <- read_csv("data/can_lang-meta-data.csv", skip = 2)
head(can_lang2)











can_lang3 <- read_delim("data/can_lang.tsv",  
                     delim = "\t", 
                     col_names = FALSE)
head(can_lang3)








can_lang4 <- read_csv("https://raw.githubusercontent.com/ttimbers/canlang/master/inst/extdata/can_lang.csv")
head(can_lang4)








library(readxl)


can_lang5 <- read_excel("data/can_lang.xlsx")
head(can_lang5)








url <- "https://github.com/ttimbers/canlang/blob/master/inst/extdata/can_lang.xlsx?raw=true"
download.file(url, "temp.xlsx")
can_lang6 <- read_excel("temp.xlsx")
head(can_lang6)











write_csv(can_lang6, "data/can_lang7.csv")





can_lang8 <- read_csv("data/can_lang-colnames.csv")
head(can_lang8)


can_lang9 <- rename(can_lang8, Mother_tongue = `Mother tongue`,
                   Spoken_most_at_home = `Spoken most at home`,
                   Spoken_most_at_work = `Spoken most at work`,
                   Language_known = `Language known`)
head(can_lang9)





library(janitor)


census <- read_csv("data/census_snippet.csv")
head(census, 3)


clean_census <- clean_names(census)
head(clean_census, 3)








library(gapminder)





head(gapminder)





select(gapminder, year, lifeExp)





# run this command to limit data frame output to 10 rows
options(repr.matrix.max.rows = 10)


select(gapminder, year, lifeExp)





select(gapminder, country:lifeExp)





filter(gapminder, lifeExp < 29)





filter(gapminder, country == "Rwanda", year > 1979)





filter(gapminder, lifeExp > 80 | year == 2007)





filter(gapminder, country %in% c("Mexico", "United States", "Canada"))
































gap_under_29 <- filter(gapminder, lifeExp < 29)
select(gap_under_29, country, year)





select(filter(gapminder, lifeExp < 29), country, year)





filter(gapminder, lifeExp < 29) |>
    select(country, year)





gapminder |>
    filter(lifeExp < 29) |>
    select(country, year)














gapminder |> 
    filter(country == "Cambodia") |>
    select(year, lifeExp)





new_df <- gapminder |>
    filter(country == "Cambodia") |>
    select(year, lifeExp) 





gapminder |> 
    mutate(tot_gdp = pop * gdpPercap)





gapminder |>
    mutate(tot_gdp = pop * gdpPercap,
          pop_thousands = pop / 1000)





gapminder |>
    mutate(lifeExp = round(lifeExp, 0))





gapminder |>
    arrange(lifeExp)





gapminder |>
    arrange(desc(lifeExp))





gapminder |> 
    arrange(desc(lifeExp)) |>
    slice(1) |>
    pull(lifeExp)
























































table4a





table4a |>
    pivot_longer(`1999`:`2000`, names_to = "year", values_to = "cases")


# or a less verbose and efficient way to specify this:
table4a |>
    pivot_longer(-country, names_to = "year", values_to = "cases")











table2





table2 |>
    pivot_wider(names_from = type, values_from = count)

































