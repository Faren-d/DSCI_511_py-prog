{
 "cells": [
  {
   "cell_type": "markdown",
   "id": "baa56939",
   "metadata": {},
   "source": [
    "## Lecture 2 \n",
    "(You should refer to [main lecture notes] for details)\n",
    "\n",
    "There are 3 key themes to this lecture:\n",
    "\n",
    "1. Key data types in R\n",
    "\n",
    "2. Using base R to subset objects\n",
    "\n",
    "3. Tidyverse code style\n",
    "\n",
    "NOTE: This course is meant to be done in a flipped classroom style. This means that you should watch the pre-recorded lecture videos before coming to class. The class time will be spent in going through some highlights of the lecture, and working on group problem solving by the use of worksheets. I aim to provide you around 30 min to work on the worksheets, during this time me and the TAs will be available to help you with any questions you have."
   ]
  },
  {
   "cell_type": "markdown",
   "id": "355469ea",
   "metadata": {},
   "source": [
    "# iClicker 1: \n",
    "\n",
    "How do you feel about the R programming language?\n",
    "\n",
    "A) I LOVE R, it's my favorite language!\n",
    "\n",
    "B) I think it's pretty good!\n",
    "\n",
    "C) It's just OK.\n",
    "\n",
    "D) Not a fan, it perplexes me!"
   ]
  },
  {
   "cell_type": "markdown",
   "id": "6374fa80",
   "metadata": {},
   "source": [
    "## 1. Key data types in R\n",
    "\n",
    "The simplest object in R is a vector of length 1, this is the closest thing R has to a scalar: ( check key datatypes image)"
   ]
  },
  {
   "cell_type": "markdown",
   "id": "5810edf7",
   "metadata": {},
   "source": [
    "Here we created an object named my_string. "
   ]
  },
  {
   "cell_type": "code",
   "execution_count": 4,
   "id": "4d395308",
   "metadata": {
    "vscode": {
     "languageId": "r"
    }
   },
   "outputs": [],
   "source": [
    "my_string <- \"hello\""
   ]
  },
  {
   "cell_type": "code",
   "execution_count": 5,
   "id": "3875e7d1",
   "metadata": {
    "vscode": {
     "languageId": "r"
    }
   },
   "outputs": [
    {
     "data": {
      "text/html": [
       "'hello'"
      ],
      "text/latex": [
       "'hello'"
      ],
      "text/markdown": [
       "'hello'"
      ],
      "text/plain": [
       "[1] \"hello\""
      ]
     },
     "metadata": {},
     "output_type": "display_data"
    }
   ],
   "source": [
    "my_string"
   ]
  },
  {
   "cell_type": "code",
   "execution_count": 3,
   "id": "0fa820bb",
   "metadata": {
    "vscode": {
     "languageId": "r"
    }
   },
   "outputs": [
    {
     "data": {
      "text/html": [
       "'character'"
      ],
      "text/latex": [
       "'character'"
      ],
      "text/markdown": [
       "'character'"
      ],
      "text/plain": [
       "[1] \"character\""
      ]
     },
     "metadata": {},
     "output_type": "display_data"
    }
   ],
   "source": [
    "typeof(my_string)"
   ]
  },
  {
   "cell_type": "markdown",
   "id": "5d155daa",
   "metadata": {},
   "source": [
    "# iclicker 2: What is the data type of my_number?\n",
    "\n",
    "```R\n",
    "my_number <- 42\n",
    "```\n",
    "\n",
    "A) character\n",
    "\n",
    "B) numeric\n",
    "\n",
    "C) integer\n",
    "\n",
    "D) double\n",
    "\n"
   ]
  },
  {
   "cell_type": "code",
   "execution_count": 8,
   "id": "ed41d3c9",
   "metadata": {
    "vscode": {
     "languageId": "r"
    }
   },
   "outputs": [
    {
     "data": {
      "text/html": [
       "2"
      ],
      "text/latex": [
       "2"
      ],
      "text/markdown": [
       "2"
      ],
      "text/plain": [
       "[1] 2"
      ]
     },
     "metadata": {},
     "output_type": "display_data"
    },
    {
     "data": {
      "text/html": [
       "'integer'"
      ],
      "text/latex": [
       "'integer'"
      ],
      "text/markdown": [
       "'integer'"
      ],
      "text/plain": [
       "[1] \"integer\""
      ]
     },
     "metadata": {},
     "output_type": "display_data"
    }
   ],
   "source": [
    "my_number <- 2L\n",
    "my_number\n",
    "typeof(my_number)"
   ]
  },
  {
   "cell_type": "code",
   "execution_count": 10,
   "id": "cb97c1f6",
   "metadata": {
    "vscode": {
     "languageId": "r"
    }
   },
   "outputs": [],
   "source": [
    "## Here is an integer type. We should specify L  \n",
    "simple_vector <- c(3L)"
   ]
  },
  {
   "cell_type": "markdown",
   "id": "d3ee23fb",
   "metadata": {},
   "source": [
    "You can learn about R objects using `typeof` and `class`:"
   ]
  },
  {
   "cell_type": "code",
   "execution_count": 11,
   "id": "aace12f2",
   "metadata": {
    "vscode": {
     "languageId": "r"
    }
   },
   "outputs": [
    {
     "data": {
      "text/html": [
       "'integer'"
      ],
      "text/latex": [
       "'integer'"
      ],
      "text/markdown": [
       "'integer'"
      ],
      "text/plain": [
       "[1] \"integer\""
      ]
     },
     "metadata": {},
     "output_type": "display_data"
    }
   ],
   "source": [
    "typeof(simple_vector)"
   ]
  },
  {
   "cell_type": "code",
   "execution_count": 12,
   "id": "66fb4ee3",
   "metadata": {
    "vscode": {
     "languageId": "r"
    }
   },
   "outputs": [
    {
     "data": {
      "text/html": [
       "'integer'"
      ],
      "text/latex": [
       "'integer'"
      ],
      "text/markdown": [
       "'integer'"
      ],
      "text/plain": [
       "[1] \"integer\""
      ]
     },
     "metadata": {},
     "output_type": "display_data"
    }
   ],
   "source": [
    "class(simple_vector)"
   ]
  },
  {
   "cell_type": "markdown",
   "id": "d754176e",
   "metadata": {},
   "source": [
    "# iclicker: What is the output of the following code?\n",
    "\n",
    "```R\n",
    "a_vector <- c(\"word\", 1, TRUE)\n",
    "a_vector[2] <- 2\n",
    "```\n",
    "\n",
    "A) \"word\" 2 TRUE\n",
    "\n",
    "B) \"word\" 2 1\n",
    "\n",
    "C) \"word\" 1 2\n",
    "\n",
    "D) \"word\" 1 TRUE\n"
   ]
  },
  {
   "cell_type": "markdown",
   "id": "ae600422",
   "metadata": {},
   "source": [
    "> Note: With the coersion rules in R, above all options are converted to character vector.\n",
    "Like ... `'word''2''TRUE'`"
   ]
  },
  {
   "cell_type": "code",
   "execution_count": 1,
   "id": "5351d19b",
   "metadata": {
    "vscode": {
     "languageId": "r"
    }
   },
   "outputs": [],
   "source": [
    "a_vector <- c(\"word\", 1, TRUE)\n",
    "a_vector[2] <- 2"
   ]
  },
  {
   "cell_type": "code",
   "execution_count": 15,
   "id": "f26f1414",
   "metadata": {
    "vscode": {
     "languageId": "r"
    }
   },
   "outputs": [
    {
     "data": {
      "text/html": [
       "<style>\n",
       ".list-inline {list-style: none; margin:0; padding: 0}\n",
       ".list-inline>li {display: inline-block}\n",
       ".list-inline>li:not(:last-child)::after {content: \"\\00b7\"; padding: 0 .5ex}\n",
       "</style>\n",
       "<ol class=list-inline><li>'word'</li><li>'2'</li><li>'TRUE'</li></ol>\n"
      ],
      "text/latex": [
       "\\begin{enumerate*}\n",
       "\\item 'word'\n",
       "\\item '2'\n",
       "\\item 'TRUE'\n",
       "\\end{enumerate*}\n"
      ],
      "text/markdown": [
       "1. 'word'\n",
       "2. '2'\n",
       "3. 'TRUE'\n",
       "\n",
       "\n"
      ],
      "text/plain": [
       "[1] \"word\" \"2\"    \"TRUE\""
      ]
     },
     "metadata": {},
     "output_type": "display_data"
    }
   ],
   "source": [
    "a_vector"
   ]
  },
  {
   "cell_type": "markdown",
   "id": "6a327755",
   "metadata": {},
   "source": [
    "Vectors must be of homogenous type, if you don't do that yourself when creating them, R does that for you: (R counts from 1)"
   ]
  },
  {
   "cell_type": "markdown",
   "id": "52d6ff59",
   "metadata": {},
   "source": [
    "# Coercion\n",
    "\n",
    "Hierarchy for coercion:\n",
    "\n",
    "> character → double → integer → logical"
   ]
  },
  {
   "cell_type": "code",
   "execution_count": 17,
   "id": "6260c1df",
   "metadata": {
    "vscode": {
     "languageId": "r"
    }
   },
   "outputs": [
    {
     "data": {
      "text/html": [
       "<style>\n",
       ".list-inline {list-style: none; margin:0; padding: 0}\n",
       ".list-inline>li {display: inline-block}\n",
       ".list-inline>li:not(:last-child)::after {content: \"\\00b7\"; padding: 0 .5ex}\n",
       "</style>\n",
       "<ol class=list-inline><li>'word'</li><li>'1'</li><li>'TRUE'</li></ol>\n"
      ],
      "text/latex": [
       "\\begin{enumerate*}\n",
       "\\item 'word'\n",
       "\\item '1'\n",
       "\\item 'TRUE'\n",
       "\\end{enumerate*}\n"
      ],
      "text/markdown": [
       "1. 'word'\n",
       "2. '1'\n",
       "3. 'TRUE'\n",
       "\n",
       "\n"
      ],
      "text/plain": [
       "[1] \"word\" \"1\"    \"TRUE\""
      ]
     },
     "metadata": {},
     "output_type": "display_data"
    }
   ],
   "source": [
    "a_vector <- c(\"word\", 1, TRUE)\n",
    "a_vector"
   ]
  },
  {
   "cell_type": "code",
   "execution_count": 18,
   "id": "a8487660",
   "metadata": {
    "vscode": {
     "languageId": "r"
    }
   },
   "outputs": [],
   "source": [
    "mixed_vec <- c(55, TRUE, 1L, NULL)"
   ]
  },
  {
   "cell_type": "code",
   "execution_count": 19,
   "id": "29fa32c5",
   "metadata": {
    "vscode": {
     "languageId": "r"
    }
   },
   "outputs": [
    {
     "data": {
      "text/html": [
       "'double'"
      ],
      "text/latex": [
       "'double'"
      ],
      "text/markdown": [
       "'double'"
      ],
      "text/plain": [
       "[1] \"double\""
      ]
     },
     "metadata": {},
     "output_type": "display_data"
    }
   ],
   "source": [
    "typeof(mixed_vec)"
   ]
  },
  {
   "cell_type": "code",
   "execution_count": 20,
   "id": "a2919ad7",
   "metadata": {
    "vscode": {
     "languageId": "r"
    }
   },
   "outputs": [
    {
     "data": {
      "text/html": [
       "'character'"
      ],
      "text/latex": [
       "'character'"
      ],
      "text/markdown": [
       "'character'"
      ],
      "text/plain": [
       "[1] \"character\""
      ]
     },
     "metadata": {},
     "output_type": "display_data"
    }
   ],
   "source": [
    "class(a_vector)"
   ]
  },
  {
   "cell_type": "code",
   "execution_count": 21,
   "id": "45c7e6fb",
   "metadata": {
    "vscode": {
     "languageId": "r"
    }
   },
   "outputs": [
    {
     "data": {
      "text/html": [
       "'character'"
      ],
      "text/latex": [
       "'character'"
      ],
      "text/markdown": [
       "'character'"
      ],
      "text/plain": [
       "[1] \"character\""
      ]
     },
     "metadata": {},
     "output_type": "display_data"
    }
   ],
   "source": [
    "class(a_vector[1])"
   ]
  },
  {
   "cell_type": "code",
   "execution_count": 22,
   "id": "aed1aec0",
   "metadata": {
    "vscode": {
     "languageId": "r"
    }
   },
   "outputs": [
    {
     "data": {
      "text/html": [
       "'character'"
      ],
      "text/latex": [
       "'character'"
      ],
      "text/markdown": [
       "'character'"
      ],
      "text/plain": [
       "[1] \"character\""
      ]
     },
     "metadata": {},
     "output_type": "display_data"
    }
   ],
   "source": [
    "class(a_vector[2])"
   ]
  },
  {
   "cell_type": "code",
   "execution_count": 23,
   "id": "99f9c44f",
   "metadata": {
    "vscode": {
     "languageId": "r"
    }
   },
   "outputs": [
    {
     "data": {
      "text/html": [
       "'character'"
      ],
      "text/latex": [
       "'character'"
      ],
      "text/markdown": [
       "'character'"
      ],
      "text/plain": [
       "[1] \"character\""
      ]
     },
     "metadata": {},
     "output_type": "display_data"
    }
   ],
   "source": [
    "class(a_vector[3])"
   ]
  },
  {
   "cell_type": "markdown",
   "id": "b33522e3",
   "metadata": {},
   "source": [
    "## iClicker 2: \n",
    "What type are the following mixed vectors coerced to? \n",
    "\n",
    "***`mixed_vec <- c(55, FALSE, 1L, NA,\"NA\")`***\n",
    "\n",
    "A) integer\n",
    "\n",
    "B) double\n",
    "\n",
    "C) character\n",
    "\n",
    "D) logical"
   ]
  },
  {
   "cell_type": "code",
   "execution_count": 21,
   "id": "254a7d9f",
   "metadata": {
    "vscode": {
     "languageId": "r"
    }
   },
   "outputs": [
    {
     "data": {
      "text/html": [
       "<style>\n",
       ".list-inline {list-style: none; margin:0; padding: 0}\n",
       ".list-inline>li {display: inline-block}\n",
       ".list-inline>li:not(:last-child)::after {content: \"\\00b7\"; padding: 0 .5ex}\n",
       "</style>\n",
       "<ol class=list-inline><li>'55'</li><li>'FALSE'</li><li>'1'</li><li>NA</li><li>NA</li><li>'hello'</li></ol>\n"
      ],
      "text/latex": [
       "\\begin{enumerate*}\n",
       "\\item '55'\n",
       "\\item 'FALSE'\n",
       "\\item '1'\n",
       "\\item NA\n",
       "\\item NA\n",
       "\\item 'hello'\n",
       "\\end{enumerate*}\n"
      ],
      "text/markdown": [
       "1. '55'\n",
       "2. 'FALSE'\n",
       "3. '1'\n",
       "4. NA\n",
       "5. NA\n",
       "6. 'hello'\n",
       "\n",
       "\n"
      ],
      "text/plain": [
       "[1] \"55\"    \"FALSE\" \"1\"     NA      NA      \"hello\""
      ]
     },
     "metadata": {},
     "output_type": "display_data"
    },
    {
     "data": {
      "text/html": [
       "'character'"
      ],
      "text/latex": [
       "'character'"
      ],
      "text/markdown": [
       "'character'"
      ],
      "text/plain": [
       "[1] \"character\""
      ]
     },
     "metadata": {},
     "output_type": "display_data"
    }
   ],
   "source": [
    "mixed_vec <- c(55, FALSE, 1L, NA,NA, \"hello\")\n",
    "mixed_vec\n",
    "typeof(mixed_vec)"
   ]
  },
  {
   "cell_type": "code",
   "execution_count": 25,
   "id": "ec2346d9",
   "metadata": {
    "vscode": {
     "languageId": "r"
    }
   },
   "outputs": [
    {
     "data": {
      "text/html": [
       "1"
      ],
      "text/latex": [
       "1"
      ],
      "text/markdown": [
       "1"
      ],
      "text/plain": [
       "[1] 1"
      ]
     },
     "metadata": {},
     "output_type": "display_data"
    }
   ],
   "source": [
    "length(\"hello\")"
   ]
  },
  {
   "cell_type": "code",
   "execution_count": 24,
   "id": "b580fee5",
   "metadata": {
    "vscode": {
     "languageId": "r"
    }
   },
   "outputs": [
    {
     "data": {
      "text/html": [
       "'character'"
      ],
      "text/latex": [
       "'character'"
      ],
      "text/markdown": [
       "'character'"
      ],
      "text/plain": [
       "[1] \"character\""
      ]
     },
     "metadata": {},
     "output_type": "display_data"
    }
   ],
   "source": [
    "typeof(c(\"hello\", \"world\"))"
   ]
  },
  {
   "cell_type": "code",
   "execution_count": 20,
   "id": "41edc03b",
   "metadata": {
    "vscode": {
     "languageId": "r"
    }
   },
   "outputs": [
    {
     "data": {
      "text/html": [
       "'double'"
      ],
      "text/latex": [
       "'double'"
      ],
      "text/markdown": [
       "'double'"
      ],
      "text/plain": [
       "[1] \"double\""
      ]
     },
     "metadata": {},
     "output_type": "display_data"
    }
   ],
   "source": [
    "typeof(NaN)"
   ]
  },
  {
   "cell_type": "markdown",
   "id": "c67f5df3",
   "metadata": {},
   "source": [
    "Lists are also collections of elements, but are a slightly more sophisticated object. They can contain elements of heterogenous types:"
   ]
  },
  {
   "cell_type": "code",
   "execution_count": 26,
   "id": "2926a77b",
   "metadata": {
    "vscode": {
     "languageId": "r"
    }
   },
   "outputs": [
    {
     "data": {
      "text/html": [
       "<style>\n",
       ".list-inline {list-style: none; margin:0; padding: 0}\n",
       ".list-inline>li {display: inline-block}\n",
       ".list-inline>li:not(:last-child)::after {content: \"\\00b7\"; padding: 0 .5ex}\n",
       "</style>\n",
       "<ol class=list-inline><li>'word'</li><li>'1'</li><li>'TRUE'</li></ol>\n"
      ],
      "text/latex": [
       "\\begin{enumerate*}\n",
       "\\item 'word'\n",
       "\\item '1'\n",
       "\\item 'TRUE'\n",
       "\\end{enumerate*}\n"
      ],
      "text/markdown": [
       "1. 'word'\n",
       "2. '1'\n",
       "3. 'TRUE'\n",
       "\n",
       "\n"
      ],
      "text/plain": [
       "[1] \"word\" \"1\"    \"TRUE\""
      ]
     },
     "metadata": {},
     "output_type": "display_data"
    }
   ],
   "source": [
    "a_vec <- c(\"word\", 1, TRUE)\n",
    "a_vec"
   ]
  },
  {
   "cell_type": "code",
   "execution_count": 27,
   "id": "409fbb13",
   "metadata": {
    "vscode": {
     "languageId": "r"
    }
   },
   "outputs": [
    {
     "data": {
      "text/html": [
       "<ol>\n",
       "\t<li>'word'</li>\n",
       "\t<li>1</li>\n",
       "\t<li>TRUE</li>\n",
       "</ol>\n"
      ],
      "text/latex": [
       "\\begin{enumerate}\n",
       "\\item 'word'\n",
       "\\item 1\n",
       "\\item TRUE\n",
       "\\end{enumerate}\n"
      ],
      "text/markdown": [
       "1. 'word'\n",
       "2. 1\n",
       "3. TRUE\n",
       "\n",
       "\n"
      ],
      "text/plain": [
       "[[1]]\n",
       "[1] \"word\"\n",
       "\n",
       "[[2]]\n",
       "[1] 1\n",
       "\n",
       "[[3]]\n",
       "[1] TRUE\n"
      ]
     },
     "metadata": {},
     "output_type": "display_data"
    }
   ],
   "source": [
    "a_list <- list(\"word\", 1, TRUE)\n",
    "a_list"
   ]
  },
  {
   "cell_type": "code",
   "execution_count": 29,
   "id": "6d668b84",
   "metadata": {
    "vscode": {
     "languageId": "r"
    }
   },
   "outputs": [
    {
     "data": {
      "text/html": [
       "<ol>\n",
       "\t<li>TRUE</li>\n",
       "</ol>\n"
      ],
      "text/latex": [
       "\\begin{enumerate}\n",
       "\\item TRUE\n",
       "\\end{enumerate}\n"
      ],
      "text/markdown": [
       "1. TRUE\n",
       "\n",
       "\n"
      ],
      "text/plain": [
       "[[1]]\n",
       "[1] TRUE\n"
      ]
     },
     "metadata": {},
     "output_type": "display_data"
    }
   ],
   "source": [
    "a_list[3]"
   ]
  },
  {
   "cell_type": "code",
   "execution_count": 30,
   "id": "cf364111",
   "metadata": {
    "vscode": {
     "languageId": "r"
    }
   },
   "outputs": [
    {
     "data": {
      "text/html": [
       "TRUE"
      ],
      "text/latex": [
       "TRUE"
      ],
      "text/markdown": [
       "TRUE"
      ],
      "text/plain": [
       "[1] TRUE"
      ]
     },
     "metadata": {},
     "output_type": "display_data"
    }
   ],
   "source": [
    "a_list[[3]]"
   ]
  },
  {
   "cell_type": "code",
   "execution_count": 29,
   "id": "54552092",
   "metadata": {
    "vscode": {
     "languageId": "r"
    }
   },
   "outputs": [
    {
     "data": {
      "text/html": [
       "'list'"
      ],
      "text/latex": [
       "'list'"
      ],
      "text/markdown": [
       "'list'"
      ],
      "text/plain": [
       "[1] \"list\""
      ]
     },
     "metadata": {},
     "output_type": "display_data"
    }
   ],
   "source": [
    "class(a_list)"
   ]
  },
  {
   "cell_type": "code",
   "execution_count": 30,
   "id": "339dae21",
   "metadata": {
    "vscode": {
     "languageId": "r"
    }
   },
   "outputs": [
    {
     "data": {
      "text/html": [
       "'character'"
      ],
      "text/latex": [
       "'character'"
      ],
      "text/markdown": [
       "'character'"
      ],
      "text/plain": [
       "[1] \"character\""
      ]
     },
     "metadata": {},
     "output_type": "display_data"
    }
   ],
   "source": [
    "class(a_list[[1]])"
   ]
  },
  {
   "cell_type": "code",
   "execution_count": 31,
   "id": "276d02c1",
   "metadata": {
    "vscode": {
     "languageId": "r"
    }
   },
   "outputs": [
    {
     "data": {
      "text/html": [
       "'numeric'"
      ],
      "text/latex": [
       "'numeric'"
      ],
      "text/markdown": [
       "'numeric'"
      ],
      "text/plain": [
       "[1] \"numeric\""
      ]
     },
     "metadata": {},
     "output_type": "display_data"
    }
   ],
   "source": [
    "class(a_list[[2]])"
   ]
  },
  {
   "cell_type": "code",
   "execution_count": 32,
   "id": "e5afe4cf",
   "metadata": {
    "vscode": {
     "languageId": "r"
    }
   },
   "outputs": [
    {
     "data": {
      "text/html": [
       "'logical'"
      ],
      "text/latex": [
       "'logical'"
      ],
      "text/markdown": [
       "'logical'"
      ],
      "text/plain": [
       "[1] \"logical\""
      ]
     },
     "metadata": {},
     "output_type": "display_data"
    }
   ],
   "source": [
    "class(a_list[[3]])"
   ]
  },
  {
   "cell_type": "markdown",
   "id": "a0e5ea1b",
   "metadata": {},
   "source": [
    "Data frames are special kinds of lists that are required to have: \n",
    "- the elements be vectors (or list columns - more on that later) - we call these columns\n",
    "- the elements (i.e., columns) must have names\n",
    "- the elements (i.e., columns) must be of the same length"
   ]
  },
  {
   "cell_type": "code",
   "execution_count": 31,
   "id": "b9075192",
   "metadata": {
    "vscode": {
     "languageId": "r"
    }
   },
   "outputs": [
    {
     "data": {
      "text/html": [
       "<table class=\"dataframe\">\n",
       "<caption>A data.frame: 2 x 3</caption>\n",
       "<thead>\n",
       "\t<tr><th scope=col>words</th><th scope=col>numbers</th><th scope=col>logicals</th></tr>\n",
       "\t<tr><th scope=col>&lt;chr&gt;</th><th scope=col>&lt;dbl&gt;</th><th scope=col>&lt;lgl&gt;</th></tr>\n",
       "</thead>\n",
       "<tbody>\n",
       "\t<tr><td>word        </td><td>1</td><td> TRUE</td></tr>\n",
       "\t<tr><td>another word</td><td>2</td><td>FALSE</td></tr>\n",
       "</tbody>\n",
       "</table>\n"
      ],
      "text/latex": [
       "A data.frame: 2 x 3\n",
       "\\begin{tabular}{lll}\n",
       " words & numbers & logicals\\\\\n",
       " <chr> & <dbl> & <lgl>\\\\\n",
       "\\hline\n",
       "\t word         & 1 &  TRUE\\\\\n",
       "\t another word & 2 & FALSE\\\\\n",
       "\\end{tabular}\n"
      ],
      "text/markdown": [
       "\n",
       "A data.frame: 2 x 3\n",
       "\n",
       "| words &lt;chr&gt; | numbers &lt;dbl&gt; | logicals &lt;lgl&gt; |\n",
       "|---|---|---|\n",
       "| word         | 1 |  TRUE |\n",
       "| another word | 2 | FALSE |\n",
       "\n"
      ],
      "text/plain": [
       "  words        numbers logicals\n",
       "1 word         1        TRUE   \n",
       "2 another word 2       FALSE   "
      ]
     },
     "metadata": {},
     "output_type": "display_data"
    }
   ],
   "source": [
    "a_dataframe <- data.frame(words = c(\"word\", \"another word\"), \n",
    "                         numbers = c(1, 2),\n",
    "                         logicals = c(TRUE, FALSE))\n",
    "\n",
    "a_dataframe"
   ]
  },
  {
   "cell_type": "code",
   "execution_count": 35,
   "id": "2789a147",
   "metadata": {
    "vscode": {
     "languageId": "r"
    }
   },
   "outputs": [
    {
     "data": {
      "text/html": [
       "'integer'"
      ],
      "text/latex": [
       "'integer'"
      ],
      "text/markdown": [
       "'integer'"
      ],
      "text/plain": [
       "[1] \"integer\""
      ]
     },
     "metadata": {},
     "output_type": "display_data"
    }
   ],
   "source": [
    "class(1L)"
   ]
  },
  {
   "cell_type": "code",
   "execution_count": 32,
   "id": "661c310e",
   "metadata": {
    "vscode": {
     "languageId": "r"
    }
   },
   "outputs": [
    {
     "data": {
      "text/html": [
       "'list'"
      ],
      "text/latex": [
       "'list'"
      ],
      "text/markdown": [
       "'list'"
      ],
      "text/plain": [
       "[1] \"list\""
      ]
     },
     "metadata": {},
     "output_type": "display_data"
    }
   ],
   "source": [
    "typeof(a_dataframe)"
   ]
  },
  {
   "cell_type": "code",
   "execution_count": 33,
   "id": "ff8a5dd5",
   "metadata": {
    "vscode": {
     "languageId": "r"
    }
   },
   "outputs": [
    {
     "data": {
      "text/html": [
       "'data.frame'"
      ],
      "text/latex": [
       "'data.frame'"
      ],
      "text/markdown": [
       "'data.frame'"
      ],
      "text/plain": [
       "[1] \"data.frame\""
      ]
     },
     "metadata": {},
     "output_type": "display_data"
    }
   ],
   "source": [
    "class(a_dataframe)"
   ]
  },
  {
   "cell_type": "markdown",
   "id": "f522dd13",
   "metadata": {},
   "source": [
    "Tibbles are from the `tidyverse` and are a special flavour of data frame that have:\n",
    "- ability to have grouped rows\n",
    "- more predictable subsetting behaviour when subsetting a single column\n",
    "- a nicer print method in RStudio\n",
    "\n",
    "We will mostly work with tibbles in R in MDS."
   ]
  },
  {
   "cell_type": "code",
   "execution_count": 40,
   "id": "6546f5e5",
   "metadata": {
    "vscode": {
     "languageId": "r"
    }
   },
   "outputs": [
    {
     "name": "stderr",
     "output_type": "stream",
     "text": [
      "-- \u001b[1mAttaching core tidyverse packages\u001b[22m ------------------------ tidyverse 2.0.0 --\n",
      "\u001b[32mv\u001b[39m \u001b[34mdplyr    \u001b[39m 1.1.4     \u001b[32mv\u001b[39m \u001b[34mreadr    \u001b[39m 2.1.5\n",
      "\u001b[32mv\u001b[39m \u001b[34mforcats  \u001b[39m 1.0.0     \u001b[32mv\u001b[39m \u001b[34mstringr  \u001b[39m 1.5.1\n",
      "\u001b[32mv\u001b[39m \u001b[34mggplot2  \u001b[39m 3.5.1     \u001b[32mv\u001b[39m \u001b[34mtibble   \u001b[39m 3.2.1\n",
      "\u001b[32mv\u001b[39m \u001b[34mlubridate\u001b[39m 1.9.3     \u001b[32mv\u001b[39m \u001b[34mtidyr    \u001b[39m 1.3.1\n",
      "\u001b[32mv\u001b[39m \u001b[34mpurrr    \u001b[39m 1.0.2     \n",
      "-- \u001b[1mConflicts\u001b[22m ------------------------------------------ tidyverse_conflicts() --\n",
      "\u001b[31mx\u001b[39m \u001b[34mdplyr\u001b[39m::\u001b[32mfilter()\u001b[39m masks \u001b[34mstats\u001b[39m::filter()\n",
      "\u001b[31mx\u001b[39m \u001b[34mdplyr\u001b[39m::\u001b[32mlag()\u001b[39m    masks \u001b[34mstats\u001b[39m::lag()\n",
      "\u001b[36mi\u001b[39m Use the conflicted package (\u001b[3m\u001b[34m<http://conflicted.r-lib.org/>\u001b[39m\u001b[23m) to force all conflicts to become errors\n"
     ]
    }
   ],
   "source": [
    "library(tidyverse)"
   ]
  },
  {
   "cell_type": "code",
   "execution_count": 41,
   "id": "3f9effca",
   "metadata": {
    "vscode": {
     "languageId": "r"
    }
   },
   "outputs": [
    {
     "data": {
      "text/html": [
       "<table class=\"dataframe\">\n",
       "<caption>A tibble: 2 x 3</caption>\n",
       "<thead>\n",
       "\t<tr><th scope=col>words</th><th scope=col>numbers</th><th scope=col>logicals</th></tr>\n",
       "\t<tr><th scope=col>&lt;chr&gt;</th><th scope=col>&lt;dbl&gt;</th><th scope=col>&lt;lgl&gt;</th></tr>\n",
       "</thead>\n",
       "<tbody>\n",
       "\t<tr><td>word        </td><td>1</td><td> TRUE</td></tr>\n",
       "\t<tr><td>another word</td><td>2</td><td>FALSE</td></tr>\n",
       "</tbody>\n",
       "</table>\n"
      ],
      "text/latex": [
       "A tibble: 2 x 3\n",
       "\\begin{tabular}{lll}\n",
       " words & numbers & logicals\\\\\n",
       " <chr> & <dbl> & <lgl>\\\\\n",
       "\\hline\n",
       "\t word         & 1 &  TRUE\\\\\n",
       "\t another word & 2 & FALSE\\\\\n",
       "\\end{tabular}\n"
      ],
      "text/markdown": [
       "\n",
       "A tibble: 2 x 3\n",
       "\n",
       "| words &lt;chr&gt; | numbers &lt;dbl&gt; | logicals &lt;lgl&gt; |\n",
       "|---|---|---|\n",
       "| word         | 1 |  TRUE |\n",
       "| another word | 2 | FALSE |\n",
       "\n"
      ],
      "text/plain": [
       "  words        numbers logicals\n",
       "1 word         1        TRUE   \n",
       "2 another word 2       FALSE   "
      ]
     },
     "metadata": {},
     "output_type": "display_data"
    }
   ],
   "source": [
    "a_tibble <- tibble(words = c(\"word\", \"another word\"), \n",
    "                         numbers = c(1, 2),\n",
    "                         logicals = c(TRUE, FALSE))\n",
    "\n",
    "a_tibble"
   ]
  },
  {
   "cell_type": "code",
   "execution_count": 42,
   "id": "8c0dcee2",
   "metadata": {
    "vscode": {
     "languageId": "r"
    }
   },
   "outputs": [
    {
     "data": {
      "text/html": [
       "'list'"
      ],
      "text/latex": [
       "'list'"
      ],
      "text/markdown": [
       "'list'"
      ],
      "text/plain": [
       "[1] \"list\""
      ]
     },
     "metadata": {},
     "output_type": "display_data"
    }
   ],
   "source": [
    "typeof(a_tibble)"
   ]
  },
  {
   "cell_type": "code",
   "execution_count": 43,
   "id": "04e6cf36",
   "metadata": {
    "vscode": {
     "languageId": "r"
    }
   },
   "outputs": [
    {
     "data": {
      "text/html": [
       "<style>\n",
       ".list-inline {list-style: none; margin:0; padding: 0}\n",
       ".list-inline>li {display: inline-block}\n",
       ".list-inline>li:not(:last-child)::after {content: \"\\00b7\"; padding: 0 .5ex}\n",
       "</style>\n",
       "<ol class=list-inline><li>'tbl_df'</li><li>'tbl'</li><li>'data.frame'</li></ol>\n"
      ],
      "text/latex": [
       "\\begin{enumerate*}\n",
       "\\item 'tbl\\_df'\n",
       "\\item 'tbl'\n",
       "\\item 'data.frame'\n",
       "\\end{enumerate*}\n"
      ],
      "text/markdown": [
       "1. 'tbl_df'\n",
       "2. 'tbl'\n",
       "3. 'data.frame'\n",
       "\n",
       "\n"
      ],
      "text/plain": [
       "[1] \"tbl_df\"     \"tbl\"        \"data.frame\""
      ]
     },
     "metadata": {},
     "output_type": "display_data"
    }
   ],
   "source": [
    "class(a_tibble)"
   ]
  },
  {
   "cell_type": "markdown",
   "id": "e6ba94c8",
   "metadata": {},
   "source": [
    "## 2. Using base R to subset objects\n",
    "\n",
    "There are 3 operators that can be used when subsetting data frames (and lists, as data frames are a special kind of list): \n",
    "\n",
    "- `[`\n",
    "- `$` \n",
    "- `[[`"
   ]
  },
  {
   "cell_type": "markdown",
   "id": "a5125b05",
   "metadata": {},
   "source": [
    "`[` usually* returns the same type of object:"
   ]
  },
  {
   "cell_type": "code",
   "execution_count": 45,
   "id": "53a32e1e",
   "metadata": {
    "vscode": {
     "languageId": "r"
    }
   },
   "outputs": [
    {
     "data": {
      "text/html": [
       "<table class=\"dataframe\">\n",
       "<caption>A tibble: 2 x 1</caption>\n",
       "<thead>\n",
       "\t<tr><th scope=col>numbers</th></tr>\n",
       "\t<tr><th scope=col>&lt;dbl&gt;</th></tr>\n",
       "</thead>\n",
       "<tbody>\n",
       "\t<tr><td>1</td></tr>\n",
       "\t<tr><td>2</td></tr>\n",
       "</tbody>\n",
       "</table>\n"
      ],
      "text/latex": [
       "A tibble: 2 x 1\n",
       "\\begin{tabular}{l}\n",
       " numbers\\\\\n",
       " <dbl>\\\\\n",
       "\\hline\n",
       "\t 1\\\\\n",
       "\t 2\\\\\n",
       "\\end{tabular}\n"
      ],
      "text/markdown": [
       "\n",
       "A tibble: 2 x 1\n",
       "\n",
       "| numbers &lt;dbl&gt; |\n",
       "|---|\n",
       "| 1 |\n",
       "| 2 |\n",
       "\n"
      ],
      "text/plain": [
       "  numbers\n",
       "1 1      \n",
       "2 2      "
      ]
     },
     "metadata": {},
     "output_type": "display_data"
    }
   ],
   "source": [
    "a_tibble[ , 2]"
   ]
  },
  {
   "cell_type": "markdown",
   "id": "1ad90a41",
   "metadata": {},
   "source": [
    "The exception to this is the special case of a single column of a data frame..."
   ]
  },
  {
   "cell_type": "code",
   "execution_count": 46,
   "id": "8ce25002",
   "metadata": {
    "vscode": {
     "languageId": "r"
    }
   },
   "outputs": [
    {
     "data": {
      "text/html": [
       "<style>\n",
       ".list-inline {list-style: none; margin:0; padding: 0}\n",
       ".list-inline>li {display: inline-block}\n",
       ".list-inline>li:not(:last-child)::after {content: \"\\00b7\"; padding: 0 .5ex}\n",
       "</style>\n",
       "<ol class=list-inline><li>1</li><li>2</li></ol>\n"
      ],
      "text/latex": [
       "\\begin{enumerate*}\n",
       "\\item 1\n",
       "\\item 2\n",
       "\\end{enumerate*}\n"
      ],
      "text/markdown": [
       "1. 1\n",
       "2. 2\n",
       "\n",
       "\n"
      ],
      "text/plain": [
       "[1] 1 2"
      ]
     },
     "metadata": {},
     "output_type": "display_data"
    }
   ],
   "source": [
    "a_dataframe[ , 2]"
   ]
  },
  {
   "cell_type": "markdown",
   "id": "b0af46ae",
   "metadata": {},
   "source": [
    "`$` returns the element with a layer of structure removed."
   ]
  },
  {
   "cell_type": "code",
   "execution_count": 41,
   "id": "25032267",
   "metadata": {
    "vscode": {
     "languageId": "r"
    }
   },
   "outputs": [
    {
     "data": {
      "text/html": [
       "<style>\n",
       ".list-inline {list-style: none; margin:0; padding: 0}\n",
       ".list-inline>li {display: inline-block}\n",
       ".list-inline>li:not(:last-child)::after {content: \"\\00b7\"; padding: 0 .5ex}\n",
       "</style>\n",
       "<ol class=list-inline><li>1</li><li>2</li></ol>\n"
      ],
      "text/latex": [
       "\\begin{enumerate*}\n",
       "\\item 1\n",
       "\\item 2\n",
       "\\end{enumerate*}\n"
      ],
      "text/markdown": [
       "1. 1\n",
       "2. 2\n",
       "\n",
       "\n"
      ],
      "text/plain": [
       "[1] 1 2"
      ]
     },
     "metadata": {},
     "output_type": "display_data"
    }
   ],
   "source": [
    "a_tibble$numbers"
   ]
  },
  {
   "cell_type": "markdown",
   "id": "ba9af432",
   "metadata": {},
   "source": [
    "`[[` returns the element with a layer of structure removed:"
   ]
  },
  {
   "cell_type": "code",
   "execution_count": 42,
   "id": "349fcf73",
   "metadata": {
    "vscode": {
     "languageId": "r"
    }
   },
   "outputs": [
    {
     "data": {
      "text/html": [
       "<style>\n",
       ".list-inline {list-style: none; margin:0; padding: 0}\n",
       ".list-inline>li {display: inline-block}\n",
       ".list-inline>li:not(:last-child)::after {content: \"\\00b7\"; padding: 0 .5ex}\n",
       "</style>\n",
       "<ol class=list-inline><li>1</li><li>2</li></ol>\n"
      ],
      "text/latex": [
       "\\begin{enumerate*}\n",
       "\\item 1\n",
       "\\item 2\n",
       "\\end{enumerate*}\n"
      ],
      "text/markdown": [
       "1. 1\n",
       "2. 2\n",
       "\n",
       "\n"
      ],
      "text/plain": [
       "[1] 1 2"
      ]
     },
     "metadata": {},
     "output_type": "display_data"
    }
   ],
   "source": [
    "a_tibble[[2]]"
   ]
  },
  {
   "cell_type": "markdown",
   "id": "cbab6d76",
   "metadata": {},
   "source": [
    "## 3. Tidyverse code style"
   ]
  },
  {
   "cell_type": "markdown",
   "id": "ca228edf",
   "metadata": {},
   "source": [
    "Let's fix some of the style issues together:"
   ]
  },
  {
   "cell_type": "code",
   "execution_count": null,
   "id": "da440765",
   "metadata": {
    "vscode": {
     "languageId": "r"
    }
   },
   "outputs": [],
   "source": [
    "library(scatterplot3d)\n",
    "\n",
    "# Generates toy dataset to play around with clustering \n",
    "\n",
    "##Function to create toy 3 dimensional dataset\n",
    "\n",
    "\n",
    "make_toy_data <- function(means, stdevs, n) {\n",
    "  ##Returns a dataframe containing a 3D toy dataset \n",
    "  ##\n",
    "  ##Arguements: \n",
    "  ##\n",
    "  ##  means  <- a dataframe of 3 columns giving the means for each dimenstion of each cluster. Each row is a cluster.\n",
    "  ##  stdevs <- a dataframe of 3 columns giving the standard deviations for each dimenstion of each cluster. Each row is a cluster.\n",
    "  ##  n <- a value specifying the number of datapoints for each cluster\n",
    "  ##  dist  <- a vector specifying the type of distribution you would like each cluster data to be\n",
    "  \n",
    "  ##get how many clusters are wanted\n",
    "  cluster_n <- dim(means)[1]\n",
    "  \n",
    "  ##make an empty dataframe to hold the toy data\n",
    "  dim1 <- rep(0, n * cluster.n)\n",
    "  dim2 <- rep(0, n*cluster.n)\n",
    "  dim3 <- rep(0, n*cluster.n)\n",
    "  \n",
    "  ##for each cluster, generate toy data and save them in dim1\n",
    "  previous.n<-0\n",
    "  for (i in 1:cluster.n) {\n",
    "    temp <- rnorm(n,means[i, 1],stdevs[i, 1])\n",
    "    dim1[(previous.n + 1):((previous.n) + n)]  <- temp\n",
    "    previous.n  <- n + previous.n\n",
    "  }\n",
    "  \n",
    "  ##for each cluster, generate toy data and save them in dim2\n",
    "  previous.n<-0\n",
    "  for (i in 1:cluster.n) {\n",
    "    temp <- rnorm(n, means[i, 2], stdevs[i, 2])\n",
    "    dim2[(previous.n + 1):((previous.n) + n)]  <- temp\n",
    "    previous.n  <- n + previous.n\n",
    "  }\n",
    "  \n",
    "  ##for each cluster, generate toy data and save them in dim3\n",
    "  previous.n  <- 0\n",
    "  for (i in 1:cluster.n) {\n",
    "    temp <- rnorm(n, means[i, 3], stdevs[i, 3])\n",
    "    dim3[(previous.n + 1):((previous.n) + n)]  <- temp\n",
    "    previous.n  <- n + previous.n\n",
    "  }\n",
    "  \n",
    "  data.frame(dim1,dim2,dim3)\n",
    "\n",
    "}\n",
    "\n",
    "\n",
    "##define means for toy dataset clusters\n",
    "dim1_mean <- c(2, 50, 10)\n",
    "dim2_mean <- c(8, 6, 13)\n",
    "dim3_mean <- c(2, 2.5, 40)\n",
    "cluster_means <- data.frame(dim1_mean, dim2_mean, dim3_mean)\n",
    "\n",
    "##define standard deviations for toy dataset clusters\n",
    "dim1_stdev <- c(5, 1, 1)\n",
    "dim2_stdev <- c(5, 1, 1)\n",
    "dim3_stdev <- c(5, 1, 1)\n",
    "cluster_stdevs <- data.frame(dim1_stdev, dim2_stdev, dim3_stdev)\n",
    "\n",
    "##define number of samples wanted for each cluster\n",
    "cluster.n <- 200\n",
    "\n",
    "##make toy dataset using parameters specified above\n",
    "my_toy_df <- make_toy_data(cluster_means, cluster_stdevs, cluster.n)\n",
    "\n",
    "##save toy dataset to a .csv using comma as a delimitor\n",
    "write.table(my_toy_df, \n",
    "            \"toy_data.csv\", \n",
    "            sep = \",\", \n",
    "            row.names = FALSE, \n",
    "            col.names = FALSE, \n",
    "            quote = FALSE, \n",
    "            append = FALSE)\n",
    "\n",
    "# Change the data frame with training data to a matrix\n",
    "#not scaled and centred but as a matrix\n",
    "my_toy_df_matrix <- as.matrix(my_toy_df)\n",
    "##plot unclustered data\n",
    "scatterplot3d(my_toy_df_matrix)\n",
    "\n",
    "par(mfrow = c(1,3))\n",
    "plot (my_toy_df_matrix[ , 1], my_toy_df_matrix[ , 2])\n",
    "plot (my_toy_df_matrix[ , 2], my_toy_df_matrix[ , 3])\n",
    "plot (my_toy_df_matrix[ , 3], my_toy_df_matrix[ , 1])"
   ]
  },
  {
   "cell_type": "code",
   "execution_count": null,
   "id": "3de9951d",
   "metadata": {
    "vscode": {
     "languageId": "r"
    }
   },
   "outputs": [],
   "source": [
    "library(scatterplot3d)\n",
    "\n",
    "# Generates toy dataset to play around with clustering \n",
    "\n",
    "##Function to create toy 3 dimensional dataset\n",
    "\n",
    "\n",
    "make_toy_data <- function(means, stdevs, n) {\n",
    "  ##Returns a dataframe containing a 3D toy dataset \n",
    "  ##\n",
    "  ##Arguements: \n",
    "  ##\n",
    "  ##  means  <- a dataframe of 3 columns giving the means for each dimenstion of each cluster. Each row is a cluster.\n",
    "  ##  stdevs <- a dataframe of 3 columns giving the standard deviations for each dimenstion of each cluster. Each row is a cluster.\n",
    "  ##  n <- a value specifying the number of datapoints for each cluster\n",
    "  ##  dist  <- a vector specifying the type of distribution you would like each cluster data to be\n",
    "  \n",
    "  ##get how many clusters are wanted\n",
    "  cluster_n <- dim(means)[1]\n",
    "  \n",
    "  ##make an empty dataframe to hold the toy data\n",
    "  dim1 <- rep(0, n * cluster_n)\n",
    "  dim2 <- rep(0, n * cluster_n)\n",
    "  dim3 <- rep(0, n * cluster_n)\n",
    "  \n",
    "  ##for each cluster, generate toy data and save them in dim1\n",
    "  previous_n  <- 0\n",
    "  for (i in 1:cluster_n) {\n",
    "    temp <- rnorm(n, means[i, 1], stdevs[i, 1])\n",
    "    dim1[(previous_n + 1):((previous_n) + n)]  <- temp\n",
    "    previous_n  <- n + previous_n\n",
    "  }\n",
    "  \n",
    "  ##for each cluster, generate toy data and save them in dim2\n",
    "  previous_n  <- 0\n",
    "  for (i in 1:cluster_n) {\n",
    "    temp <- rnorm(n, means[i, 2], stdevs[i, 2])\n",
    "    dim2[(previous_n + 1):((previous_n) + n)]  <- temp\n",
    "    previous_n  <- n + previous_n\n",
    "  }\n",
    "  \n",
    "  ##for each cluster, generate toy data and save them in dim3\n",
    "  previous_n  <- 0\n",
    "  for (i in 1:cluster_n) {\n",
    "    temp <- rnorm(n, means[i, 3], stdevs[i, 3])\n",
    "    dim3[(previous_n + 1):((previous_n) + n)]  <- temp\n",
    "    previous_n  <- n + previous_n\n",
    "  }\n",
    "  \n",
    "  data.frame(dim1, dim2, dim3)\n",
    "\n",
    "}\n",
    "\n",
    "\n",
    "##define means for toy dataset clusters\n",
    "dim1_mean <- c(2, 50, 10)\n",
    "dim2_mean <- c(8, 6, 13)\n",
    "dim3_mean <- c(2, 2.5, 40)\n",
    "cluster_means <- data.frame(dim1_mean, dim2_mean, dim3_mean)\n",
    "\n",
    "##define standard deviations for toy dataset clusters\n",
    "dim1_stdev <- c(5, 1, 1)\n",
    "dim2_stdev <- c(5, 1, 1)\n",
    "dim3_stdev <- c(5, 1, 1)\n",
    "cluster_stdevs <- data.frame(dim1_stdev, dim2_stdev, dim3_stdev)\n",
    "\n",
    "##define number of samples wanted for each cluster\n",
    "cluster_n <- 200\n",
    "\n",
    "##make toy dataset using parameters specified above\n",
    "my_toy_df <- make_toy_data(cluster_means, cluster_stdevs, cluster_n)\n",
    "\n",
    "##save toy dataset to a .csv using comma as a delimitor\n",
    "write.table(my_toy_df, \n",
    "            \"toy_data.csv\", \n",
    "            sep = \",\", \n",
    "            row.names = FALSE, \n",
    "            col.names = FALSE, \n",
    "            quote = FALSE, \n",
    "            append = FALSE)\n",
    "\n",
    "# Change the data frame with training data to a matrix\n",
    "#not scaled and centred but as a matrix\n",
    "my_toy_df_matrix <- as.matrix(my_toy_df)\n",
    "##plot unclustered data\n",
    "scatterplot3d(my_toy_df_matrix)\n",
    "\n",
    "par(mfrow = c(1,3))\n",
    "plot(my_toy_df_matrix[ , 1], my_toy_df_matrix[ , 2])\n",
    "plot(my_toy_df_matrix[ , 2], my_toy_df_matrix[ , 3])\n",
    "plot(my_toy_df_matrix[ , 3], my_toy_df_matrix[ , 1])"
   ]
  }
 ],
 "metadata": {
  "kernelspec": {
   "display_name": "R",
   "language": "R",
   "name": "ir"
  },
  "language_info": {
   "codemirror_mode": "r",
   "file_extension": ".r",
   "mimetype": "text/x-r-source",
   "name": "R",
   "pygments_lexer": "r",
   "version": "4.4.1"
  }
 },
 "nbformat": 4,
 "nbformat_minor": 5
}
