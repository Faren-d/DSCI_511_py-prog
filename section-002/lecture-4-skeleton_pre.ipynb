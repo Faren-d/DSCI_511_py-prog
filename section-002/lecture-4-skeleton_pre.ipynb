{
 "cells": [
  {
   "cell_type": "markdown",
   "id": "cdcbab8c",
   "metadata": {},
   "source": [
    "## Lecture 4"
   ]
  },
  {
   "cell_type": "markdown",
   "id": "343cf04c-269d-4e09-b8e8-a4d2c089f6ea",
   "metadata": {},
   "source": [
    "## Logistics:\n",
    "- worksheet 1, 2. Iclicker 1, 2, 3 grades released on canvas. Make sure you check email associated with canvas to get notifications.\n",
    "- The practice quiz is released. Get practice with all buttons and features. Any questions ask on slack general channel.\n",
    "- Use tidyverse functions for the exam, like how we do it in lecture notes, labs etc... If you use the base R way of doing things you will lose points.\n",
    "- The workspaces are avaiable, also a place where you can upload you cheat sheets. Make sure you practice them before next week. Show quick demo. \n",
    "    - Make sure you copy things over to answer space, and save them.\n",
    "    - only have your R code in the answer space - not any other text.\n",
    "    - leave the workspace open through out the quiz.\n",
    "    - While using workspace you ofcourse want to load the packages that you need for the code.\n",
    "    - Assume the files are in the same directory as the script. But you won't be able to test the file loading part (so don't need to be panic if you get error).\n",
    "    - Make good use of Code completions, suggestions etc.. all there.\n",
    "- cheat sheets make sure you follow guidelines provided by course coordinators.\n",
    "- How effective can cheat sheets be ? Here is an example..you will find this in the student repo after the lecture.\n",
    "- For quizzes make sure you use tidyverse, lubridate, stringr and the packages that we used.\n",
    "\n",
    "\n",
    "GOOD LUCK WITH THE QUIZ !!"
   ]
  },
  {
   "cell_type": "markdown",
   "id": "83859256-f1b6-4f39-85bb-5d8b202a6c5b",
   "metadata": {},
   "source": [
    "## Half way through the course\n",
    "<img src=\"data/halfway.png\" width=290>\n",
    "\n",
    "- Checkout Vizualization using https://tidydatatutor.com\n",
    "\n",
    "```\n",
    "library(dplyr)\n",
    "library(palmerpenguins)\n",
    "\n",
    "set.seed(2021-12-03)\n",
    "\n",
    "sample_penguins <- penguins %>%\n",
    "  group_by(species) %>% \n",
    "  sample_n(3) %>% \n",
    "  select(species, bill_length_mm) %>% \n",
    "  ungroup()\n",
    "\n",
    "sample_penguins %>% \n",
    "  filter(bill_length_mm > 45) %>% \n",
    "  mutate(bill_length_cm = bill_length_mm/10) %>% \n",
    "  select(species, bill_length_cm) %>% \n",
    "  arrange(desc(bill_length_cm)) %>%\n",
    "  slice(1)\n",
    "```"
   ]
  },
  {
   "cell_type": "markdown",
   "id": "fc9883b8-5a54-4e3a-85ec-2e8941541135",
   "metadata": {},
   "source": [
    "## Today's theme \n",
    "Helpful links\n",
    "- https://www.garrickadenbuie.com/project/tidyexplain/#inner-join"
   ]
  },
  {
   "cell_type": "markdown",
   "id": "214e51d5-0b99-4106-a952-331579e08095",
   "metadata": {},
   "source": [
    "There are 3 key themes to this lecture:\n",
    "\n",
    "1. joins\n",
    "\n",
    "2. for loops\n",
    "\n",
    "3. if, if else and else statements"
   ]
  },
  {
   "cell_type": "markdown",
   "id": "7cfe1616",
   "metadata": {},
   "source": [
    "First, let's load the packages we need:"
   ]
  },
  {
   "cell_type": "code",
   "execution_count": 1,
   "id": "c2d8e681",
   "metadata": {
    "vscode": {
     "languageId": "r"
    }
   },
   "outputs": [
    {
     "name": "stderr",
     "output_type": "stream",
     "text": [
      "-- \u001b[1mAttaching core tidyverse packages\u001b[22m ------------------------ tidyverse 2.0.0 --\n",
      "\u001b[32mv\u001b[39m \u001b[34mdplyr    \u001b[39m 1.1.4     \u001b[32mv\u001b[39m \u001b[34mreadr    \u001b[39m 2.1.5\n",
      "\u001b[32mv\u001b[39m \u001b[34mforcats  \u001b[39m 1.0.0     \u001b[32mv\u001b[39m \u001b[34mstringr  \u001b[39m 1.5.1\n",
      "\u001b[32mv\u001b[39m \u001b[34mggplot2  \u001b[39m 3.5.1     \u001b[32mv\u001b[39m \u001b[34mtibble   \u001b[39m 3.2.1\n",
      "\u001b[32mv\u001b[39m \u001b[34mlubridate\u001b[39m 1.9.3     \u001b[32mv\u001b[39m \u001b[34mtidyr    \u001b[39m 1.3.1\n",
      "\u001b[32mv\u001b[39m \u001b[34mpurrr    \u001b[39m 1.0.2     \n",
      "-- \u001b[1mConflicts\u001b[22m ------------------------------------------ tidyverse_conflicts() --\n",
      "\u001b[31mx\u001b[39m \u001b[34mdplyr\u001b[39m::\u001b[32mfilter()\u001b[39m masks \u001b[34mstats\u001b[39m::filter()\n",
      "\u001b[31mx\u001b[39m \u001b[34mdplyr\u001b[39m::\u001b[32mlag()\u001b[39m    masks \u001b[34mstats\u001b[39m::lag()\n",
      "\u001b[36mi\u001b[39m Use the conflicted package (\u001b[3m\u001b[34m<http://conflicted.r-lib.org/>\u001b[39m\u001b[23m) to force all conflicts to become errors\n"
     ]
    }
   ],
   "source": [
    "library(tidyverse)"
   ]
  },
  {
   "cell_type": "markdown",
   "id": "774677cd",
   "metadata": {},
   "source": [
    "*Note: if you have to install an R package that exists on CRAN, the command is: `install.packages(\"PACKAGE_NAME\")`.*"
   ]
  },
  {
   "cell_type": "markdown",
   "id": "8d17b4f3",
   "metadata": {},
   "source": [
    "And then let's limit the output of data frames in Jupyter to 6 lines:"
   ]
  },
  {
   "cell_type": "code",
   "execution_count": 2,
   "id": "92582eaf",
   "metadata": {
    "vscode": {
     "languageId": "r"
    }
   },
   "outputs": [],
   "source": [
    "options(repr.matrix.max.rows = 6)"
   ]
  },
  {
   "cell_type": "markdown",
   "id": "7315a221",
   "metadata": {},
   "source": [
    "## 1. Joins\n",
    "\n",
    "You can smash things together row-wise (“row binding”) or column-wise (“column binding”) using binding. You might sometimes get into situations where you want to perform row bind, but it is best to avoid column bind whenever you can. But it is best to avoid those if you can. Joins let us combine multiple data frames in useful ways, and were inspired by the database query language SQL. Let's practice a few of the most common joins you might practice in your data science work with the `band_members` and `band_instruments` data frames from the `dplyr` package."
   ]
  },
  {
   "cell_type": "markdown",
   "id": "0af2d5d5",
   "metadata": {},
   "source": [
    ">**Question - what column can we join these two dataframes on?**"
   ]
  },
  {
   "cell_type": "markdown",
   "id": "f97b4c87",
   "metadata": {},
   "source": [
    "What would we do if we want to combine all rows of the dataframes, so we get all records back, with all columns? We would do a `full_join`:"
   ]
  },
  {
   "cell_type": "code",
   "execution_count": null,
   "id": "6b77c0a8",
   "metadata": {
    "vscode": {
     "languageId": "r"
    }
   },
   "outputs": [],
   "source": []
  },
  {
   "cell_type": "markdown",
   "id": "cd8b5e49",
   "metadata": {},
   "source": [
    "What if we just wanted the intersection of these two data frames? Only the rows where the same people exist in both dataframes? We would use an `inner_join`:"
   ]
  },
  {
   "cell_type": "code",
   "execution_count": null,
   "id": "ac3e20ef",
   "metadata": {
    "vscode": {
     "languageId": "r"
    }
   },
   "outputs": [],
   "source": []
  },
  {
   "cell_type": "markdown",
   "id": "f865c5cd",
   "metadata": {},
   "source": [
    "What if we wanted to add an instruments column to the `band_members` dataframe, but just for the members that exist in the `band_members` dataframe and not drop any records from the `band_members` dataframe? We would use `left_join` with the `band_members` dataframe being the first argument:"
   ]
  },
  {
   "cell_type": "code",
   "execution_count": 1,
   "id": "8e915ec4",
   "metadata": {
    "vscode": {
     "languageId": "r"
    }
   },
   "outputs": [],
   "source": [
    "# "
   ]
  },
  {
   "cell_type": "markdown",
   "id": "af0fafae",
   "metadata": {},
   "source": [
    "What if your column names don't match? You can specify which columns to join by! Let's rename columns..."
   ]
  },
  {
   "cell_type": "code",
   "execution_count": 7,
   "id": "6cb20af0",
   "metadata": {
    "vscode": {
     "languageId": "r"
    }
   },
   "outputs": [],
   "source": [
    "# "
   ]
  },
  {
   "cell_type": "code",
   "execution_count": 2,
   "id": "3c54e77a-b725-4ff2-b366-b1ea53d7a23e",
   "metadata": {
    "vscode": {
     "languageId": "r"
    }
   },
   "outputs": [],
   "source": [
    "# band_members\n",
    "# band_instruments"
   ]
  },
  {
   "cell_type": "code",
   "execution_count": 4,
   "id": "71110543",
   "metadata": {
    "vscode": {
     "languageId": "r"
    }
   },
   "outputs": [],
   "source": [
    "## We will get error as there is no common variable\n",
    "##"
   ]
  },
  {
   "cell_type": "markdown",
   "id": "f8c2aea3",
   "metadata": {},
   "source": [
    "I don't care to learn that i can rename it back so that there is common column."
   ]
  },
  {
   "cell_type": "code",
   "execution_count": 10,
   "id": "2aedf56d",
   "metadata": {
    "vscode": {
     "languageId": "r"
    }
   },
   "outputs": [],
   "source": []
  },
  {
   "cell_type": "code",
   "execution_count": null,
   "id": "af346d3b",
   "metadata": {
    "vscode": {
     "languageId": "r"
    }
   },
   "outputs": [],
   "source": []
  },
  {
   "cell_type": "markdown",
   "id": "5158c7a1",
   "metadata": {},
   "source": [
    "## 2. `for` loops\n",
    "\n"
   ]
  },
  {
   "cell_type": "markdown",
   "id": "4769943e",
   "metadata": {},
   "source": [
    "Let's be a little silly here, why? Because life is a little too serious right now.\n",
    "\n",
    "let's loop over the character vector below to print out the joke:"
   ]
  },
  {
   "cell_type": "code",
   "execution_count": 12,
   "id": "7f7a875a",
   "metadata": {
    "vscode": {
     "languageId": "r"
    }
   },
   "outputs": [],
   "source": [
    "the_joke <- c(\"Helvetica and Times New Roman\", \"walk into a bar\", \"Get out of here!\", \"Shouts the bartender\", \"We don't serve your type!\")"
   ]
  },
  {
   "cell_type": "markdown",
   "id": "c8bc516d",
   "metadata": {},
   "source": [
    "In contrast to Python, R uses `{` and `}` to define what code is part of the `for` loop. You also see indentation with code in R when writing a `for` loop, but it is not strictly required but is used to make code more readable."
   ]
  },
  {
   "cell_type": "markdown",
   "id": "b65f6398",
   "metadata": {},
   "source": [
    "We can also use indices in R when we iterate with a `for` loop:"
   ]
  },
  {
   "cell_type": "markdown",
   "id": "b80485a3-ec54-4ee9-b155-3b96fdafd972",
   "metadata": {},
   "source": [
    "Beware of using length instead:"
   ]
  },
  {
   "cell_type": "code",
   "execution_count": 15,
   "id": "03dc5bd4",
   "metadata": {
    "vscode": {
     "languageId": "r"
    }
   },
   "outputs": [],
   "source": [
    "the_joke_empty <- c()"
   ]
  },
  {
   "cell_type": "code",
   "execution_count": 16,
   "id": "bee53893",
   "metadata": {
    "vscode": {
     "languageId": "r"
    }
   },
   "outputs": [
    {
     "name": "stdout",
     "output_type": "stream",
     "text": [
      "NULL\n",
      "NULL\n"
     ]
    }
   ],
   "source": [
    "for (i in 1:length(the_joke_empty)) {\n",
    "    print(the_joke_empty[i])\n",
    "}"
   ]
  },
  {
   "cell_type": "markdown",
   "id": "989082af-25fd-4c7c-b054-c28e6551a07a",
   "metadata": {},
   "source": [
    "Let's see how it going to behave if it is seq_along"
   ]
  },
  {
   "cell_type": "code",
   "execution_count": 17,
   "id": "9f4086be-e318-47d1-9829-a91ba8dd3f4d",
   "metadata": {
    "vscode": {
     "languageId": "r"
    }
   },
   "outputs": [],
   "source": [
    "for (i in seq_along(the_joke_empty)) {\n",
    "    print(the_joke_empty[i])\n",
    "}"
   ]
  },
  {
   "cell_type": "markdown",
   "id": "11b69b64",
   "metadata": {},
   "source": [
    "## 3. `if`, `if else` and `else` statements"
   ]
  },
  {
   "cell_type": "markdown",
   "id": "8fe714eb",
   "metadata": {},
   "source": [
    "Let's do a dice rolling exercise, where we simulate rolling two fair dice and R will comment whether we got a pair or not (or snake eyes!):"
   ]
  },
  {
   "cell_type": "code",
   "execution_count": 18,
   "id": "98cb686d",
   "metadata": {
    "vscode": {
     "languageId": "r"
    }
   },
   "outputs": [
    {
     "data": {
      "text/html": [
       "'6 &amp; 2'"
      ],
      "text/latex": [
       "'6 \\& 2'"
      ],
      "text/markdown": [
       "'6 &amp; 2'"
      ],
      "text/plain": [
       "[1] \"6 & 2\""
      ]
     },
     "metadata": {},
     "output_type": "display_data"
    },
    {
     "name": "stdout",
     "output_type": "stream",
     "text": [
      "[1] \"Try again!\"\n"
     ]
    }
   ],
   "source": [
    "dice1 <- sample(1:6, 1)\n",
    "dice2 <- sample(1:6, 1)\n",
    "paste(dice1, \"&\", dice2)\n",
    "\n",
    "if (dice1 == dice2) {\n",
    "print(\"You rolled a pair!\")\n",
    "    if (dice1 == 1) {\n",
    "        print(\"And they are snake eyes! What a lucky day!\")\n",
    "    }\n",
    "} else {\n",
    "    print(\"Try again!\")\n",
    "}"
   ]
  },
  {
   "cell_type": "code",
   "execution_count": 22,
   "id": "315c84f6",
   "metadata": {
    "vscode": {
     "languageId": "r"
    }
   },
   "outputs": [
    {
     "data": {
      "text/html": [],
      "text/latex": [],
      "text/markdown": [],
      "text/plain": [
       "integer(0)"
      ]
     },
     "metadata": {},
     "output_type": "display_data"
    }
   ],
   "source": [
    "seq_along(c())"
   ]
  }
 ],
 "metadata": {
  "kernelspec": {
   "display_name": "R",
   "language": "R",
   "name": "ir"
  },
  "language_info": {
   "codemirror_mode": "r",
   "file_extension": ".r",
   "mimetype": "text/x-r-source",
   "name": "R",
   "pygments_lexer": "r",
   "version": "4.4.1"
  }
 },
 "nbformat": 4,
 "nbformat_minor": 5
}
