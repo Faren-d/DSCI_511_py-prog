{
 "cells": [
  {
   "cell_type": "markdown",
   "id": "baa56939",
   "metadata": {},
   "source": [
    "## Lecture 2 \n",
    "(You should refer to [main lecture notes] for details)\n",
    "\n",
    "There are 3 key themes to this lecture:\n",
    "\n",
    "1. Key data types in R\n",
    "\n",
    "2. Using base R to subset objects\n",
    "\n",
    "3. Tidyverse code style\n",
    "\n",
    "NOTE: This course is meant to be done in a flipped classroom style. This means that you should watch the pre-recorded lecture videos before coming to class. The class time will be spent in going through some highlights of the lecture, and working on group problem solving by the use of worksheets. I aim to provide you around 30 min to work on the worksheets, during this time me and the TAs will be available to help you with any questions you have."
   ]
  },
  {
   "cell_type": "markdown",
   "id": "6374fa80",
   "metadata": {},
   "source": [
    "## 1. Key data types in R\n",
    "\n",
    "The simplest object in R is a vector of length 1, this is the closest thing R has to a scalar: ( check key datatypes image)"
   ]
  },
  {
   "cell_type": "markdown",
   "id": "5810edf7",
   "metadata": {},
   "source": [
    "Here we created an object named my_string. "
   ]
  },
  {
   "cell_type": "code",
   "execution_count": null,
   "id": "d44f4a92",
   "metadata": {
    "vscode": {
     "languageId": "r"
    }
   },
   "outputs": [],
   "source": []
  },
  {
   "cell_type": "code",
   "execution_count": null,
   "id": "4089b09f",
   "metadata": {
    "vscode": {
     "languageId": "r"
    }
   },
   "outputs": [],
   "source": []
  },
  {
   "cell_type": "markdown",
   "id": "d3ee23fb",
   "metadata": {},
   "source": [
    "You can learn about R objects using `typeof` and `class`:"
   ]
  },
  {
   "cell_type": "code",
   "execution_count": null,
   "id": "360f843c",
   "metadata": {
    "vscode": {
     "languageId": "r"
    }
   },
   "outputs": [],
   "source": []
  },
  {
   "cell_type": "markdown",
   "id": "6a327755",
   "metadata": {},
   "source": [
    "Vectors must be of homogenous type, if you don't do that yourself when creating them, R does that for you: (R counts from 1)"
   ]
  },
  {
   "cell_type": "code",
   "execution_count": null,
   "id": "df4bfb99",
   "metadata": {
    "vscode": {
     "languageId": "r"
    }
   },
   "outputs": [],
   "source": []
  },
  {
   "cell_type": "markdown",
   "id": "c67f5df3",
   "metadata": {},
   "source": [
    "Lists are also collections of elements, but are a slightly more sophisticated object. They can contain elements of heterogenous types:"
   ]
  },
  {
   "cell_type": "code",
   "execution_count": null,
   "id": "0786c527",
   "metadata": {
    "vscode": {
     "languageId": "r"
    }
   },
   "outputs": [],
   "source": []
  },
  {
   "cell_type": "markdown",
   "id": "a0e5ea1b",
   "metadata": {},
   "source": [
    "Data frames are special kinds of lists that are required to have: \n",
    "- the elements be vectors (or list columns - more on that later) - we call these columns\n",
    "- the elements (i.e., columns) must have names\n",
    "- the elements (i.e., columns) must be of the same length"
   ]
  },
  {
   "cell_type": "code",
   "execution_count": null,
   "id": "2a61d3ef",
   "metadata": {
    "vscode": {
     "languageId": "r"
    }
   },
   "outputs": [],
   "source": []
  },
  {
   "cell_type": "markdown",
   "id": "f522dd13",
   "metadata": {},
   "source": [
    "Tibbles are from the `tidyverse` and are a special flavour of data frame that have:\n",
    "- ability to have grouped rows\n",
    "- more predictable subsetting behaviour when subsetting a single column\n",
    "- a nicer print method in RStudio\n",
    "\n",
    "We will mostly work with tibbles in R in MDS."
   ]
  },
  {
   "cell_type": "code",
   "execution_count": null,
   "id": "a8506451",
   "metadata": {
    "vscode": {
     "languageId": "r"
    }
   },
   "outputs": [],
   "source": []
  },
  {
   "cell_type": "markdown",
   "id": "e6ba94c8",
   "metadata": {},
   "source": [
    "## 2. Using base R to subset objects\n",
    "\n",
    "There are 3 operators that can be used when subsetting data frames (and lists, as data frames are a special kind of list): \n",
    "\n",
    "- `[`\n",
    "- `$` \n",
    "- `[[`"
   ]
  },
  {
   "cell_type": "markdown",
   "id": "a5125b05",
   "metadata": {},
   "source": [
    "`[` usually* returns the same type of object:"
   ]
  },
  {
   "cell_type": "code",
   "execution_count": null,
   "id": "0fb4e668",
   "metadata": {
    "vscode": {
     "languageId": "r"
    }
   },
   "outputs": [],
   "source": []
  },
  {
   "cell_type": "markdown",
   "id": "1ad90a41",
   "metadata": {},
   "source": [
    "The exception to this is the special case of a single column of a data frame..."
   ]
  },
  {
   "cell_type": "code",
   "execution_count": null,
   "id": "8ce25002",
   "metadata": {
    "vscode": {
     "languageId": "r"
    }
   },
   "outputs": [],
   "source": []
  },
  {
   "cell_type": "markdown",
   "id": "b0af46ae",
   "metadata": {},
   "source": [
    "`$` returns the element with a layer of structure removed."
   ]
  },
  {
   "cell_type": "code",
   "execution_count": null,
   "id": "25032267",
   "metadata": {
    "vscode": {
     "languageId": "r"
    }
   },
   "outputs": [],
   "source": []
  },
  {
   "cell_type": "markdown",
   "id": "64d962ae",
   "metadata": {},
   "source": [
    "Note, the element must have a name for this to work!"
   ]
  },
  {
   "cell_type": "markdown",
   "id": "ba9af432",
   "metadata": {},
   "source": [
    "`[[` returns the element with a layer of structure removed:"
   ]
  },
  {
   "cell_type": "code",
   "execution_count": null,
   "id": "349fcf73",
   "metadata": {
    "vscode": {
     "languageId": "r"
    }
   },
   "outputs": [],
   "source": []
  },
  {
   "cell_type": "markdown",
   "id": "cbab6d76",
   "metadata": {},
   "source": [
    "## 3. Tidyverse code style"
   ]
  },
  {
   "cell_type": "markdown",
   "id": "ca228edf",
   "metadata": {},
   "source": [
    "Let's fix some of the style issues together:"
   ]
  },
  {
   "cell_type": "code",
   "execution_count": null,
   "id": "da440765",
   "metadata": {
    "vscode": {
     "languageId": "r"
    }
   },
   "outputs": [],
   "source": [
    "library(scatterplot3d)\n",
    "\n",
    "# Generates toy dataset to play around with clustering \n",
    "\n",
    "##Function to create toy 3 dimensional dataset\n",
    "\n",
    "\n",
    "make_toy_data <- function(means, stdevs, n) {\n",
    "  ##Returns a dataframe containing a 3D toy dataset \n",
    "  ##\n",
    "  ##Arguements: \n",
    "  ##\n",
    "  ##  means  <- a dataframe of 3 columns giving the means for each dimenstion of each cluster. Each row is a cluster.\n",
    "  ##  stdevs <- a dataframe of 3 columns giving the standard deviations for each dimenstion of each cluster. Each row is a cluster.\n",
    "  ##  n <- a value specifying the number of datapoints for each cluster\n",
    "  ##  dist  <- a vector specifying the type of distribution you would like each cluster data to be\n",
    "  \n",
    "  ##get how many clusters are wanted\n",
    "  cluster.n<-dim(means)[1]\n",
    "  \n",
    "  ##make an empty dataframe to hold the toy data\n",
    "  dim1 <- rep(0, n*cluster.n)\n",
    "  dim2 <- rep(0, n*cluster.n)\n",
    "  dim3 <- rep(0, n*cluster.n)\n",
    "  \n",
    "  ##for each cluster, generate toy data and save them in dim1\n",
    "  previous.n<-0\n",
    "  for (i in 1:cluster.n) {\n",
    "    temp <- rnorm(n,means[i, 1],stdevs[i, 1])\n",
    "    dim1[(previous.n + 1):((previous.n) + n)]  <- temp\n",
    "    previous.n  <- n + previous.n\n",
    "  }\n",
    "  \n",
    "  ##for each cluster, generate toy data and save them in dim2\n",
    "  previous.n<-0\n",
    "  for (i in 1:cluster.n) {\n",
    "    temp <- rnorm(n, means[i, 2], stdevs[i, 2])\n",
    "    dim2[(previous.n + 1):((previous.n) + n)]  <- temp\n",
    "    previous.n  <- n + previous.n\n",
    "  }\n",
    "  \n",
    "  ##for each cluster, generate toy data and save them in dim3\n",
    "  previous.n  <- 0\n",
    "  for (i in 1:cluster.n) {\n",
    "    temp <- rnorm(n, means[i, 3], stdevs[i, 3])\n",
    "    dim3[(previous.n + 1):((previous.n) + n)]  <- temp\n",
    "    previous.n  <- n + previous.n\n",
    "  }\n",
    "  \n",
    "  data.frame(dim1,dim2,dim3)\n",
    "\n",
    "}\n",
    "\n",
    "\n",
    "##define means for toy dataset clusters\n",
    "dim1_mean <- c(2, 50, 10)\n",
    "dim2_mean <- c(8, 6, 13)\n",
    "dim3_mean <- c(2, 2.5, 40)\n",
    "cluster_means <- data.frame(dim1_mean, dim2_mean, dim3_mean)\n",
    "\n",
    "##define standard deviations for toy dataset clusters\n",
    "dim1_stdev <- c(5, 1, 1)\n",
    "dim2_stdev <- c(5, 1, 1)\n",
    "dim3_stdev <- c(5, 1, 1)\n",
    "cluster_stdevs <- data.frame(dim1_stdev, dim2_stdev, dim3_stdev)\n",
    "\n",
    "##define number of samples wanted for each cluster\n",
    "cluster.n <- 200\n",
    "\n",
    "##make toy dataset using parameters specified above\n",
    "my_toy_df <- make_toy_data(cluster_means, cluster_stdevs, cluster.n)\n",
    "\n",
    "##save toy dataset to a .csv using comma as a delimitor\n",
    "write.table(my_toy_df, \n",
    "            \"toy_data.csv\", \n",
    "            sep = \",\", \n",
    "            row.names = FALSE, \n",
    "            col.names = FALSE, \n",
    "            quote = FALSE, \n",
    "            append = FALSE)\n",
    "\n",
    "# Change the data frame with training data to a matrix\n",
    "#not scaled and centred but as a matrix\n",
    "my_toy_df_matrix <- as.matrix(my_toy_df)\n",
    "##plot unclustered data\n",
    "scatterplot3d(my_toy_df_matrix)\n",
    "\n",
    "par(mfrow = c(1,3))\n",
    "plot (my_toy_df_matrix[ , 1], my_toy_df_matrix[ , 2])\n",
    "plot (my_toy_df_matrix[ , 2], my_toy_df_matrix[ , 3])\n",
    "plot (my_toy_df_matrix[ , 3], my_toy_df_matrix[ , 1])"
   ]
  }
 ],
 "metadata": {
  "kernelspec": {
   "display_name": "R",
   "language": "R",
   "name": "ir"
  },
  "language_info": {
   "codemirror_mode": "r",
   "file_extension": ".r",
   "mimetype": "text/x-r-source",
   "name": "R",
   "pygments_lexer": "r",
   "version": "4.4.1"
  }
 },
 "nbformat": 4,
 "nbformat_minor": 5
}
