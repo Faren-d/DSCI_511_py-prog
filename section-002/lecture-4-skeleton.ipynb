{
 "cells": [
  {
   "cell_type": "markdown",
   "id": "cdcbab8c",
   "metadata": {},
   "source": [
    "## Lecture 4"
   ]
  },
  {
   "cell_type": "markdown",
   "id": "343cf04c-269d-4e09-b8e8-a4d2c089f6ea",
   "metadata": {},
   "source": [
    "## Logistics:\n",
    "- lab1, worksheet1, 2 solutions released. - find them in the student repo.\n",
    "- worksheet 1, 2. Iclicker 1, 2, 3 grades released on canvas. Make sure you check email associated with canvas to get notifications.Check regrading policy here: https://ubc-mds.github.io/policies/\n",
    "- The practice quiz is released. Get practice with all buttons and features. Any questions ask on slack #general channel.\n",
    "- Use tidyverse functions for the exam, like how we do it in lecture notes. If you use the base R way of doing things you will lose points.\n",
    "- The workspaces are avaiable, also a place where you can upload you cheat sheets. Make sure you practice them before next week. Show quick demo. \n",
    "    - Make sure you copy things over to answer space, and save them.\n",
    "    - leave the workspace open through out the quiz.\n",
    "    - While using workspace you ofcourse want to load the packages that you need for the code.\n",
    "    - Assume the files are in the same directory as the script. But you won't be able to test the file loading part (so don't need to be panic if you get error).\n",
    "    - Make good use of Code completions, suggestions, help etc.. all there.\n",
    "- cheat sheets make sure you follow guidelines provided by course coordinators.\n",
    "- How effective can cheat sheets be ? Here is an example..you will find this in the student repo after the lecture.\n",
    "- For quizzes make sure you use tidyverse, lubridate, stringr and the packages that we used.\n",
    "\n",
    "\n",
    "GOOD LUCK WITH THE QUIZ !!"
   ]
  },
  {
   "cell_type": "markdown",
   "id": "83859256-f1b6-4f39-85bb-5d8b202a6c5b",
   "metadata": {},
   "source": [
    "## Half way through the course\n",
    "<img src=\"data/halfway.png\" width=290>\n",
    "\n",
    "- Checkout Vizualization using https://tidydatatutor.com\n",
    "\n",
    "```\n",
    "library(dplyr)\n",
    "library(palmerpenguins)\n",
    "\n",
    "set.seed(2021-12-03)\n",
    "\n",
    "sample_penguins <- penguins %>%\n",
    "  group_by(species) %>% \n",
    "  sample_n(3) %>% \n",
    "  select(species, bill_length_mm) %>% \n",
    "  ungroup()\n",
    "\n",
    "sample_penguins %>% \n",
    "  filter(bill_length_mm > 45) %>% \n",
    "  mutate(bill_length_cm = bill_length_mm/10) %>% \n",
    "  select(species, bill_length_cm) %>% \n",
    "  arrange(desc(bill_length_cm)) %>%\n",
    "  slice(1)\n",
    "```"
   ]
  },
  {
   "cell_type": "markdown",
   "id": "fc9883b8-5a54-4e3a-85ec-2e8941541135",
   "metadata": {},
   "source": [
    "## Today's theme \n",
    "Helpful links\n",
    "- https://www.garrickadenbuie.com/project/tidyexplain/#inner-join"
   ]
  },
  {
   "cell_type": "markdown",
   "id": "214e51d5-0b99-4106-a952-331579e08095",
   "metadata": {},
   "source": [
    "There are 3 key themes to this lecture:\n",
    "\n",
    "1. joins\n",
    "\n",
    "2. for loops\n",
    "\n",
    "3. if, if else and else statements"
   ]
  },
  {
   "cell_type": "markdown",
   "id": "7cfe1616",
   "metadata": {},
   "source": [
    "First, let's load the packages we need:"
   ]
  },
  {
   "cell_type": "code",
   "execution_count": 1,
   "id": "c2d8e681",
   "metadata": {
    "vscode": {
     "languageId": "r"
    }
   },
   "outputs": [
    {
     "name": "stderr",
     "output_type": "stream",
     "text": [
      "-- \u001b[1mAttaching core tidyverse packages\u001b[22m ------------------------ tidyverse 2.0.0 --\n",
      "\u001b[32mv\u001b[39m \u001b[34mdplyr    \u001b[39m 1.1.4     \u001b[32mv\u001b[39m \u001b[34mreadr    \u001b[39m 2.1.5\n",
      "\u001b[32mv\u001b[39m \u001b[34mforcats  \u001b[39m 1.0.0     \u001b[32mv\u001b[39m \u001b[34mstringr  \u001b[39m 1.5.1\n",
      "\u001b[32mv\u001b[39m \u001b[34mggplot2  \u001b[39m 3.5.1     \u001b[32mv\u001b[39m \u001b[34mtibble   \u001b[39m 3.2.1\n",
      "\u001b[32mv\u001b[39m \u001b[34mlubridate\u001b[39m 1.9.3     \u001b[32mv\u001b[39m \u001b[34mtidyr    \u001b[39m 1.3.1\n",
      "\u001b[32mv\u001b[39m \u001b[34mpurrr    \u001b[39m 1.0.2     \n",
      "-- \u001b[1mConflicts\u001b[22m ------------------------------------------ tidyverse_conflicts() --\n",
      "\u001b[31mx\u001b[39m \u001b[34mdplyr\u001b[39m::\u001b[32mfilter()\u001b[39m masks \u001b[34mstats\u001b[39m::filter()\n",
      "\u001b[31mx\u001b[39m \u001b[34mdplyr\u001b[39m::\u001b[32mlag()\u001b[39m    masks \u001b[34mstats\u001b[39m::lag()\n",
      "\u001b[36mi\u001b[39m Use the conflicted package (\u001b[3m\u001b[34m<http://conflicted.r-lib.org/>\u001b[39m\u001b[23m) to force all conflicts to become errors\n"
     ]
    }
   ],
   "source": [
    "library(tidyverse)"
   ]
  },
  {
   "cell_type": "markdown",
   "id": "774677cd",
   "metadata": {},
   "source": [
    "*Note: if you have to install an R package that exists on CRAN, the command is: `install.packages(\"PACKAGE_NAME\")`.*"
   ]
  },
  {
   "cell_type": "markdown",
   "id": "8d17b4f3",
   "metadata": {},
   "source": [
    "And then let's limit the output of data frames in Jupyter to 6 lines:"
   ]
  },
  {
   "cell_type": "code",
   "execution_count": 2,
   "id": "92582eaf",
   "metadata": {
    "vscode": {
     "languageId": "r"
    }
   },
   "outputs": [],
   "source": [
    "options(repr.matrix.max.rows = 6)"
   ]
  },
  {
   "cell_type": "markdown",
   "id": "7315a221",
   "metadata": {},
   "source": [
    "## 1. Joins\n",
    "\n",
    "You can smash things together row-wise (“row binding”) or column-wise (“column binding”) using binding. You might sometimes get into situations where you want to perform row bind, but it is best to avoid column bind whenever you can. But it is best to avoid those if you can. Joins let us combine multiple data frames in useful ways, and were inspired by the database query language SQL. Let's practice a few of the most common joins you might practice in your data science work with the `band_members` and `band_instruments` data frames from the `dplyr` package."
   ]
  },
  {
   "cell_type": "markdown",
   "id": "eab78cd4",
   "metadata": {},
   "source": [
    "Let's start with bunch of iclicker questions:\n",
    "\n",
    "# Iclicker 1:\n",
    "\n",
    "What join on `x` and `y` would result in the `result` dataframe.\n",
    "\n",
    "<img src=\"img/inner.png\" width=230>\n",
    "\n",
    "a) `result <- inner_join(x, y, by = \"name\")`\n",
    "\n",
    "b) `result <- inner_join(x, y)`\n",
    "\n",
    "c) `inner_join(x, y) -> result`\n",
    "\n",
    "d) `result <- full_join(x, y)`\n"
   ]
  },
  {
   "cell_type": "markdown",
   "id": "2c770bda",
   "metadata": {},
   "source": [
    "# Answer: \n",
    "A or B or C"
   ]
  },
  {
   "cell_type": "markdown",
   "id": "feaaf6fa",
   "metadata": {},
   "source": [
    "# Iclicker 2:\n",
    "\n",
    "What join on `x` and `y` would result in the `result` dataframe.\n",
    "\n",
    "<img src=\"img/inner2.png\" width=230>\n",
    "\n",
    "a) `inner_join(x, y, by = c(\"instrument_name\" = \"members_name\"))`\n",
    "\n",
    "b) `result <- inner_join(x, y)`\n",
    "\n",
    "c) `inner_join(y, x, by = c(\"instrument_name\" = \"members_name\"))`\n",
    "\n",
    "d) `inner_join(x, y, by = c(\"instrument_name\", \"members_name\"))`"
   ]
  },
  {
   "cell_type": "markdown",
   "id": "c9265823",
   "metadata": {},
   "source": [
    "# Answer: \n",
    "A "
   ]
  },
  {
   "cell_type": "markdown",
   "id": "03d6b8b2",
   "metadata": {},
   "source": [
    "# Iclicker 3:\n",
    "\n",
    "What join on `x` and `y` would result in the `result` dataframe.\n",
    "\n",
    "<img src=\"img/cross.png\" width=230>\n",
    "\n",
    "a) `result <- full_join(x, y, by = \"name\", all = TRUE)`\n",
    "\n",
    "b) `result <- full_join(x, y)`\n",
    "\n",
    "c) `result <- cross_join(x, y, by = \"name\")`\n",
    "\n",
    "d) `result <- cross_join(x, y)`"
   ]
  },
  {
   "cell_type": "markdown",
   "id": "6908df58",
   "metadata": {
    "vscode": {
     "languageId": "r"
    }
   },
   "source": [
    "# Answer: \n",
    "D"
   ]
  },
  {
   "cell_type": "markdown",
   "id": "9c190f8b",
   "metadata": {},
   "source": [
    "# Iclicker 4:\n",
    "\n",
    "What join on `x` and `y` would result in the `result` dataframe.\n",
    "\n",
    "<img src=\"img/full.png\" width=290>\n",
    "\n",
    "A) `result <- full_join(y,x, by = c(\"members_name\" == \"instrument_name\"))`\n",
    "\n",
    "B) `result <- full_join(x,y, by = c(\"instrument_name\" = \"members_name\"))`\n",
    "\n",
    "C) `result <- full_join(x,y)`\n",
    "\n",
    "D) `result <- full_join(y,x, by = c(members_name == instrument_name))`\n",
    "\n",
    "E) `result <- full_join(y,x, by = c(\"members_name\" = \"instrument_name\"))`"
   ]
  },
  {
   "cell_type": "markdown",
   "id": "6f09d3a9",
   "metadata": {},
   "source": [
    "# Answer:\n",
    "E"
   ]
  },
  {
   "cell_type": "markdown",
   "id": "0af2d5d5",
   "metadata": {},
   "source": [
    ">**Question - what column can we join these two dataframes on?**"
   ]
  },
  {
   "cell_type": "markdown",
   "id": "f97b4c87",
   "metadata": {},
   "source": [
    "What would we do if we want to combine all rows of the dataframes, so we get all records back, with all columns? We would do a `full_join`:"
   ]
  },
  {
   "cell_type": "code",
   "execution_count": 3,
   "id": "9b306585",
   "metadata": {
    "vscode": {
     "languageId": "r"
    }
   },
   "outputs": [
    {
     "name": "stderr",
     "output_type": "stream",
     "text": [
      "\u001b[1m\u001b[22mJoining with `by = join_by(name)`\n"
     ]
    },
    {
     "data": {
      "text/html": [
       "<table class=\"dataframe\">\n",
       "<caption>A tibble: 4 x 3</caption>\n",
       "<thead>\n",
       "\t<tr><th scope=col>name</th><th scope=col>band</th><th scope=col>plays</th></tr>\n",
       "\t<tr><th scope=col>&lt;chr&gt;</th><th scope=col>&lt;chr&gt;</th><th scope=col>&lt;chr&gt;</th></tr>\n",
       "</thead>\n",
       "<tbody>\n",
       "\t<tr><td>Mick </td><td>Stones </td><td>NA    </td></tr>\n",
       "\t<tr><td>John </td><td>Beatles</td><td>guitar</td></tr>\n",
       "\t<tr><td>Paul </td><td>Beatles</td><td>bass  </td></tr>\n",
       "\t<tr><td>Keith</td><td>NA     </td><td>guitar</td></tr>\n",
       "</tbody>\n",
       "</table>\n"
      ],
      "text/latex": [
       "A tibble: 4 x 3\n",
       "\\begin{tabular}{lll}\n",
       " name & band & plays\\\\\n",
       " <chr> & <chr> & <chr>\\\\\n",
       "\\hline\n",
       "\t Mick  & Stones  & NA    \\\\\n",
       "\t John  & Beatles & guitar\\\\\n",
       "\t Paul  & Beatles & bass  \\\\\n",
       "\t Keith & NA      & guitar\\\\\n",
       "\\end{tabular}\n"
      ],
      "text/markdown": [
       "\n",
       "A tibble: 4 x 3\n",
       "\n",
       "| name &lt;chr&gt; | band &lt;chr&gt; | plays &lt;chr&gt; |\n",
       "|---|---|---|\n",
       "| Mick  | Stones  | NA     |\n",
       "| John  | Beatles | guitar |\n",
       "| Paul  | Beatles | bass   |\n",
       "| Keith | NA      | guitar |\n",
       "\n"
      ],
      "text/plain": [
       "  name  band    plays \n",
       "1 Mick  Stones  NA    \n",
       "2 John  Beatles guitar\n",
       "3 Paul  Beatles bass  \n",
       "4 Keith NA      guitar"
      ]
     },
     "metadata": {},
     "output_type": "display_data"
    }
   ],
   "source": [
    "full_join(band_members, band_instruments)"
   ]
  },
  {
   "cell_type": "markdown",
   "id": "cd8b5e49",
   "metadata": {},
   "source": [
    "What if we just wanted the intersection of these two data frames? Only the rows where the same people exist in both dataframes? We would use an `inner_join`:"
   ]
  },
  {
   "cell_type": "code",
   "execution_count": 4,
   "id": "1641d4f7",
   "metadata": {
    "vscode": {
     "languageId": "r"
    }
   },
   "outputs": [
    {
     "name": "stderr",
     "output_type": "stream",
     "text": [
      "\u001b[1m\u001b[22mJoining with `by = join_by(name)`\n"
     ]
    },
    {
     "data": {
      "text/html": [
       "<table class=\"dataframe\">\n",
       "<caption>A tibble: 2 x 3</caption>\n",
       "<thead>\n",
       "\t<tr><th scope=col>name</th><th scope=col>band</th><th scope=col>plays</th></tr>\n",
       "\t<tr><th scope=col>&lt;chr&gt;</th><th scope=col>&lt;chr&gt;</th><th scope=col>&lt;chr&gt;</th></tr>\n",
       "</thead>\n",
       "<tbody>\n",
       "\t<tr><td>John</td><td>Beatles</td><td>guitar</td></tr>\n",
       "\t<tr><td>Paul</td><td>Beatles</td><td>bass  </td></tr>\n",
       "</tbody>\n",
       "</table>\n"
      ],
      "text/latex": [
       "A tibble: 2 x 3\n",
       "\\begin{tabular}{lll}\n",
       " name & band & plays\\\\\n",
       " <chr> & <chr> & <chr>\\\\\n",
       "\\hline\n",
       "\t John & Beatles & guitar\\\\\n",
       "\t Paul & Beatles & bass  \\\\\n",
       "\\end{tabular}\n"
      ],
      "text/markdown": [
       "\n",
       "A tibble: 2 x 3\n",
       "\n",
       "| name &lt;chr&gt; | band &lt;chr&gt; | plays &lt;chr&gt; |\n",
       "|---|---|---|\n",
       "| John | Beatles | guitar |\n",
       "| Paul | Beatles | bass   |\n",
       "\n"
      ],
      "text/plain": [
       "  name band    plays \n",
       "1 John Beatles guitar\n",
       "2 Paul Beatles bass  "
      ]
     },
     "metadata": {},
     "output_type": "display_data"
    }
   ],
   "source": [
    "inner_join(band_members, band_instruments)"
   ]
  },
  {
   "cell_type": "markdown",
   "id": "f865c5cd",
   "metadata": {},
   "source": [
    "What if we wanted to add an instruments column to the `band_members` dataframe, but just for the members that exist in the `band_members` dataframe and not drop any records from the `band_members` dataframe? We would use `left_join` with the `band_members` dataframe being the first argument:"
   ]
  },
  {
   "cell_type": "code",
   "execution_count": 5,
   "id": "8e915ec4",
   "metadata": {
    "vscode": {
     "languageId": "r"
    }
   },
   "outputs": [
    {
     "name": "stderr",
     "output_type": "stream",
     "text": [
      "\u001b[1m\u001b[22mJoining with `by = join_by(name)`\n"
     ]
    },
    {
     "data": {
      "text/html": [
       "<table class=\"dataframe\">\n",
       "<caption>A tibble: 3 x 3</caption>\n",
       "<thead>\n",
       "\t<tr><th scope=col>name</th><th scope=col>band</th><th scope=col>plays</th></tr>\n",
       "\t<tr><th scope=col>&lt;chr&gt;</th><th scope=col>&lt;chr&gt;</th><th scope=col>&lt;chr&gt;</th></tr>\n",
       "</thead>\n",
       "<tbody>\n",
       "\t<tr><td>Mick</td><td>Stones </td><td>NA    </td></tr>\n",
       "\t<tr><td>John</td><td>Beatles</td><td>guitar</td></tr>\n",
       "\t<tr><td>Paul</td><td>Beatles</td><td>bass  </td></tr>\n",
       "</tbody>\n",
       "</table>\n"
      ],
      "text/latex": [
       "A tibble: 3 x 3\n",
       "\\begin{tabular}{lll}\n",
       " name & band & plays\\\\\n",
       " <chr> & <chr> & <chr>\\\\\n",
       "\\hline\n",
       "\t Mick & Stones  & NA    \\\\\n",
       "\t John & Beatles & guitar\\\\\n",
       "\t Paul & Beatles & bass  \\\\\n",
       "\\end{tabular}\n"
      ],
      "text/markdown": [
       "\n",
       "A tibble: 3 x 3\n",
       "\n",
       "| name &lt;chr&gt; | band &lt;chr&gt; | plays &lt;chr&gt; |\n",
       "|---|---|---|\n",
       "| Mick | Stones  | NA     |\n",
       "| John | Beatles | guitar |\n",
       "| Paul | Beatles | bass   |\n",
       "\n"
      ],
      "text/plain": [
       "  name band    plays \n",
       "1 Mick Stones  NA    \n",
       "2 John Beatles guitar\n",
       "3 Paul Beatles bass  "
      ]
     },
     "metadata": {},
     "output_type": "display_data"
    }
   ],
   "source": [
    "left_join(band_members, band_instruments)"
   ]
  },
  {
   "cell_type": "markdown",
   "id": "af0fafae",
   "metadata": {},
   "source": [
    "What if your column names don't match? You can specify which columns to join by! Let's rename columns..."
   ]
  },
  {
   "cell_type": "code",
   "execution_count": 6,
   "id": "6cb20af0",
   "metadata": {
    "vscode": {
     "languageId": "r"
    }
   },
   "outputs": [],
   "source": [
    "band_members <- band_members |> rename(band_name = name)"
   ]
  },
  {
   "cell_type": "code",
   "execution_count": 7,
   "id": "3c54e77a-b725-4ff2-b366-b1ea53d7a23e",
   "metadata": {
    "vscode": {
     "languageId": "r"
    }
   },
   "outputs": [
    {
     "data": {
      "text/html": [
       "<table class=\"dataframe\">\n",
       "<caption>A tibble: 3 x 2</caption>\n",
       "<thead>\n",
       "\t<tr><th scope=col>band_name</th><th scope=col>band</th></tr>\n",
       "\t<tr><th scope=col>&lt;chr&gt;</th><th scope=col>&lt;chr&gt;</th></tr>\n",
       "</thead>\n",
       "<tbody>\n",
       "\t<tr><td>Mick</td><td>Stones </td></tr>\n",
       "\t<tr><td>John</td><td>Beatles</td></tr>\n",
       "\t<tr><td>Paul</td><td>Beatles</td></tr>\n",
       "</tbody>\n",
       "</table>\n"
      ],
      "text/latex": [
       "A tibble: 3 x 2\n",
       "\\begin{tabular}{ll}\n",
       " band\\_name & band\\\\\n",
       " <chr> & <chr>\\\\\n",
       "\\hline\n",
       "\t Mick & Stones \\\\\n",
       "\t John & Beatles\\\\\n",
       "\t Paul & Beatles\\\\\n",
       "\\end{tabular}\n"
      ],
      "text/markdown": [
       "\n",
       "A tibble: 3 x 2\n",
       "\n",
       "| band_name &lt;chr&gt; | band &lt;chr&gt; |\n",
       "|---|---|\n",
       "| Mick | Stones  |\n",
       "| John | Beatles |\n",
       "| Paul | Beatles |\n",
       "\n"
      ],
      "text/plain": [
       "  band_name band   \n",
       "1 Mick      Stones \n",
       "2 John      Beatles\n",
       "3 Paul      Beatles"
      ]
     },
     "metadata": {},
     "output_type": "display_data"
    },
    {
     "data": {
      "text/html": [
       "<table class=\"dataframe\">\n",
       "<caption>A tibble: 3 x 2</caption>\n",
       "<thead>\n",
       "\t<tr><th scope=col>name</th><th scope=col>plays</th></tr>\n",
       "\t<tr><th scope=col>&lt;chr&gt;</th><th scope=col>&lt;chr&gt;</th></tr>\n",
       "</thead>\n",
       "<tbody>\n",
       "\t<tr><td>John </td><td>guitar</td></tr>\n",
       "\t<tr><td>Paul </td><td>bass  </td></tr>\n",
       "\t<tr><td>Keith</td><td>guitar</td></tr>\n",
       "</tbody>\n",
       "</table>\n"
      ],
      "text/latex": [
       "A tibble: 3 x 2\n",
       "\\begin{tabular}{ll}\n",
       " name & plays\\\\\n",
       " <chr> & <chr>\\\\\n",
       "\\hline\n",
       "\t John  & guitar\\\\\n",
       "\t Paul  & bass  \\\\\n",
       "\t Keith & guitar\\\\\n",
       "\\end{tabular}\n"
      ],
      "text/markdown": [
       "\n",
       "A tibble: 3 x 2\n",
       "\n",
       "| name &lt;chr&gt; | plays &lt;chr&gt; |\n",
       "|---|---|\n",
       "| John  | guitar |\n",
       "| Paul  | bass   |\n",
       "| Keith | guitar |\n",
       "\n"
      ],
      "text/plain": [
       "  name  plays \n",
       "1 John  guitar\n",
       "2 Paul  bass  \n",
       "3 Keith guitar"
      ]
     },
     "metadata": {},
     "output_type": "display_data"
    }
   ],
   "source": [
    "band_members\n",
    "band_instruments"
   ]
  },
  {
   "cell_type": "code",
   "execution_count": 8,
   "id": "71110543",
   "metadata": {
    "vscode": {
     "languageId": "r"
    }
   },
   "outputs": [
    {
     "data": {
      "text/html": [
       "<table class=\"dataframe\">\n",
       "<caption>A tibble: 3 x 3</caption>\n",
       "<thead>\n",
       "\t<tr><th scope=col>band_name</th><th scope=col>band</th><th scope=col>plays</th></tr>\n",
       "\t<tr><th scope=col>&lt;chr&gt;</th><th scope=col>&lt;chr&gt;</th><th scope=col>&lt;chr&gt;</th></tr>\n",
       "</thead>\n",
       "<tbody>\n",
       "\t<tr><td>Mick</td><td>Stones </td><td>NA    </td></tr>\n",
       "\t<tr><td>John</td><td>Beatles</td><td>guitar</td></tr>\n",
       "\t<tr><td>Paul</td><td>Beatles</td><td>bass  </td></tr>\n",
       "</tbody>\n",
       "</table>\n"
      ],
      "text/latex": [
       "A tibble: 3 x 3\n",
       "\\begin{tabular}{lll}\n",
       " band\\_name & band & plays\\\\\n",
       " <chr> & <chr> & <chr>\\\\\n",
       "\\hline\n",
       "\t Mick & Stones  & NA    \\\\\n",
       "\t John & Beatles & guitar\\\\\n",
       "\t Paul & Beatles & bass  \\\\\n",
       "\\end{tabular}\n"
      ],
      "text/markdown": [
       "\n",
       "A tibble: 3 x 3\n",
       "\n",
       "| band_name &lt;chr&gt; | band &lt;chr&gt; | plays &lt;chr&gt; |\n",
       "|---|---|---|\n",
       "| Mick | Stones  | NA     |\n",
       "| John | Beatles | guitar |\n",
       "| Paul | Beatles | bass   |\n",
       "\n"
      ],
      "text/plain": [
       "  band_name band    plays \n",
       "1 Mick      Stones  NA    \n",
       "2 John      Beatles guitar\n",
       "3 Paul      Beatles bass  "
      ]
     },
     "metadata": {},
     "output_type": "display_data"
    }
   ],
   "source": [
    "## We will get error as there is no common variable\n",
    "left_join(band_members, band_instruments, by = c(\"band_name\" = \"name\"))"
   ]
  },
  {
   "cell_type": "markdown",
   "id": "f8c2aea3",
   "metadata": {},
   "source": [
    "I don't care to learn that i can rename it back so that there is common column."
   ]
  },
  {
   "cell_type": "code",
   "execution_count": 9,
   "id": "2aedf56d",
   "metadata": {
    "vscode": {
     "languageId": "r"
    }
   },
   "outputs": [],
   "source": [
    "band_members <- band_members |> rename(name = band_name)"
   ]
  },
  {
   "cell_type": "code",
   "execution_count": 10,
   "id": "af346d3b",
   "metadata": {
    "vscode": {
     "languageId": "r"
    }
   },
   "outputs": [
    {
     "name": "stderr",
     "output_type": "stream",
     "text": [
      "\u001b[1m\u001b[22mJoining with `by = join_by(name)`\n"
     ]
    },
    {
     "data": {
      "text/html": [
       "<table class=\"dataframe\">\n",
       "<caption>A tibble: 3 x 3</caption>\n",
       "<thead>\n",
       "\t<tr><th scope=col>name</th><th scope=col>band</th><th scope=col>plays</th></tr>\n",
       "\t<tr><th scope=col>&lt;chr&gt;</th><th scope=col>&lt;chr&gt;</th><th scope=col>&lt;chr&gt;</th></tr>\n",
       "</thead>\n",
       "<tbody>\n",
       "\t<tr><td>Mick</td><td>Stones </td><td>NA    </td></tr>\n",
       "\t<tr><td>John</td><td>Beatles</td><td>guitar</td></tr>\n",
       "\t<tr><td>Paul</td><td>Beatles</td><td>bass  </td></tr>\n",
       "</tbody>\n",
       "</table>\n"
      ],
      "text/latex": [
       "A tibble: 3 x 3\n",
       "\\begin{tabular}{lll}\n",
       " name & band & plays\\\\\n",
       " <chr> & <chr> & <chr>\\\\\n",
       "\\hline\n",
       "\t Mick & Stones  & NA    \\\\\n",
       "\t John & Beatles & guitar\\\\\n",
       "\t Paul & Beatles & bass  \\\\\n",
       "\\end{tabular}\n"
      ],
      "text/markdown": [
       "\n",
       "A tibble: 3 x 3\n",
       "\n",
       "| name &lt;chr&gt; | band &lt;chr&gt; | plays &lt;chr&gt; |\n",
       "|---|---|---|\n",
       "| Mick | Stones  | NA     |\n",
       "| John | Beatles | guitar |\n",
       "| Paul | Beatles | bass   |\n",
       "\n"
      ],
      "text/plain": [
       "  name band    plays \n",
       "1 Mick Stones  NA    \n",
       "2 John Beatles guitar\n",
       "3 Paul Beatles bass  "
      ]
     },
     "metadata": {},
     "output_type": "display_data"
    }
   ],
   "source": [
    "left_join(band_members, band_instruments)"
   ]
  },
  {
   "cell_type": "markdown",
   "id": "5158c7a1",
   "metadata": {},
   "source": [
    "## 2. `for` loops\n",
    "\n"
   ]
  },
  {
   "cell_type": "markdown",
   "id": "94dbd261",
   "metadata": {},
   "source": [
    "# iclicker 5:\n",
    "\n",
    "```r\n",
    "x <- 10\n",
    "if (x < 5) {\n",
    "  result <- \"Less than 5\"\n",
    "} else if (x >= 5 & x < 15) {\n",
    "  result <- \"Between 5 and 15\"\n",
    "} else {\n",
    "  result <- \"15 or more\"\n",
    "}\n",
    "print(result)\n",
    "```\n",
    "\n",
    "What will be the output of the above code?\n",
    "\n",
    "A) \"Less than 5\"\n",
    "\n",
    "B) \"Between 5 and 15\"\n",
    "\n",
    "C) \"15 or more\"\n",
    "\n",
    "D) \"Between 5 and 15\"\n",
    "   \"Less than 5\""
   ]
  },
  {
   "cell_type": "markdown",
   "id": "1476f6de",
   "metadata": {},
   "source": [
    "# answer:\n",
    "B) \"Between 5 and 15\""
   ]
  },
  {
   "cell_type": "markdown",
   "id": "2177d33f",
   "metadata": {},
   "source": [
    "What is the output of this code?\n",
    "\n",
    "```r\n",
    "the_joke_empty <- c()\n",
    "\n",
    "for (i in 1:length(the_joke_empty)) {\n",
    "    print(the_joke_empty[i])\n",
    "}\n",
    "\n",
    "for (i in seq_along(the_joke_empty)) {\n",
    "    print(the_joke_empty[i])\n",
    "}\n",
    "```\n",
    "\n",
    "A) The first loop prints nothing, and the second loop prints nothing.\n",
    "\n",
    "B) The first loop prints NULL twice, and the second loop prints nothing.\n",
    "\n",
    "C) The first loop prints nothing, and the second loop prints NULL twice.\n",
    "\n",
    "D) Both loops print NULL once."
   ]
  },
  {
   "cell_type": "markdown",
   "id": "300d989e",
   "metadata": {},
   "source": [
    "Answer: Option B\n",
    "\n",
    "Be careful when using length() with empty vectors. It counts from 1:0, so it returns 1,0. Use seq_along() instead.\n"
   ]
  },
  {
   "cell_type": "code",
   "execution_count": 19,
   "id": "d36c0d01",
   "metadata": {
    "vscode": {
     "languageId": "r"
    }
   },
   "outputs": [
    {
     "data": {
      "text/html": [
       "<style>\n",
       ".list-inline {list-style: none; margin:0; padding: 0}\n",
       ".list-inline>li {display: inline-block}\n",
       ".list-inline>li:not(:last-child)::after {content: \"\\00b7\"; padding: 0 .5ex}\n",
       "</style>\n",
       "<ol class=list-inline><li>1</li><li>0</li></ol>\n"
      ],
      "text/latex": [
       "\\begin{enumerate*}\n",
       "\\item 1\n",
       "\\item 0\n",
       "\\end{enumerate*}\n"
      ],
      "text/markdown": [
       "1. 1\n",
       "2. 0\n",
       "\n",
       "\n"
      ],
      "text/plain": [
       "[1] 1 0"
      ]
     },
     "metadata": {},
     "output_type": "display_data"
    }
   ],
   "source": [
    "1:0"
   ]
  },
  {
   "cell_type": "markdown",
   "id": "4769943e",
   "metadata": {},
   "source": [
    "Let's be a little silly here, why? Because life is a little too serious right now.\n",
    "\n",
    "let's loop over the character vector below to print out the joke:"
   ]
  },
  {
   "cell_type": "code",
   "execution_count": 11,
   "id": "7f7a875a",
   "metadata": {
    "vscode": {
     "languageId": "r"
    }
   },
   "outputs": [],
   "source": [
    "the_joke <- c(\"Helvetica and Times New Roman\", \"walk into a bar\", \"Get out of here!\", \"Shouts the bartender\", \"We don't serve your type!\")"
   ]
  },
  {
   "cell_type": "code",
   "execution_count": 12,
   "id": "cd81f8fc",
   "metadata": {
    "vscode": {
     "languageId": "r"
    }
   },
   "outputs": [
    {
     "name": "stdout",
     "output_type": "stream",
     "text": [
      "[1] \"Helvetica and Times New Roman\"\n",
      "[1] \"walk into a bar\"\n",
      "[1] \"Get out of here!\"\n",
      "[1] \"Shouts the bartender\"\n",
      "[1] \"We don't serve your type!\"\n"
     ]
    }
   ],
   "source": [
    "for (lines in the_joke) {\n",
    "    print(lines)\n",
    "}"
   ]
  },
  {
   "cell_type": "markdown",
   "id": "c8bc516d",
   "metadata": {},
   "source": [
    "In contrast to Python, R uses `{` and `}` to define what code is part of the `for` loop. You also see indentation with code in R when writing a `for` loop, but it is not strictly required but is used to make code more readable."
   ]
  },
  {
   "cell_type": "markdown",
   "id": "b65f6398",
   "metadata": {},
   "source": [
    "We can also use indices in R when we iterate with a `for` loop:"
   ]
  },
  {
   "cell_type": "code",
   "execution_count": 13,
   "id": "a7b84dea",
   "metadata": {
    "vscode": {
     "languageId": "r"
    }
   },
   "outputs": [
    {
     "name": "stdout",
     "output_type": "stream",
     "text": [
      "[1] \"Helvetica and Times New Roman\"\n",
      "[1] \"walk into a bar\"\n",
      "[1] \"Get out of here!\"\n",
      "[1] \"Shouts the bartender\"\n",
      "[1] \"We don't serve your type!\"\n"
     ]
    }
   ],
   "source": [
    "for (i in seq_along(the_joke)) {\n",
    "    # print(i)\n",
    "    print(the_joke[i])\n",
    "}"
   ]
  },
  {
   "cell_type": "markdown",
   "id": "b80485a3-ec54-4ee9-b155-3b96fdafd972",
   "metadata": {},
   "source": [
    "Beware of using length instead:"
   ]
  },
  {
   "cell_type": "code",
   "execution_count": 14,
   "id": "03dc5bd4",
   "metadata": {
    "vscode": {
     "languageId": "r"
    }
   },
   "outputs": [],
   "source": [
    "the_joke_empty <- c()"
   ]
  },
  {
   "cell_type": "code",
   "execution_count": 15,
   "id": "bee53893",
   "metadata": {
    "vscode": {
     "languageId": "r"
    }
   },
   "outputs": [
    {
     "name": "stdout",
     "output_type": "stream",
     "text": [
      "NULL\n",
      "NULL\n"
     ]
    }
   ],
   "source": [
    "for (i in 1:length(the_joke_empty)) {\n",
    "    print(the_joke_empty[i])\n",
    "}"
   ]
  },
  {
   "cell_type": "markdown",
   "id": "989082af-25fd-4c7c-b054-c28e6551a07a",
   "metadata": {},
   "source": [
    "Let's see how it going to behave if it is seq_along"
   ]
  },
  {
   "cell_type": "code",
   "execution_count": 16,
   "id": "9f4086be-e318-47d1-9829-a91ba8dd3f4d",
   "metadata": {
    "vscode": {
     "languageId": "r"
    }
   },
   "outputs": [],
   "source": [
    "for (i in seq_along(the_joke_empty)) {\n",
    "    print(the_joke_empty[i])\n",
    "}"
   ]
  },
  {
   "cell_type": "markdown",
   "id": "11b69b64",
   "metadata": {},
   "source": [
    "## 3. `if`, `if else` and `else` statements"
   ]
  },
  {
   "cell_type": "markdown",
   "id": "8fe714eb",
   "metadata": {},
   "source": [
    "Let's do a dice rolling exercise, where we simulate rolling two fair dice and R will comment whether we got a pair or not (or snake eyes!):"
   ]
  },
  {
   "cell_type": "code",
   "execution_count": 17,
   "id": "98cb686d",
   "metadata": {
    "vscode": {
     "languageId": "r"
    }
   },
   "outputs": [
    {
     "data": {
      "text/html": [
       "'2 &amp; 3'"
      ],
      "text/latex": [
       "'2 \\& 3'"
      ],
      "text/markdown": [
       "'2 &amp; 3'"
      ],
      "text/plain": [
       "[1] \"2 & 3\""
      ]
     },
     "metadata": {},
     "output_type": "display_data"
    },
    {
     "name": "stdout",
     "output_type": "stream",
     "text": [
      "[1] \"Try again!\"\n"
     ]
    }
   ],
   "source": [
    "dice1 <- sample(1:6, 1)\n",
    "dice2 <- sample(1:6, 1)\n",
    "paste(dice1, \"&\", dice2)\n",
    "\n",
    "if (dice1 == dice2) {\n",
    "print(\"You rolled a pair!\")\n",
    "    if (dice1 == 1) {\n",
    "        print(\"And they are snake eyes! What a lucky day!\")\n",
    "    }\n",
    "} else {\n",
    "    print(\"Try again!\")\n",
    "}"
   ]
  },
  {
   "cell_type": "code",
   "execution_count": 18,
   "id": "315c84f6",
   "metadata": {
    "vscode": {
     "languageId": "r"
    }
   },
   "outputs": [
    {
     "data": {
      "text/html": [],
      "text/latex": [],
      "text/markdown": [],
      "text/plain": [
       "integer(0)"
      ]
     },
     "metadata": {},
     "output_type": "display_data"
    }
   ],
   "source": [
    "seq_along(c())"
   ]
  },
  {
   "cell_type": "code",
   "execution_count": null,
   "id": "3ce7757b",
   "metadata": {
    "vscode": {
     "languageId": "r"
    }
   },
   "outputs": [],
   "source": []
  }
 ],
 "metadata": {
  "kernelspec": {
   "display_name": "R",
   "language": "R",
   "name": "ir"
  },
  "language_info": {
   "codemirror_mode": "r",
   "file_extension": ".r",
   "mimetype": "text/x-r-source",
   "name": "R",
   "pygments_lexer": "r",
   "version": "4.4.1"
  }
 },
 "nbformat": 4,
 "nbformat_minor": 5
}
