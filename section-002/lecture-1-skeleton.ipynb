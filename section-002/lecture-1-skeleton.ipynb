{
 "cells": [
  {
   "cell_type": "markdown",
   "metadata": {},
   "source": [
    "# Lecture 1 - inclass delivery\n",
    "\n",
    "> Note: Data file used in this notebook you can find in the student repo. \n",
    "\n",
    "- I am Gittu George, Ph.D\n",
    "- I am a Full-time lecturer here.\n",
    "- Email Me: ggeorg02@cs.ubc.ca\n",
    "- Office Hours: Mon 1:00 - 2:00 PM My office ICCS 185\n",
    "- Research interests are at the intersection of computer science and genomics.\n",
    "- I primarily teach cloud computing and database courses with MDS, CS and MBAN. This is my second time teaching DSCI 523.\n",
    "\n",
    "## Logistics\n",
    "- signup \n",
    "- slack channel \n",
    "- gradescope\n",
    "- iclicker cloud\n",
    "- prarielearn\n",
    "- student repo (github) https://github.ubc.ca/mds-2024-25/DSCI_523_r-prog_students\n",
    "\n",
    "Few things to note:\n",
    "- You will find lecture theme notes in student repo (after the lecture)\n",
    "- Course related questions ask in 523 slack channel - DON\"T DM ME.\n",
    "- Some things that are broad and not related to the course, you can ask me in #general channel.\n",
    "- For personal questions, please reach out to me via DM/ email ggeorg02@cs.ubc.ca\n",
    "\n",
    "> Please open up iclicker cloud. Details in slack channel.\n",
    "\n",
    "# Clicker 1: So, who has used R before?\n",
    "\n",
    "A) YES, I used R before.\n",
    "\n",
    "B) NO, I haven't used R before.\n",
    "\n",
    "C) I haven't even heard of it."
   ]
  },
  {
   "cell_type": "code",
   "execution_count": 49,
   "metadata": {
    "vscode": {
     "languageId": "r"
    }
   },
   "outputs": [
    {
     "name": "stderr",
     "output_type": "stream",
     "text": [
      "Using GitHub PAT from the git credential store.\n",
      "\n",
      "Skipping install of 'canlang' from a github remote, the SHA1 (1a543054) has not changed since last install.\n",
      "  Use `force = TRUE` to force installation\n",
      "\n"
     ]
    }
   ],
   "source": [
    "# to install packages \n",
    "devtools::install_github(\"ttimbers/canlang\")"
   ]
  },
  {
   "cell_type": "markdown",
   "metadata": {
    "vscode": {
     "languageId": "r"
    }
   },
   "source": [
    "(You should refer to main lecture notes for details)\n",
    "\n",
    "There are 3 key themes to this lecture:\n",
    "\n",
    "1. Reading data\n",
    "\n",
    "2. Single table manipulations\n",
    "\n",
    "3. Tidy data\n",
    "\n",
    "> NOTE: This course is done in a flipped classroom style. This means that you should watch the pre-recorded lecture videos before coming to class. The class time will be spent in going through some highlights of the lecture, and working on group problem solving by the use of worksheets. I aim to provide you around 30 min to work on the worksheets, during this time me and the TAs will be available to help you with any questions you have."
   ]
  },
  {
   "cell_type": "markdown",
   "metadata": {},
   "source": [
    "First, let's load the packages we need:\n",
    "\n",
    "We will load the `tidyverse` package, which is a meta-package that loads a collection of packages that are designed to work well together, and mainly used for wrangling."
   ]
  },
  {
   "cell_type": "code",
   "execution_count": 40,
   "metadata": {
    "scrolled": true,
    "slideshow": {
     "slide_type": "slide"
    },
    "vscode": {
     "languageId": "r"
    }
   },
   "outputs": [],
   "source": [
    "library(tidyverse)"
   ]
  },
  {
   "cell_type": "markdown",
   "metadata": {},
   "source": [
    "You have already explored a couple of files while going over the pre-recorded videos. For now, the question that we want to answer is \n",
    "\n",
    "> Question: What percentage of parks in Vancouver have a public washroom?\n",
    "\n",
    "In order to answer that question, you need to get the files you wanted. Here are 2 datasets that you want. Now, we are tasked with working on 2 files to answer this question. \n",
    "\n",
    "- [City of Vancouver Parks washrooms data set](https://opendata.vancouver.ca/explore/dataset/parks-washrooms/export/) \n",
    "- [City of Vancouver Parks data set](https://opendata.vancouver.ca/explore/dataset/parks/export/)\n",
    "\n",
    "- You can see many different file formats there. Let's all use the CSV file format for this exercise."
   ]
  },
  {
   "cell_type": "markdown",
   "metadata": {},
   "source": [
    "# iclicker 2 : Should I download the file or use the link directly in my code?\n",
    "- A) Download the file, before reading it. \n",
    "- B) Use the link directly in your code.\n",
    "\n",
    "> Discuss with your neighbour."
   ]
  },
  {
   "cell_type": "markdown",
   "metadata": {},
   "source": [
    "## Clicker 2 - discussion\n",
    "\n",
    "- After download, this is how your file will look like `parks-washrooms.csv`\n",
    "\n",
    "- You can also right-click on the link, copy the link address, and use it in your code to download the file directly. Here is the link I got. \n",
    "\n",
    "`https://opendata.vancouver.ca/api/explore/v2.1/catalog/datasets/parks-washrooms/exports/csv?lang=en&timezone=America%2FLos_Angeles&use_labels=true&delimiter=%3B`\n",
    "\n",
    "Note: Downloading the file is a good idea, as opening it in your favorite text editor will help you explore its contents more. "
   ]
  },
  {
   "cell_type": "markdown",
   "metadata": {},
   "source": [
    "# iclicker 3: \n",
    "Say the file you downloaded is very large (say 20 GB), what should you do to understand the structure of the file?\n",
    "- A) Open in excel.\n",
    "- B) Don't download read directly in R using the link provided.\n",
    "- C) Download and use handy shell commands to check the file size and structure."
   ]
  },
  {
   "cell_type": "markdown",
   "metadata": {},
   "source": [
    "## Clicker 3 - discussion\n",
    "\n",
    "Some shell/command line tools will help you do this. And you will learn more about this in DSCI 521\n",
    "\n",
    "- `head -n 10 FILENAME` will print the first 10 lines of the file - can be helpful to understand the headers and if there is any metadata in the file at the beginning.\n",
    "- `wc -l FILENAME` will tell you how many lines are in the file - just to get an idea of how big the file is.\n",
    "- `tail -n 10 FILENAME` will print the last 10 lines of the file - can be helpful to understand if there is a footer in the file."
   ]
  },
  {
   "cell_type": "markdown",
   "metadata": {},
   "source": [
    "For now I am loading the file that I downloaded. "
   ]
  },
  {
   "cell_type": "markdown",
   "metadata": {},
   "source": [
    "# iclicker 4: \n",
    "\n",
    "Which dplyr verb should I use to load the file?\n",
    "\n",
    "- A) read_delim\n",
    "- B) read_csv\n",
    "- C) read_tsv\n",
    "- D) read_excel"
   ]
  },
  {
   "cell_type": "markdown",
   "metadata": {},
   "source": [
    "## Clicker 4 - discussion"
   ]
  },
  {
   "cell_type": "markdown",
   "metadata": {},
   "source": [
    "Once you decide the verb that is appropriate to load the file, you need to decide on the arguments that you need to pass to the function. Let's load the file now. "
   ]
  },
  {
   "cell_type": "code",
   "execution_count": 41,
   "metadata": {
    "vscode": {
     "languageId": "r"
    }
   },
   "outputs": [],
   "source": [
    "setwd(\"/Users/ggeorg02/Desktop/github2024-25/DSCI_523_r-prog_instructors/section-002/lecture_material/\")"
   ]
  },
  {
   "cell_type": "code",
   "execution_count": 44,
   "metadata": {
    "vscode": {
     "languageId": "r"
    }
   },
   "outputs": [
    {
     "name": "stderr",
     "output_type": "stream",
     "text": [
      "\u001b[1mRows: \u001b[22m\u001b[34m94\u001b[39m \u001b[1mColumns: \u001b[22m\u001b[34m6\u001b[39m\n",
      "\u001b[36m--\u001b[39m \u001b[1mColumn specification\u001b[22m \u001b[36m--------------------------------------------------------\u001b[39m\n",
      "\u001b[1mDelimiter:\u001b[22m \";\"\n",
      "\u001b[31mchr\u001b[39m (5): Name, Location, Notes, SummerHours, WinterHours\n",
      "\u001b[32mdbl\u001b[39m (1): ParkID\n",
      "\n",
      "\u001b[36mi\u001b[39m Use `spec()` to retrieve the full column specification for this data.\n",
      "\u001b[36mi\u001b[39m Specify the column types or set `show_col_types = FALSE` to quiet this message.\n"
     ]
    }
   ],
   "source": [
    "washrooms <- read_delim(\"data/parks-washrooms.csv\",delim = \";\")"
   ]
  },
  {
   "cell_type": "code",
   "execution_count": 45,
   "metadata": {
    "vscode": {
     "languageId": "r"
    }
   },
   "outputs": [
    {
     "data": {
      "text/html": [
       "<table class=\"dataframe\">\n",
       "<caption>A tibble: 6 x 6</caption>\n",
       "<thead>\n",
       "\t<tr><th scope=col>ParkID</th><th scope=col>Name</th><th scope=col>Location</th><th scope=col>Notes</th><th scope=col>SummerHours</th><th scope=col>WinterHours</th></tr>\n",
       "\t<tr><th scope=col>&lt;dbl&gt;</th><th scope=col>&lt;chr&gt;</th><th scope=col>&lt;chr&gt;</th><th scope=col>&lt;chr&gt;</th><th scope=col>&lt;chr&gt;</th><th scope=col>&lt;chr&gt;</th></tr>\n",
       "</thead>\n",
       "<tbody>\n",
       "\t<tr><td>10</td><td>Andy Livingstone Park  </td><td>South side, fieldhouse   </td><td>NA               </td><td>10:00 am - 11:00 pm</td><td>10:00 am - 11:00 pm</td></tr>\n",
       "\t<tr><td>16</td><td>David Lam Park         </td><td>West side                </td><td>NA               </td><td>10:00 am - Dusk    </td><td>10:00 am - Dusk    </td></tr>\n",
       "\t<tr><td>39</td><td>Memorial West Park     </td><td>Central, field house     </td><td>Caretaker on site</td><td>Dawn to Dusk       </td><td>Dawn to Dusk       </td></tr>\n",
       "\t<tr><td>67</td><td>Burrard View Park      </td><td>Fieldhouse               </td><td>No Caretaker     </td><td>Dawn to Dusk       </td><td>Dawn to Dusk       </td></tr>\n",
       "\t<tr><td>73</td><td>Hastings Community Park</td><td>Central, field house     </td><td>No Caretaker     </td><td>Dawn to Dusk       </td><td>Closed             </td></tr>\n",
       "\t<tr><td>76</td><td><span style=white-space:pre-wrap>Rupert Park            </span></td><td>Pitch &amp; Putt (north side)</td><td><span style=white-space:pre-wrap>NA               </span></td><td><span style=white-space:pre-wrap>Dawn to Dusk       </span></td><td><span style=white-space:pre-wrap>Dawn to Dusk       </span></td></tr>\n",
       "</tbody>\n",
       "</table>\n"
      ],
      "text/latex": [
       "A tibble: 6 x 6\n",
       "\\begin{tabular}{llllll}\n",
       " ParkID & Name & Location & Notes & SummerHours & WinterHours\\\\\n",
       " <dbl> & <chr> & <chr> & <chr> & <chr> & <chr>\\\\\n",
       "\\hline\n",
       "\t 10 & Andy Livingstone Park   & South side, fieldhouse    & NA                & 10:00 am - 11:00 pm & 10:00 am - 11:00 pm\\\\\n",
       "\t 16 & David Lam Park          & West side                 & NA                & 10:00 am - Dusk     & 10:00 am - Dusk    \\\\\n",
       "\t 39 & Memorial West Park      & Central, field house      & Caretaker on site & Dawn to Dusk        & Dawn to Dusk       \\\\\n",
       "\t 67 & Burrard View Park       & Fieldhouse                & No Caretaker      & Dawn to Dusk        & Dawn to Dusk       \\\\\n",
       "\t 73 & Hastings Community Park & Central, field house      & No Caretaker      & Dawn to Dusk        & Closed             \\\\\n",
       "\t 76 & Rupert Park             & Pitch \\& Putt (north side) & NA                & Dawn to Dusk        & Dawn to Dusk       \\\\\n",
       "\\end{tabular}\n"
      ],
      "text/markdown": [
       "\n",
       "A tibble: 6 x 6\n",
       "\n",
       "| ParkID &lt;dbl&gt; | Name &lt;chr&gt; | Location &lt;chr&gt; | Notes &lt;chr&gt; | SummerHours &lt;chr&gt; | WinterHours &lt;chr&gt; |\n",
       "|---|---|---|---|---|---|\n",
       "| 10 | Andy Livingstone Park   | South side, fieldhouse    | NA                | 10:00 am - 11:00 pm | 10:00 am - 11:00 pm |\n",
       "| 16 | David Lam Park          | West side                 | NA                | 10:00 am - Dusk     | 10:00 am - Dusk     |\n",
       "| 39 | Memorial West Park      | Central, field house      | Caretaker on site | Dawn to Dusk        | Dawn to Dusk        |\n",
       "| 67 | Burrard View Park       | Fieldhouse                | No Caretaker      | Dawn to Dusk        | Dawn to Dusk        |\n",
       "| 73 | Hastings Community Park | Central, field house      | No Caretaker      | Dawn to Dusk        | Closed              |\n",
       "| 76 | Rupert Park             | Pitch &amp; Putt (north side) | NA                | Dawn to Dusk        | Dawn to Dusk        |\n",
       "\n"
      ],
      "text/plain": [
       "  ParkID Name                    Location                  Notes            \n",
       "1 10     Andy Livingstone Park   South side, fieldhouse    NA               \n",
       "2 16     David Lam Park          West side                 NA               \n",
       "3 39     Memorial West Park      Central, field house      Caretaker on site\n",
       "4 67     Burrard View Park       Fieldhouse                No Caretaker     \n",
       "5 73     Hastings Community Park Central, field house      No Caretaker     \n",
       "6 76     Rupert Park             Pitch & Putt (north side) NA               \n",
       "  SummerHours         WinterHours        \n",
       "1 10:00 am - 11:00 pm 10:00 am - 11:00 pm\n",
       "2 10:00 am - Dusk     10:00 am - Dusk    \n",
       "3 Dawn to Dusk        Dawn to Dusk       \n",
       "4 Dawn to Dusk        Dawn to Dusk       \n",
       "5 Dawn to Dusk        Closed             \n",
       "6 Dawn to Dusk        Dawn to Dusk       "
      ]
     },
     "metadata": {},
     "output_type": "display_data"
    }
   ],
   "source": [
    "head(washrooms)"
   ]
  },
  {
   "cell_type": "markdown",
   "metadata": {},
   "source": [
    "Just like that I am loading the park data file as well."
   ]
  },
  {
   "cell_type": "code",
   "execution_count": 46,
   "metadata": {
    "vscode": {
     "languageId": "r"
    }
   },
   "outputs": [
    {
     "name": "stderr",
     "output_type": "stream",
     "text": [
      "\u001b[1mRows: \u001b[22m\u001b[34m216\u001b[39m \u001b[1mColumns: \u001b[22m\u001b[34m15\u001b[39m\n",
      "\u001b[36m--\u001b[39m \u001b[1mColumn specification\u001b[22m \u001b[36m--------------------------------------------------------\u001b[39m\n",
      "\u001b[1mDelimiter:\u001b[22m \";\"\n",
      "\u001b[31mchr\u001b[39m (11): Name, Advisories, SpecialFeatures, Facilities, Washrooms, StreetNa...\n",
      "\u001b[32mdbl\u001b[39m  (4): ParkID, Official, StreetNumber, Hectare\n",
      "\n",
      "\u001b[36mi\u001b[39m Use `spec()` to retrieve the full column specification for this data.\n",
      "\u001b[36mi\u001b[39m Specify the column types or set `show_col_types = FALSE` to quiet this message.\n"
     ]
    }
   ],
   "source": [
    "parks <- read_delim(\"https://opendata.vancouver.ca/api/explore/v2.1/catalog/datasets/parks/exports/csv?lang=en&timezone=America%2FLos_Angeles&use_labels=true&delimiter=%3B\",\n",
    "                        delim = \";\") \n",
    "# why delim is important"
   ]
  },
  {
   "cell_type": "code",
   "execution_count": 47,
   "metadata": {
    "vscode": {
     "languageId": "r"
    }
   },
   "outputs": [
    {
     "data": {
      "text/html": [
       "<table class=\"dataframe\">\n",
       "<caption>A tibble: 6 x 15</caption>\n",
       "<thead>\n",
       "\t<tr><th scope=col>ParkID</th><th scope=col>Name</th><th scope=col>Official</th><th scope=col>Advisories</th><th scope=col>SpecialFeatures</th><th scope=col>Facilities</th><th scope=col>Washrooms</th><th scope=col>StreetNumber</th><th scope=col>StreetName</th><th scope=col>EWStreet</th><th scope=col>NSStreet</th><th scope=col>NeighbourhoodName</th><th scope=col>NeighbourhoodURL</th><th scope=col>Hectare</th><th scope=col>GoogleMapDest</th></tr>\n",
       "\t<tr><th scope=col>&lt;dbl&gt;</th><th scope=col>&lt;chr&gt;</th><th scope=col>&lt;dbl&gt;</th><th scope=col>&lt;chr&gt;</th><th scope=col>&lt;chr&gt;</th><th scope=col>&lt;chr&gt;</th><th scope=col>&lt;chr&gt;</th><th scope=col>&lt;dbl&gt;</th><th scope=col>&lt;chr&gt;</th><th scope=col>&lt;chr&gt;</th><th scope=col>&lt;chr&gt;</th><th scope=col>&lt;chr&gt;</th><th scope=col>&lt;chr&gt;</th><th scope=col>&lt;dbl&gt;</th><th scope=col>&lt;chr&gt;</th></tr>\n",
       "</thead>\n",
       "<tbody>\n",
       "\t<tr><td> 1</td><td>Arbutus Village Park    </td><td>1</td><td>N</td><td>N</td><td>Y</td><td>N</td><td>4202</td><td>Valley Drive       </td><td>King Edward Avenue</td><td>Valley Drive       </td><td>Arbutus-Ridge</td><td>https://vancouver.ca/news-calendar/arbutus-ridge.aspx</td><td>1.41</td><td>49.249783, -123.15525 </td></tr>\n",
       "\t<tr><td> 4</td><td>Park Site on Puget Drive</td><td>0</td><td>N</td><td>N</td><td>N</td><td>N</td><td>4309</td><td>Puget Drive        </td><td>Puget Drive       </td><td>MacDonald Street   </td><td>Arbutus-Ridge</td><td>https://vancouver.ca/news-calendar/arbutus-ridge.aspx</td><td>0.09</td><td>49.247723, -123.168194</td></tr>\n",
       "\t<tr><td>10</td><td>Andy Livingstone Park   </td><td>1</td><td>N</td><td>N</td><td>Y</td><td>Y</td><td>  89</td><td>Expo Boulevard     </td><td>Expo Boulevard    </td><td>Carrall Street     </td><td>Downtown     </td><td>https://vancouver.ca/news-calendar/downtown.aspx     </td><td>4.21</td><td>49.278923, -123.1055  </td></tr>\n",
       "\t<tr><td>14</td><td>Coopers' Park           </td><td>1</td><td>N</td><td>Y</td><td>Y</td><td>N</td><td>1020</td><td>Marinaside Crescent</td><td>Nelson Street     </td><td>Marinaside Crescent</td><td>Downtown     </td><td>https://vancouver.ca/news-calendar/downtown.aspx     </td><td>1.71</td><td>49.273253, -123.1139  </td></tr>\n",
       "\t<tr><td>18</td><td>Devonian Harbour Park   </td><td>1</td><td>N</td><td>Y</td><td>Y</td><td>N</td><td>1929</td><td>W Georgia Street   </td><td>W Georgia Street  </td><td>Denman Street      </td><td>Downtown     </td><td>https://vancouver.ca/news-calendar/downtown.aspx     </td><td>4.42</td><td>49.294353, -123.134654</td></tr>\n",
       "\t<tr><td>19</td><td>Art Phillips Park       </td><td>1</td><td>N</td><td>N</td><td>N</td><td>N</td><td> 625</td><td>Burrard Street     </td><td>Melville Street   </td><td>Burrard Street     </td><td>Downtown     </td><td>https://vancouver.ca/news-calendar/downtown.aspx     </td><td>0.10</td><td>49.285911, -123.120948</td></tr>\n",
       "</tbody>\n",
       "</table>\n"
      ],
      "text/latex": [
       "A tibble: 6 x 15\n",
       "\\begin{tabular}{lllllllllllllll}\n",
       " ParkID & Name & Official & Advisories & SpecialFeatures & Facilities & Washrooms & StreetNumber & StreetName & EWStreet & NSStreet & NeighbourhoodName & NeighbourhoodURL & Hectare & GoogleMapDest\\\\\n",
       " <dbl> & <chr> & <dbl> & <chr> & <chr> & <chr> & <chr> & <dbl> & <chr> & <chr> & <chr> & <chr> & <chr> & <dbl> & <chr>\\\\\n",
       "\\hline\n",
       "\t  1 & Arbutus Village Park     & 1 & N & N & Y & N & 4202 & Valley Drive        & King Edward Avenue & Valley Drive        & Arbutus-Ridge & https://vancouver.ca/news-calendar/arbutus-ridge.aspx & 1.41 & 49.249783, -123.15525 \\\\\n",
       "\t  4 & Park Site on Puget Drive & 0 & N & N & N & N & 4309 & Puget Drive         & Puget Drive        & MacDonald Street    & Arbutus-Ridge & https://vancouver.ca/news-calendar/arbutus-ridge.aspx & 0.09 & 49.247723, -123.168194\\\\\n",
       "\t 10 & Andy Livingstone Park    & 1 & N & N & Y & Y &   89 & Expo Boulevard      & Expo Boulevard     & Carrall Street      & Downtown      & https://vancouver.ca/news-calendar/downtown.aspx      & 4.21 & 49.278923, -123.1055  \\\\\n",
       "\t 14 & Coopers' Park            & 1 & N & Y & Y & N & 1020 & Marinaside Crescent & Nelson Street      & Marinaside Crescent & Downtown      & https://vancouver.ca/news-calendar/downtown.aspx      & 1.71 & 49.273253, -123.1139  \\\\\n",
       "\t 18 & Devonian Harbour Park    & 1 & N & Y & Y & N & 1929 & W Georgia Street    & W Georgia Street   & Denman Street       & Downtown      & https://vancouver.ca/news-calendar/downtown.aspx      & 4.42 & 49.294353, -123.134654\\\\\n",
       "\t 19 & Art Phillips Park        & 1 & N & N & N & N &  625 & Burrard Street      & Melville Street    & Burrard Street      & Downtown      & https://vancouver.ca/news-calendar/downtown.aspx      & 0.10 & 49.285911, -123.120948\\\\\n",
       "\\end{tabular}\n"
      ],
      "text/markdown": [
       "\n",
       "A tibble: 6 x 15\n",
       "\n",
       "| ParkID &lt;dbl&gt; | Name &lt;chr&gt; | Official &lt;dbl&gt; | Advisories &lt;chr&gt; | SpecialFeatures &lt;chr&gt; | Facilities &lt;chr&gt; | Washrooms &lt;chr&gt; | StreetNumber &lt;dbl&gt; | StreetName &lt;chr&gt; | EWStreet &lt;chr&gt; | NSStreet &lt;chr&gt; | NeighbourhoodName &lt;chr&gt; | NeighbourhoodURL &lt;chr&gt; | Hectare &lt;dbl&gt; | GoogleMapDest &lt;chr&gt; |\n",
       "|---|---|---|---|---|---|---|---|---|---|---|---|---|---|---|\n",
       "|  1 | Arbutus Village Park     | 1 | N | N | Y | N | 4202 | Valley Drive        | King Edward Avenue | Valley Drive        | Arbutus-Ridge | https://vancouver.ca/news-calendar/arbutus-ridge.aspx | 1.41 | 49.249783, -123.15525  |\n",
       "|  4 | Park Site on Puget Drive | 0 | N | N | N | N | 4309 | Puget Drive         | Puget Drive        | MacDonald Street    | Arbutus-Ridge | https://vancouver.ca/news-calendar/arbutus-ridge.aspx | 0.09 | 49.247723, -123.168194 |\n",
       "| 10 | Andy Livingstone Park    | 1 | N | N | Y | Y |   89 | Expo Boulevard      | Expo Boulevard     | Carrall Street      | Downtown      | https://vancouver.ca/news-calendar/downtown.aspx      | 4.21 | 49.278923, -123.1055   |\n",
       "| 14 | Coopers' Park            | 1 | N | Y | Y | N | 1020 | Marinaside Crescent | Nelson Street      | Marinaside Crescent | Downtown      | https://vancouver.ca/news-calendar/downtown.aspx      | 1.71 | 49.273253, -123.1139   |\n",
       "| 18 | Devonian Harbour Park    | 1 | N | Y | Y | N | 1929 | W Georgia Street    | W Georgia Street   | Denman Street       | Downtown      | https://vancouver.ca/news-calendar/downtown.aspx      | 4.42 | 49.294353, -123.134654 |\n",
       "| 19 | Art Phillips Park        | 1 | N | N | N | N |  625 | Burrard Street      | Melville Street    | Burrard Street      | Downtown      | https://vancouver.ca/news-calendar/downtown.aspx      | 0.10 | 49.285911, -123.120948 |\n",
       "\n"
      ],
      "text/plain": [
       "  ParkID Name                     Official Advisories SpecialFeatures\n",
       "1  1     Arbutus Village Park     1        N          N              \n",
       "2  4     Park Site on Puget Drive 0        N          N              \n",
       "3 10     Andy Livingstone Park    1        N          N              \n",
       "4 14     Coopers' Park            1        N          Y              \n",
       "5 18     Devonian Harbour Park    1        N          Y              \n",
       "6 19     Art Phillips Park        1        N          N              \n",
       "  Facilities Washrooms StreetNumber StreetName          EWStreet          \n",
       "1 Y          N         4202         Valley Drive        King Edward Avenue\n",
       "2 N          N         4309         Puget Drive         Puget Drive       \n",
       "3 Y          Y           89         Expo Boulevard      Expo Boulevard    \n",
       "4 Y          N         1020         Marinaside Crescent Nelson Street     \n",
       "5 Y          N         1929         W Georgia Street    W Georgia Street  \n",
       "6 N          N          625         Burrard Street      Melville Street   \n",
       "  NSStreet            NeighbourhoodName\n",
       "1 Valley Drive        Arbutus-Ridge    \n",
       "2 MacDonald Street    Arbutus-Ridge    \n",
       "3 Carrall Street      Downtown         \n",
       "4 Marinaside Crescent Downtown         \n",
       "5 Denman Street       Downtown         \n",
       "6 Burrard Street      Downtown         \n",
       "  NeighbourhoodURL                                      Hectare\n",
       "1 https://vancouver.ca/news-calendar/arbutus-ridge.aspx 1.41   \n",
       "2 https://vancouver.ca/news-calendar/arbutus-ridge.aspx 0.09   \n",
       "3 https://vancouver.ca/news-calendar/downtown.aspx      4.21   \n",
       "4 https://vancouver.ca/news-calendar/downtown.aspx      1.71   \n",
       "5 https://vancouver.ca/news-calendar/downtown.aspx      4.42   \n",
       "6 https://vancouver.ca/news-calendar/downtown.aspx      0.10   \n",
       "  GoogleMapDest         \n",
       "1 49.249783, -123.15525 \n",
       "2 49.247723, -123.168194\n",
       "3 49.278923, -123.1055  \n",
       "4 49.273253, -123.1139  \n",
       "5 49.294353, -123.134654\n",
       "6 49.285911, -123.120948"
      ]
     },
     "metadata": {},
     "output_type": "display_data"
    }
   ],
   "source": [
    "head(parks)"
   ]
  },
  {
   "cell_type": "markdown",
   "metadata": {},
   "source": [
    "## Clicker 5: \n",
    "\n",
    "Check the file named ***penguins.csv*** and ***penguins2.csv*** in your worksheet1 data. What are the differences that you can spot?\n",
    "\n",
    "1) penguins.csv have column headers, and penguins2.csv don't have column headers.\n",
    "\n",
    "2) penguins.csv have , as the delimiter, and penguins2.csv have ; as the delimiter.\n",
    "\n",
    "3) penguins2.csv have some rows at the end that are not part of the column data.\n",
    "\n",
    "A) 1, 2 and 3\n",
    "\n",
    "B) 1 and 2\n",
    "\n",
    "C) 1 and 2, but I can spot even more difference(s) that is/are not listed.\n"
   ]
  },
  {
   "cell_type": "markdown",
   "metadata": {},
   "source": [
    "# Clicker 5 - discussion\n",
    "\n",
    "C) 1 and 2, but I can spot even more difference(s) that is/are not listed.\n",
    "\n",
    "**No column headers. Here the delimiter is `;` and decimals are represented by `,` - this format is common in some European countries**\n",
    "\n",
    "**VERY IMPORTANT: Step 1: LOOK AT THE FILE!** 👀"
   ]
  },
  {
   "cell_type": "code",
   "execution_count": 13,
   "metadata": {
    "vscode": {
     "languageId": "r"
    }
   },
   "outputs": [
    {
     "data": {
      "text/html": [
       "32.8703703703704"
      ],
      "text/latex": [
       "32.8703703703704"
      ],
      "text/markdown": [
       "32.8703703703704"
      ],
      "text/plain": [
       "[1] 32.87037"
      ]
     },
     "metadata": {},
     "output_type": "display_data"
    }
   ],
   "source": [
    "#glimpse(washrooms)\n",
    "#glimpse(parks)\n",
    "\n",
    "# find distinct parkID in washrooms\n",
    "parks_w_washrooms <- distinct(washrooms, ParkID) |> nrow()\n",
    "# find distinct parkID in parks\n",
    "total_parks <- parks |> distinct(ParkID) |> nrow()\n",
    "perc_parks_w_washroom <- parks_w_washrooms / total_parks * 100\n",
    "\n",
    "perc_parks_w_washroom"
   ]
  },
  {
   "cell_type": "markdown",
   "metadata": {},
   "source": [
    "Now let's revisit parks data set. \n",
    "> Question: We are interested only in 2 neighbourhoods. \"Downtown\" and \"Dunbar-Southlands\". Can you help me filter the data that we are interested in?"
   ]
  },
  {
   "cell_type": "markdown",
   "metadata": {},
   "source": [
    "# Clicker 5\n",
    "\n",
    "Which dplyr verb should I use to filter the data?\n",
    "\n",
    "- A) select\n",
    "- B) filter\n",
    "- C) arrange\n",
    "- D) mutate"
   ]
  },
  {
   "cell_type": "markdown",
   "metadata": {},
   "source": [
    "# Clicker 5 - discussion\n",
    "filter() is the verb that you should use to filter the data. "
   ]
  },
  {
   "cell_type": "code",
   "execution_count": null,
   "metadata": {
    "vscode": {
     "languageId": "r"
    }
   },
   "outputs": [],
   "source": [
    "filter(parks,)"
   ]
  },
  {
   "cell_type": "code",
   "execution_count": 34,
   "metadata": {
    "vscode": {
     "languageId": "r"
    }
   },
   "outputs": [
    {
     "data": {
      "text/html": [
       "<table class=\"dataframe\">\n",
       "<caption>A tibble: 6 x 15</caption>\n",
       "<thead>\n",
       "\t<tr><th scope=col>ParkID</th><th scope=col>Name</th><th scope=col>Official</th><th scope=col>Advisories</th><th scope=col>SpecialFeatures</th><th scope=col>Facilities</th><th scope=col>Washrooms</th><th scope=col>StreetNumber</th><th scope=col>StreetName</th><th scope=col>EWStreet</th><th scope=col>NSStreet</th><th scope=col>NeighbourhoodName</th><th scope=col>NeighbourhoodURL</th><th scope=col>Hectare</th><th scope=col>GoogleMapDest</th></tr>\n",
       "\t<tr><th scope=col>&lt;dbl&gt;</th><th scope=col>&lt;chr&gt;</th><th scope=col>&lt;dbl&gt;</th><th scope=col>&lt;chr&gt;</th><th scope=col>&lt;chr&gt;</th><th scope=col>&lt;chr&gt;</th><th scope=col>&lt;chr&gt;</th><th scope=col>&lt;dbl&gt;</th><th scope=col>&lt;chr&gt;</th><th scope=col>&lt;chr&gt;</th><th scope=col>&lt;chr&gt;</th><th scope=col>&lt;chr&gt;</th><th scope=col>&lt;chr&gt;</th><th scope=col>&lt;dbl&gt;</th><th scope=col>&lt;chr&gt;</th></tr>\n",
       "</thead>\n",
       "<tbody>\n",
       "\t<tr><td>10</td><td>Andy Livingstone Park </td><td>1</td><td>N</td><td>N</td><td>Y</td><td>Y</td><td>  89</td><td>Expo Boulevard     </td><td>Expo Boulevard  </td><td>Carrall Street     </td><td>Downtown</td><td>https://vancouver.ca/news-calendar/downtown.aspx</td><td>4.21</td><td>49.278923, -123.1055  </td></tr>\n",
       "\t<tr><td>14</td><td>Coopers' Park         </td><td>1</td><td>N</td><td>Y</td><td>Y</td><td>N</td><td>1020</td><td>Marinaside Crescent</td><td>Nelson Street   </td><td>Marinaside Crescent</td><td>Downtown</td><td>https://vancouver.ca/news-calendar/downtown.aspx</td><td>1.71</td><td>49.273253, -123.1139  </td></tr>\n",
       "\t<tr><td>18</td><td>Devonian Harbour Park </td><td>1</td><td>N</td><td>Y</td><td>Y</td><td>N</td><td>1929</td><td>W Georgia Street   </td><td>W Georgia Street</td><td>Denman Street      </td><td>Downtown</td><td>https://vancouver.ca/news-calendar/downtown.aspx</td><td>4.42</td><td>49.294353, -123.134654</td></tr>\n",
       "\t<tr><td>19</td><td>Art Phillips Park     </td><td>1</td><td>N</td><td>N</td><td>N</td><td>N</td><td> 625</td><td>Burrard Street     </td><td>Melville Street </td><td>Burrard Street     </td><td>Downtown</td><td>https://vancouver.ca/news-calendar/downtown.aspx</td><td>0.10</td><td>49.285911, -123.120948</td></tr>\n",
       "\t<tr><td>23</td><td>Helmcken Park         </td><td>1</td><td>N</td><td>N</td><td>N</td><td>N</td><td>1103</td><td>Pacific Boulevard  </td><td>Helmcken Street </td><td>Pacific Boulevard  </td><td>Downtown</td><td>https://vancouver.ca/news-calendar/downtown.aspx</td><td>0.17</td><td>49.274814, -123.119555</td></tr>\n",
       "\t<tr><td>25</td><td>May &amp; Lorne Brown Park</td><td>1</td><td>N</td><td>N</td><td>N</td><td>N</td><td> 801</td><td><span style=white-space:pre-wrap>Beach Avenue       </span></td><td><span style=white-space:pre-wrap>Beach Avenue    </span></td><td><span style=white-space:pre-wrap>Hornby Street      </span></td><td>Downtown</td><td>https://vancouver.ca/news-calendar/downtown.aspx</td><td>0.25</td><td>49.275188, -123.132046</td></tr>\n",
       "</tbody>\n",
       "</table>\n"
      ],
      "text/latex": [
       "A tibble: 6 x 15\n",
       "\\begin{tabular}{lllllllllllllll}\n",
       " ParkID & Name & Official & Advisories & SpecialFeatures & Facilities & Washrooms & StreetNumber & StreetName & EWStreet & NSStreet & NeighbourhoodName & NeighbourhoodURL & Hectare & GoogleMapDest\\\\\n",
       " <dbl> & <chr> & <dbl> & <chr> & <chr> & <chr> & <chr> & <dbl> & <chr> & <chr> & <chr> & <chr> & <chr> & <dbl> & <chr>\\\\\n",
       "\\hline\n",
       "\t 10 & Andy Livingstone Park  & 1 & N & N & Y & Y &   89 & Expo Boulevard      & Expo Boulevard   & Carrall Street      & Downtown & https://vancouver.ca/news-calendar/downtown.aspx & 4.21 & 49.278923, -123.1055  \\\\\n",
       "\t 14 & Coopers' Park          & 1 & N & Y & Y & N & 1020 & Marinaside Crescent & Nelson Street    & Marinaside Crescent & Downtown & https://vancouver.ca/news-calendar/downtown.aspx & 1.71 & 49.273253, -123.1139  \\\\\n",
       "\t 18 & Devonian Harbour Park  & 1 & N & Y & Y & N & 1929 & W Georgia Street    & W Georgia Street & Denman Street       & Downtown & https://vancouver.ca/news-calendar/downtown.aspx & 4.42 & 49.294353, -123.134654\\\\\n",
       "\t 19 & Art Phillips Park      & 1 & N & N & N & N &  625 & Burrard Street      & Melville Street  & Burrard Street      & Downtown & https://vancouver.ca/news-calendar/downtown.aspx & 0.10 & 49.285911, -123.120948\\\\\n",
       "\t 23 & Helmcken Park          & 1 & N & N & N & N & 1103 & Pacific Boulevard   & Helmcken Street  & Pacific Boulevard   & Downtown & https://vancouver.ca/news-calendar/downtown.aspx & 0.17 & 49.274814, -123.119555\\\\\n",
       "\t 25 & May \\& Lorne Brown Park & 1 & N & N & N & N &  801 & Beach Avenue        & Beach Avenue     & Hornby Street       & Downtown & https://vancouver.ca/news-calendar/downtown.aspx & 0.25 & 49.275188, -123.132046\\\\\n",
       "\\end{tabular}\n"
      ],
      "text/markdown": [
       "\n",
       "A tibble: 6 x 15\n",
       "\n",
       "| ParkID &lt;dbl&gt; | Name &lt;chr&gt; | Official &lt;dbl&gt; | Advisories &lt;chr&gt; | SpecialFeatures &lt;chr&gt; | Facilities &lt;chr&gt; | Washrooms &lt;chr&gt; | StreetNumber &lt;dbl&gt; | StreetName &lt;chr&gt; | EWStreet &lt;chr&gt; | NSStreet &lt;chr&gt; | NeighbourhoodName &lt;chr&gt; | NeighbourhoodURL &lt;chr&gt; | Hectare &lt;dbl&gt; | GoogleMapDest &lt;chr&gt; |\n",
       "|---|---|---|---|---|---|---|---|---|---|---|---|---|---|---|\n",
       "| 10 | Andy Livingstone Park  | 1 | N | N | Y | Y |   89 | Expo Boulevard      | Expo Boulevard   | Carrall Street      | Downtown | https://vancouver.ca/news-calendar/downtown.aspx | 4.21 | 49.278923, -123.1055   |\n",
       "| 14 | Coopers' Park          | 1 | N | Y | Y | N | 1020 | Marinaside Crescent | Nelson Street    | Marinaside Crescent | Downtown | https://vancouver.ca/news-calendar/downtown.aspx | 1.71 | 49.273253, -123.1139   |\n",
       "| 18 | Devonian Harbour Park  | 1 | N | Y | Y | N | 1929 | W Georgia Street    | W Georgia Street | Denman Street       | Downtown | https://vancouver.ca/news-calendar/downtown.aspx | 4.42 | 49.294353, -123.134654 |\n",
       "| 19 | Art Phillips Park      | 1 | N | N | N | N |  625 | Burrard Street      | Melville Street  | Burrard Street      | Downtown | https://vancouver.ca/news-calendar/downtown.aspx | 0.10 | 49.285911, -123.120948 |\n",
       "| 23 | Helmcken Park          | 1 | N | N | N | N | 1103 | Pacific Boulevard   | Helmcken Street  | Pacific Boulevard   | Downtown | https://vancouver.ca/news-calendar/downtown.aspx | 0.17 | 49.274814, -123.119555 |\n",
       "| 25 | May &amp; Lorne Brown Park | 1 | N | N | N | N |  801 | Beach Avenue        | Beach Avenue     | Hornby Street       | Downtown | https://vancouver.ca/news-calendar/downtown.aspx | 0.25 | 49.275188, -123.132046 |\n",
       "\n"
      ],
      "text/plain": [
       "  ParkID Name                   Official Advisories SpecialFeatures Facilities\n",
       "1 10     Andy Livingstone Park  1        N          N               Y         \n",
       "2 14     Coopers' Park          1        N          Y               Y         \n",
       "3 18     Devonian Harbour Park  1        N          Y               Y         \n",
       "4 19     Art Phillips Park      1        N          N               N         \n",
       "5 23     Helmcken Park          1        N          N               N         \n",
       "6 25     May & Lorne Brown Park 1        N          N               N         \n",
       "  Washrooms StreetNumber StreetName          EWStreet        \n",
       "1 Y           89         Expo Boulevard      Expo Boulevard  \n",
       "2 N         1020         Marinaside Crescent Nelson Street   \n",
       "3 N         1929         W Georgia Street    W Georgia Street\n",
       "4 N          625         Burrard Street      Melville Street \n",
       "5 N         1103         Pacific Boulevard   Helmcken Street \n",
       "6 N          801         Beach Avenue        Beach Avenue    \n",
       "  NSStreet            NeighbourhoodName\n",
       "1 Carrall Street      Downtown         \n",
       "2 Marinaside Crescent Downtown         \n",
       "3 Denman Street       Downtown         \n",
       "4 Burrard Street      Downtown         \n",
       "5 Pacific Boulevard   Downtown         \n",
       "6 Hornby Street       Downtown         \n",
       "  NeighbourhoodURL                                 Hectare\n",
       "1 https://vancouver.ca/news-calendar/downtown.aspx 4.21   \n",
       "2 https://vancouver.ca/news-calendar/downtown.aspx 1.71   \n",
       "3 https://vancouver.ca/news-calendar/downtown.aspx 4.42   \n",
       "4 https://vancouver.ca/news-calendar/downtown.aspx 0.10   \n",
       "5 https://vancouver.ca/news-calendar/downtown.aspx 0.17   \n",
       "6 https://vancouver.ca/news-calendar/downtown.aspx 0.25   \n",
       "  GoogleMapDest         \n",
       "1 49.278923, -123.1055  \n",
       "2 49.273253, -123.1139  \n",
       "3 49.294353, -123.134654\n",
       "4 49.285911, -123.120948\n",
       "5 49.274814, -123.119555\n",
       "6 49.275188, -123.132046"
      ]
     },
     "metadata": {},
     "output_type": "display_data"
    }
   ],
   "source": [
    "parks |> filter(NeighbourhoodName %in% c(\"Downtown\", \"Dunbar-Southlands\")) |> head()"
   ]
  },
  {
   "cell_type": "code",
   "execution_count": 35,
   "metadata": {
    "vscode": {
     "languageId": "r"
    }
   },
   "outputs": [
    {
     "data": {
      "text/html": [
       "<table class=\"dataframe\">\n",
       "<caption>A tibble: 6 x 15</caption>\n",
       "<thead>\n",
       "\t<tr><th scope=col>ParkID</th><th scope=col>Name</th><th scope=col>Official</th><th scope=col>Advisories</th><th scope=col>SpecialFeatures</th><th scope=col>Facilities</th><th scope=col>Washrooms</th><th scope=col>StreetNumber</th><th scope=col>StreetName</th><th scope=col>EWStreet</th><th scope=col>NSStreet</th><th scope=col>NeighbourhoodName</th><th scope=col>NeighbourhoodURL</th><th scope=col>Hectare</th><th scope=col>GoogleMapDest</th></tr>\n",
       "\t<tr><th scope=col>&lt;dbl&gt;</th><th scope=col>&lt;chr&gt;</th><th scope=col>&lt;dbl&gt;</th><th scope=col>&lt;chr&gt;</th><th scope=col>&lt;chr&gt;</th><th scope=col>&lt;chr&gt;</th><th scope=col>&lt;chr&gt;</th><th scope=col>&lt;dbl&gt;</th><th scope=col>&lt;chr&gt;</th><th scope=col>&lt;chr&gt;</th><th scope=col>&lt;chr&gt;</th><th scope=col>&lt;chr&gt;</th><th scope=col>&lt;chr&gt;</th><th scope=col>&lt;dbl&gt;</th><th scope=col>&lt;chr&gt;</th></tr>\n",
       "</thead>\n",
       "<tbody>\n",
       "\t<tr><td> 1</td><td>Arbutus Village Park    </td><td>1</td><td>N</td><td>N</td><td>Y</td><td>N</td><td>4202</td><td>Valley Drive       </td><td>King Edward Avenue</td><td>Valley Drive       </td><td>Arbutus-Ridge</td><td>https://vancouver.ca/news-calendar/arbutus-ridge.aspx</td><td>1.41</td><td>49.249783, -123.15525 </td></tr>\n",
       "\t<tr><td> 4</td><td>Park Site on Puget Drive</td><td>0</td><td>N</td><td>N</td><td>N</td><td>N</td><td>4309</td><td>Puget Drive        </td><td>Puget Drive       </td><td>MacDonald Street   </td><td>Arbutus-Ridge</td><td>https://vancouver.ca/news-calendar/arbutus-ridge.aspx</td><td>0.09</td><td>49.247723, -123.168194</td></tr>\n",
       "\t<tr><td>10</td><td>Andy Livingstone Park   </td><td>1</td><td>N</td><td>N</td><td>Y</td><td>Y</td><td>  89</td><td>Expo Boulevard     </td><td>Expo Boulevard    </td><td>Carrall Street     </td><td>Downtown     </td><td>https://vancouver.ca/news-calendar/downtown.aspx     </td><td>4.21</td><td>49.278923, -123.1055  </td></tr>\n",
       "\t<tr><td>14</td><td>Coopers' Park           </td><td>1</td><td>N</td><td>Y</td><td>Y</td><td>N</td><td>1020</td><td>Marinaside Crescent</td><td>Nelson Street     </td><td>Marinaside Crescent</td><td>Downtown     </td><td>https://vancouver.ca/news-calendar/downtown.aspx     </td><td>1.71</td><td>49.273253, -123.1139  </td></tr>\n",
       "\t<tr><td>18</td><td>Devonian Harbour Park   </td><td>1</td><td>N</td><td>Y</td><td>Y</td><td>N</td><td>1929</td><td>W Georgia Street   </td><td>W Georgia Street  </td><td>Denman Street      </td><td>Downtown     </td><td>https://vancouver.ca/news-calendar/downtown.aspx     </td><td>4.42</td><td>49.294353, -123.134654</td></tr>\n",
       "\t<tr><td>19</td><td>Art Phillips Park       </td><td>1</td><td>N</td><td>N</td><td>N</td><td>N</td><td> 625</td><td>Burrard Street     </td><td>Melville Street   </td><td>Burrard Street     </td><td>Downtown     </td><td>https://vancouver.ca/news-calendar/downtown.aspx     </td><td>0.10</td><td>49.285911, -123.120948</td></tr>\n",
       "</tbody>\n",
       "</table>\n"
      ],
      "text/latex": [
       "A tibble: 6 x 15\n",
       "\\begin{tabular}{lllllllllllllll}\n",
       " ParkID & Name & Official & Advisories & SpecialFeatures & Facilities & Washrooms & StreetNumber & StreetName & EWStreet & NSStreet & NeighbourhoodName & NeighbourhoodURL & Hectare & GoogleMapDest\\\\\n",
       " <dbl> & <chr> & <dbl> & <chr> & <chr> & <chr> & <chr> & <dbl> & <chr> & <chr> & <chr> & <chr> & <chr> & <dbl> & <chr>\\\\\n",
       "\\hline\n",
       "\t  1 & Arbutus Village Park     & 1 & N & N & Y & N & 4202 & Valley Drive        & King Edward Avenue & Valley Drive        & Arbutus-Ridge & https://vancouver.ca/news-calendar/arbutus-ridge.aspx & 1.41 & 49.249783, -123.15525 \\\\\n",
       "\t  4 & Park Site on Puget Drive & 0 & N & N & N & N & 4309 & Puget Drive         & Puget Drive        & MacDonald Street    & Arbutus-Ridge & https://vancouver.ca/news-calendar/arbutus-ridge.aspx & 0.09 & 49.247723, -123.168194\\\\\n",
       "\t 10 & Andy Livingstone Park    & 1 & N & N & Y & Y &   89 & Expo Boulevard      & Expo Boulevard     & Carrall Street      & Downtown      & https://vancouver.ca/news-calendar/downtown.aspx      & 4.21 & 49.278923, -123.1055  \\\\\n",
       "\t 14 & Coopers' Park            & 1 & N & Y & Y & N & 1020 & Marinaside Crescent & Nelson Street      & Marinaside Crescent & Downtown      & https://vancouver.ca/news-calendar/downtown.aspx      & 1.71 & 49.273253, -123.1139  \\\\\n",
       "\t 18 & Devonian Harbour Park    & 1 & N & Y & Y & N & 1929 & W Georgia Street    & W Georgia Street   & Denman Street       & Downtown      & https://vancouver.ca/news-calendar/downtown.aspx      & 4.42 & 49.294353, -123.134654\\\\\n",
       "\t 19 & Art Phillips Park        & 1 & N & N & N & N &  625 & Burrard Street      & Melville Street    & Burrard Street      & Downtown      & https://vancouver.ca/news-calendar/downtown.aspx      & 0.10 & 49.285911, -123.120948\\\\\n",
       "\\end{tabular}\n"
      ],
      "text/markdown": [
       "\n",
       "A tibble: 6 x 15\n",
       "\n",
       "| ParkID &lt;dbl&gt; | Name &lt;chr&gt; | Official &lt;dbl&gt; | Advisories &lt;chr&gt; | SpecialFeatures &lt;chr&gt; | Facilities &lt;chr&gt; | Washrooms &lt;chr&gt; | StreetNumber &lt;dbl&gt; | StreetName &lt;chr&gt; | EWStreet &lt;chr&gt; | NSStreet &lt;chr&gt; | NeighbourhoodName &lt;chr&gt; | NeighbourhoodURL &lt;chr&gt; | Hectare &lt;dbl&gt; | GoogleMapDest &lt;chr&gt; |\n",
       "|---|---|---|---|---|---|---|---|---|---|---|---|---|---|---|\n",
       "|  1 | Arbutus Village Park     | 1 | N | N | Y | N | 4202 | Valley Drive        | King Edward Avenue | Valley Drive        | Arbutus-Ridge | https://vancouver.ca/news-calendar/arbutus-ridge.aspx | 1.41 | 49.249783, -123.15525  |\n",
       "|  4 | Park Site on Puget Drive | 0 | N | N | N | N | 4309 | Puget Drive         | Puget Drive        | MacDonald Street    | Arbutus-Ridge | https://vancouver.ca/news-calendar/arbutus-ridge.aspx | 0.09 | 49.247723, -123.168194 |\n",
       "| 10 | Andy Livingstone Park    | 1 | N | N | Y | Y |   89 | Expo Boulevard      | Expo Boulevard     | Carrall Street      | Downtown      | https://vancouver.ca/news-calendar/downtown.aspx      | 4.21 | 49.278923, -123.1055   |\n",
       "| 14 | Coopers' Park            | 1 | N | Y | Y | N | 1020 | Marinaside Crescent | Nelson Street      | Marinaside Crescent | Downtown      | https://vancouver.ca/news-calendar/downtown.aspx      | 1.71 | 49.273253, -123.1139   |\n",
       "| 18 | Devonian Harbour Park    | 1 | N | Y | Y | N | 1929 | W Georgia Street    | W Georgia Street   | Denman Street       | Downtown      | https://vancouver.ca/news-calendar/downtown.aspx      | 4.42 | 49.294353, -123.134654 |\n",
       "| 19 | Art Phillips Park        | 1 | N | N | N | N |  625 | Burrard Street      | Melville Street    | Burrard Street      | Downtown      | https://vancouver.ca/news-calendar/downtown.aspx      | 0.10 | 49.285911, -123.120948 |\n",
       "\n"
      ],
      "text/plain": [
       "  ParkID Name                     Official Advisories SpecialFeatures\n",
       "1  1     Arbutus Village Park     1        N          N              \n",
       "2  4     Park Site on Puget Drive 0        N          N              \n",
       "3 10     Andy Livingstone Park    1        N          N              \n",
       "4 14     Coopers' Park            1        N          Y              \n",
       "5 18     Devonian Harbour Park    1        N          Y              \n",
       "6 19     Art Phillips Park        1        N          N              \n",
       "  Facilities Washrooms StreetNumber StreetName          EWStreet          \n",
       "1 Y          N         4202         Valley Drive        King Edward Avenue\n",
       "2 N          N         4309         Puget Drive         Puget Drive       \n",
       "3 Y          Y           89         Expo Boulevard      Expo Boulevard    \n",
       "4 Y          N         1020         Marinaside Crescent Nelson Street     \n",
       "5 Y          N         1929         W Georgia Street    W Georgia Street  \n",
       "6 N          N          625         Burrard Street      Melville Street   \n",
       "  NSStreet            NeighbourhoodName\n",
       "1 Valley Drive        Arbutus-Ridge    \n",
       "2 MacDonald Street    Arbutus-Ridge    \n",
       "3 Carrall Street      Downtown         \n",
       "4 Marinaside Crescent Downtown         \n",
       "5 Denman Street       Downtown         \n",
       "6 Burrard Street      Downtown         \n",
       "  NeighbourhoodURL                                      Hectare\n",
       "1 https://vancouver.ca/news-calendar/arbutus-ridge.aspx 1.41   \n",
       "2 https://vancouver.ca/news-calendar/arbutus-ridge.aspx 0.09   \n",
       "3 https://vancouver.ca/news-calendar/downtown.aspx      4.21   \n",
       "4 https://vancouver.ca/news-calendar/downtown.aspx      1.71   \n",
       "5 https://vancouver.ca/news-calendar/downtown.aspx      4.42   \n",
       "6 https://vancouver.ca/news-calendar/downtown.aspx      0.10   \n",
       "  GoogleMapDest         \n",
       "1 49.249783, -123.15525 \n",
       "2 49.247723, -123.168194\n",
       "3 49.278923, -123.1055  \n",
       "4 49.273253, -123.1139  \n",
       "5 49.294353, -123.134654\n",
       "6 49.285911, -123.120948"
      ]
     },
     "metadata": {},
     "output_type": "display_data"
    }
   ],
   "source": [
    "parks |> head()\n",
    "# assign back !!! Important"
   ]
  },
  {
   "cell_type": "markdown",
   "metadata": {},
   "source": [
    "Okay now let's look into a dataframe called patients."
   ]
  },
  {
   "cell_type": "code",
   "execution_count": 48,
   "metadata": {
    "vscode": {
     "languageId": "r"
    }
   },
   "outputs": [
    {
     "data": {
      "text/html": [
       "<table class=\"dataframe\">\n",
       "<caption>A tibble: 3 x 7</caption>\n",
       "<thead>\n",
       "\t<tr><th scope=col>assay</th><th scope=col>E2348</th><th scope=col>E2349</th><th scope=col>E2350</th><th scope=col>E2351</th><th scope=col>E2352</th><th scope=col>E2353</th></tr>\n",
       "\t<tr><th scope=col>&lt;chr&gt;</th><th scope=col>&lt;dbl&gt;</th><th scope=col>&lt;dbl&gt;</th><th scope=col>&lt;dbl&gt;</th><th scope=col>&lt;dbl&gt;</th><th scope=col>&lt;dbl&gt;</th><th scope=col>&lt;dbl&gt;</th></tr>\n",
       "</thead>\n",
       "<tbody>\n",
       "\t<tr><td>ferritin       </td><td> 14</td><td>  8</td><td> 31</td><td>44</td><td> 27</td><td> 12</td></tr>\n",
       "\t<tr><td>hemoglobin     </td><td>122</td><td>103</td><td>144</td><td>98</td><td>125</td><td>131</td></tr>\n",
       "\t<tr><td>iron deficiency</td><td>  0</td><td>  1</td><td>  0</td><td> 0</td><td>  0</td><td>  0</td></tr>\n",
       "</tbody>\n",
       "</table>\n"
      ],
      "text/latex": [
       "A tibble: 3 x 7\n",
       "\\begin{tabular}{lllllll}\n",
       " assay & E2348 & E2349 & E2350 & E2351 & E2352 & E2353\\\\\n",
       " <chr> & <dbl> & <dbl> & <dbl> & <dbl> & <dbl> & <dbl>\\\\\n",
       "\\hline\n",
       "\t ferritin        &  14 &   8 &  31 & 44 &  27 &  12\\\\\n",
       "\t hemoglobin      & 122 & 103 & 144 & 98 & 125 & 131\\\\\n",
       "\t iron deficiency &   0 &   1 &   0 &  0 &   0 &   0\\\\\n",
       "\\end{tabular}\n"
      ],
      "text/markdown": [
       "\n",
       "A tibble: 3 x 7\n",
       "\n",
       "| assay &lt;chr&gt; | E2348 &lt;dbl&gt; | E2349 &lt;dbl&gt; | E2350 &lt;dbl&gt; | E2351 &lt;dbl&gt; | E2352 &lt;dbl&gt; | E2353 &lt;dbl&gt; |\n",
       "|---|---|---|---|---|---|---|\n",
       "| ferritin        |  14 |   8 |  31 | 44 |  27 |  12 |\n",
       "| hemoglobin      | 122 | 103 | 144 | 98 | 125 | 131 |\n",
       "| iron deficiency |   0 |   1 |   0 |  0 |   0 |   0 |\n",
       "\n"
      ],
      "text/plain": [
       "  assay           E2348 E2349 E2350 E2351 E2352 E2353\n",
       "1 ferritin         14     8    31   44     27    12  \n",
       "2 hemoglobin      122   103   144   98    125   131  \n",
       "3 iron deficiency   0     1     0    0      0     0  "
      ]
     },
     "metadata": {},
     "output_type": "display_data"
    }
   ],
   "source": [
    "library(dplyr)\n",
    "patients <- tibble(assay= c(\"ferritin\", \"hemoglobin\", \"iron deficiency\"), \n",
    "       E2348 = c(14, 122, 0),\n",
    "       E2349 = c(8, 103, 1),\n",
    "       E2350 = c(31, 144, 0),\n",
    "       E2351 = c(44, 98, 0),\n",
    "       E2352 = c(27, 125, 0),\n",
    "       E2353 = c(12, 131, 0))\n",
    "\n",
    "patients"
   ]
  },
  {
   "cell_type": "markdown",
   "metadata": {},
   "source": [
    "# Iclicker 6: Who thinks its tidy already?\n",
    "\n",
    "- A) Yes, it's tidy\n",
    "- B) No, it's not tidy\n",
    "\n",
    "Discussion: Discuss with your neighbour to see how we can make this above dataframe tidy (well if it is not already tidy). "
   ]
  },
  {
   "cell_type": "markdown",
   "metadata": {},
   "source": [
    "# Iclicker 6: discussion\n",
    "\n",
    "> each row is a single observation,\n",
    "\n",
    "Remember the 3 principles of tidy data:\n",
    "\n",
    "- each row is a single observation,\n",
    "\n",
    "- each variable is a single column, and\n",
    "\n",
    "- each value is a single cell (i.e., its row, column position in the data frame is not shared with another value)"
   ]
  },
  {
   "cell_type": "markdown",
   "metadata": {
    "vscode": {
     "languageId": "r"
    }
   },
   "source": [
    "https://www.garrickadenbuie.com/project/tidyexplain/#pivot-wider-and-longer"
   ]
  },
  {
   "cell_type": "code",
   "execution_count": 22,
   "metadata": {
    "vscode": {
     "languageId": "r"
    }
   },
   "outputs": [
    {
     "data": {
      "text/html": [
       "<table class=\"dataframe\">\n",
       "<caption>A tibble: 18 x 3</caption>\n",
       "<thead>\n",
       "\t<tr><th scope=col>assay</th><th scope=col>patient</th><th scope=col>value</th></tr>\n",
       "\t<tr><th scope=col>&lt;chr&gt;</th><th scope=col>&lt;chr&gt;</th><th scope=col>&lt;dbl&gt;</th></tr>\n",
       "</thead>\n",
       "<tbody>\n",
       "\t<tr><td>ferritin       </td><td>E2348</td><td> 14</td></tr>\n",
       "\t<tr><td>ferritin       </td><td>E2349</td><td>  8</td></tr>\n",
       "\t<tr><td>ferritin       </td><td>E2350</td><td> 31</td></tr>\n",
       "\t<tr><td>ferritin       </td><td>E2351</td><td> 44</td></tr>\n",
       "\t<tr><td>ferritin       </td><td>E2352</td><td> 27</td></tr>\n",
       "\t<tr><td>ferritin       </td><td>E2353</td><td> 12</td></tr>\n",
       "\t<tr><td>hemoglobin     </td><td>E2348</td><td>122</td></tr>\n",
       "\t<tr><td>hemoglobin     </td><td>E2349</td><td>103</td></tr>\n",
       "\t<tr><td>hemoglobin     </td><td>E2350</td><td>144</td></tr>\n",
       "\t<tr><td>hemoglobin     </td><td>E2351</td><td> 98</td></tr>\n",
       "\t<tr><td>hemoglobin     </td><td>E2352</td><td>125</td></tr>\n",
       "\t<tr><td>hemoglobin     </td><td>E2353</td><td>131</td></tr>\n",
       "\t<tr><td>iron deficiency</td><td>E2348</td><td>  0</td></tr>\n",
       "\t<tr><td>iron deficiency</td><td>E2349</td><td>  1</td></tr>\n",
       "\t<tr><td>iron deficiency</td><td>E2350</td><td>  0</td></tr>\n",
       "\t<tr><td>iron deficiency</td><td>E2351</td><td>  0</td></tr>\n",
       "\t<tr><td>iron deficiency</td><td>E2352</td><td>  0</td></tr>\n",
       "\t<tr><td>iron deficiency</td><td>E2353</td><td>  0</td></tr>\n",
       "</tbody>\n",
       "</table>\n"
      ],
      "text/latex": [
       "A tibble: 18 x 3\n",
       "\\begin{tabular}{lll}\n",
       " assay & patient & value\\\\\n",
       " <chr> & <chr> & <dbl>\\\\\n",
       "\\hline\n",
       "\t ferritin        & E2348 &  14\\\\\n",
       "\t ferritin        & E2349 &   8\\\\\n",
       "\t ferritin        & E2350 &  31\\\\\n",
       "\t ferritin        & E2351 &  44\\\\\n",
       "\t ferritin        & E2352 &  27\\\\\n",
       "\t ferritin        & E2353 &  12\\\\\n",
       "\t hemoglobin      & E2348 & 122\\\\\n",
       "\t hemoglobin      & E2349 & 103\\\\\n",
       "\t hemoglobin      & E2350 & 144\\\\\n",
       "\t hemoglobin      & E2351 &  98\\\\\n",
       "\t hemoglobin      & E2352 & 125\\\\\n",
       "\t hemoglobin      & E2353 & 131\\\\\n",
       "\t iron deficiency & E2348 &   0\\\\\n",
       "\t iron deficiency & E2349 &   1\\\\\n",
       "\t iron deficiency & E2350 &   0\\\\\n",
       "\t iron deficiency & E2351 &   0\\\\\n",
       "\t iron deficiency & E2352 &   0\\\\\n",
       "\t iron deficiency & E2353 &   0\\\\\n",
       "\\end{tabular}\n"
      ],
      "text/markdown": [
       "\n",
       "A tibble: 18 x 3\n",
       "\n",
       "| assay &lt;chr&gt; | patient &lt;chr&gt; | value &lt;dbl&gt; |\n",
       "|---|---|---|\n",
       "| ferritin        | E2348 |  14 |\n",
       "| ferritin        | E2349 |   8 |\n",
       "| ferritin        | E2350 |  31 |\n",
       "| ferritin        | E2351 |  44 |\n",
       "| ferritin        | E2352 |  27 |\n",
       "| ferritin        | E2353 |  12 |\n",
       "| hemoglobin      | E2348 | 122 |\n",
       "| hemoglobin      | E2349 | 103 |\n",
       "| hemoglobin      | E2350 | 144 |\n",
       "| hemoglobin      | E2351 |  98 |\n",
       "| hemoglobin      | E2352 | 125 |\n",
       "| hemoglobin      | E2353 | 131 |\n",
       "| iron deficiency | E2348 |   0 |\n",
       "| iron deficiency | E2349 |   1 |\n",
       "| iron deficiency | E2350 |   0 |\n",
       "| iron deficiency | E2351 |   0 |\n",
       "| iron deficiency | E2352 |   0 |\n",
       "| iron deficiency | E2353 |   0 |\n",
       "\n"
      ],
      "text/plain": [
       "   assay           patient value\n",
       "1  ferritin        E2348    14  \n",
       "2  ferritin        E2349     8  \n",
       "3  ferritin        E2350    31  \n",
       "4  ferritin        E2351    44  \n",
       "5  ferritin        E2352    27  \n",
       "6  ferritin        E2353    12  \n",
       "7  hemoglobin      E2348   122  \n",
       "8  hemoglobin      E2349   103  \n",
       "9  hemoglobin      E2350   144  \n",
       "10 hemoglobin      E2351    98  \n",
       "11 hemoglobin      E2352   125  \n",
       "12 hemoglobin      E2353   131  \n",
       "13 iron deficiency E2348     0  \n",
       "14 iron deficiency E2349     1  \n",
       "15 iron deficiency E2350     0  \n",
       "16 iron deficiency E2351     0  \n",
       "17 iron deficiency E2352     0  \n",
       "18 iron deficiency E2353     0  "
      ]
     },
     "metadata": {},
     "output_type": "display_data"
    }
   ],
   "source": [
    "library(dplyr)\n",
    "patients_longer <- patients |> pivot_longer(cols = c(E2348, E2349, E2350, E2351, E2352, E2353), \n",
    "                         names_to = \"patient\")\n",
    "\n",
    "patients_longer"
   ]
  },
  {
   "cell_type": "code",
   "execution_count": 21,
   "metadata": {
    "vscode": {
     "languageId": "r"
    }
   },
   "outputs": [
    {
     "data": {
      "text/html": [
       "<table class=\"dataframe\">\n",
       "<caption>A tibble: 6 x 4</caption>\n",
       "<thead>\n",
       "\t<tr><th scope=col>patient</th><th scope=col>ferritin</th><th scope=col>hemoglobin</th><th scope=col>iron deficiency</th></tr>\n",
       "\t<tr><th scope=col>&lt;chr&gt;</th><th scope=col>&lt;dbl&gt;</th><th scope=col>&lt;dbl&gt;</th><th scope=col>&lt;dbl&gt;</th></tr>\n",
       "</thead>\n",
       "<tbody>\n",
       "\t<tr><td>E2348</td><td>14</td><td>122</td><td>0</td></tr>\n",
       "\t<tr><td>E2349</td><td> 8</td><td>103</td><td>1</td></tr>\n",
       "\t<tr><td>E2350</td><td>31</td><td>144</td><td>0</td></tr>\n",
       "\t<tr><td>E2351</td><td>44</td><td> 98</td><td>0</td></tr>\n",
       "\t<tr><td>E2352</td><td>27</td><td>125</td><td>0</td></tr>\n",
       "\t<tr><td>E2353</td><td>12</td><td>131</td><td>0</td></tr>\n",
       "</tbody>\n",
       "</table>\n"
      ],
      "text/latex": [
       "A tibble: 6 x 4\n",
       "\\begin{tabular}{llll}\n",
       " patient & ferritin & hemoglobin & iron deficiency\\\\\n",
       " <chr> & <dbl> & <dbl> & <dbl>\\\\\n",
       "\\hline\n",
       "\t E2348 & 14 & 122 & 0\\\\\n",
       "\t E2349 &  8 & 103 & 1\\\\\n",
       "\t E2350 & 31 & 144 & 0\\\\\n",
       "\t E2351 & 44 &  98 & 0\\\\\n",
       "\t E2352 & 27 & 125 & 0\\\\\n",
       "\t E2353 & 12 & 131 & 0\\\\\n",
       "\\end{tabular}\n"
      ],
      "text/markdown": [
       "\n",
       "A tibble: 6 x 4\n",
       "\n",
       "| patient &lt;chr&gt; | ferritin &lt;dbl&gt; | hemoglobin &lt;dbl&gt; | iron deficiency &lt;dbl&gt; |\n",
       "|---|---|---|---|\n",
       "| E2348 | 14 | 122 | 0 |\n",
       "| E2349 |  8 | 103 | 1 |\n",
       "| E2350 | 31 | 144 | 0 |\n",
       "| E2351 | 44 |  98 | 0 |\n",
       "| E2352 | 27 | 125 | 0 |\n",
       "| E2353 | 12 | 131 | 0 |\n",
       "\n"
      ],
      "text/plain": [
       "  patient ferritin hemoglobin iron deficiency\n",
       "1 E2348   14       122        0              \n",
       "2 E2349    8       103        1              \n",
       "3 E2350   31       144        0              \n",
       "4 E2351   44        98        0              \n",
       "5 E2352   27       125        0              \n",
       "6 E2353   12       131        0              "
      ]
     },
     "metadata": {},
     "output_type": "display_data"
    }
   ],
   "source": [
    "patients_just_right <- patients_longer |> pivot_wider(names_from = assay,\n",
    "                               values_from = value)\n",
    "\n",
    "patients_just_right"
   ]
  },
  {
   "cell_type": "markdown",
   "metadata": {},
   "source": []
  }
 ],
 "metadata": {
  "celltoolbar": "Slideshow",
  "kernelspec": {
   "display_name": "R",
   "language": "R",
   "name": "ir"
  },
  "language_info": {
   "codemirror_mode": "r",
   "file_extension": ".r",
   "mimetype": "text/x-r-source",
   "name": "R",
   "pygments_lexer": "r",
   "version": "4.4.1"
  },
  "rise": {
   "transition": "fade"
  }
 },
 "nbformat": 4,
 "nbformat_minor": 4
}
